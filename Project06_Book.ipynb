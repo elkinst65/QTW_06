{
 "cells": [
  {
   "cell_type": "code",
   "execution_count": 1,
   "metadata": {
    "collapsed": false,
    "deletable": true,
    "editable": true
   },
   "outputs": [],
   "source": [
    "txt = readLines(\"offline.final.trace.txt\")"
   ]
  },
  {
   "cell_type": "code",
   "execution_count": 2,
   "metadata": {
    "collapsed": false,
    "deletable": true,
    "editable": true
   },
   "outputs": [
    {
     "data": {
      "text/html": [
       "5312"
      ],
      "text/latex": [
       "5312"
      ],
      "text/markdown": [
       "5312"
      ],
      "text/plain": [
       "[1] 5312"
      ]
     },
     "metadata": {},
     "output_type": "display_data"
    }
   ],
   "source": [
    "sum(substr(txt,1,1) == \"#\")"
   ]
  },
  {
   "cell_type": "code",
   "execution_count": 3,
   "metadata": {
    "collapsed": false,
    "deletable": true,
    "editable": true
   },
   "outputs": [
    {
     "data": {
      "text/html": [
       "151392"
      ],
      "text/latex": [
       "151392"
      ],
      "text/markdown": [
       "151392"
      ],
      "text/plain": [
       "[1] 151392"
      ]
     },
     "metadata": {},
     "output_type": "display_data"
    }
   ],
   "source": [
    "length(txt)"
   ]
  },
  {
   "cell_type": "code",
   "execution_count": 4,
   "metadata": {
    "collapsed": false,
    "deletable": true,
    "editable": true
   },
   "outputs": [
    {
     "data": {
      "text/html": [
       "<ol class=list-inline>\n",
       "\t<li>'t=1139643118358'</li>\n",
       "\t<li>'id=00:02:2D:21:0F:33'</li>\n",
       "\t<li>'pos=0.0,0.0,0.0'</li>\n",
       "\t<li>'degree=0.0'</li>\n",
       "\t<li>'00:14:bf:b1:97:8a=-38,2437000000,3'</li>\n",
       "\t<li>'00:14:bf:b1:97:90=-56,2427000000,3'</li>\n",
       "\t<li>'00:0f:a3:39:e1:c0=-53,2462000000,3'</li>\n",
       "\t<li>'00:14:bf:b1:97:8d=-65,2442000000,3'</li>\n",
       "\t<li>'00:14:bf:b1:97:81=-65,2422000000,3'</li>\n",
       "\t<li>'00:14:bf:3b:c7:c6=-66,2432000000,3'</li>\n",
       "\t<li>'00:0f:a3:39:dd:cd=-75,2412000000,3'</li>\n",
       "\t<li>'00:0f:a3:39:e0:4b=-78,2462000000,3'</li>\n",
       "\t<li>'00:0f:a3:39:e2:10=-87,2437000000,3'</li>\n",
       "\t<li>'02:64:fb:68:52:e6=-88,2447000000,1'</li>\n",
       "\t<li>'02:00:42:55:31:00=-84,2457000000,1'</li>\n",
       "</ol>\n"
      ],
      "text/latex": [
       "\\begin{enumerate*}\n",
       "\\item 't=1139643118358'\n",
       "\\item 'id=00:02:2D:21:0F:33'\n",
       "\\item 'pos=0.0,0.0,0.0'\n",
       "\\item 'degree=0.0'\n",
       "\\item '00:14:bf:b1:97:8a=-38,2437000000,3'\n",
       "\\item '00:14:bf:b1:97:90=-56,2427000000,3'\n",
       "\\item '00:0f:a3:39:e1:c0=-53,2462000000,3'\n",
       "\\item '00:14:bf:b1:97:8d=-65,2442000000,3'\n",
       "\\item '00:14:bf:b1:97:81=-65,2422000000,3'\n",
       "\\item '00:14:bf:3b:c7:c6=-66,2432000000,3'\n",
       "\\item '00:0f:a3:39:dd:cd=-75,2412000000,3'\n",
       "\\item '00:0f:a3:39:e0:4b=-78,2462000000,3'\n",
       "\\item '00:0f:a3:39:e2:10=-87,2437000000,3'\n",
       "\\item '02:64:fb:68:52:e6=-88,2447000000,1'\n",
       "\\item '02:00:42:55:31:00=-84,2457000000,1'\n",
       "\\end{enumerate*}\n"
      ],
      "text/markdown": [
       "1. 't=1139643118358'\n",
       "2. 'id=00:02:2D:21:0F:33'\n",
       "3. 'pos=0.0,0.0,0.0'\n",
       "4. 'degree=0.0'\n",
       "5. '00:14:bf:b1:97:8a=-38,2437000000,3'\n",
       "6. '00:14:bf:b1:97:90=-56,2427000000,3'\n",
       "7. '00:0f:a3:39:e1:c0=-53,2462000000,3'\n",
       "8. '00:14:bf:b1:97:8d=-65,2442000000,3'\n",
       "9. '00:14:bf:b1:97:81=-65,2422000000,3'\n",
       "10. '00:14:bf:3b:c7:c6=-66,2432000000,3'\n",
       "11. '00:0f:a3:39:dd:cd=-75,2412000000,3'\n",
       "12. '00:0f:a3:39:e0:4b=-78,2462000000,3'\n",
       "13. '00:0f:a3:39:e2:10=-87,2437000000,3'\n",
       "14. '02:64:fb:68:52:e6=-88,2447000000,1'\n",
       "15. '02:00:42:55:31:00=-84,2457000000,1'\n",
       "\n",
       "\n"
      ],
      "text/plain": [
       " [1] \"t=1139643118358\"                    \"id=00:02:2D:21:0F:33\"              \n",
       " [3] \"pos=0.0,0.0,0.0\"                    \"degree=0.0\"                        \n",
       " [5] \"00:14:bf:b1:97:8a=-38,2437000000,3\" \"00:14:bf:b1:97:90=-56,2427000000,3\"\n",
       " [7] \"00:0f:a3:39:e1:c0=-53,2462000000,3\" \"00:14:bf:b1:97:8d=-65,2442000000,3\"\n",
       " [9] \"00:14:bf:b1:97:81=-65,2422000000,3\" \"00:14:bf:3b:c7:c6=-66,2432000000,3\"\n",
       "[11] \"00:0f:a3:39:dd:cd=-75,2412000000,3\" \"00:0f:a3:39:e0:4b=-78,2462000000,3\"\n",
       "[13] \"00:0f:a3:39:e2:10=-87,2437000000,3\" \"02:64:fb:68:52:e6=-88,2447000000,1\"\n",
       "[15] \"02:00:42:55:31:00=-84,2457000000,1\""
      ]
     },
     "metadata": {},
     "output_type": "display_data"
    }
   ],
   "source": [
    "strsplit(txt[4],\";\")[[1]]"
   ]
  },
  {
   "cell_type": "code",
   "execution_count": 5,
   "metadata": {
    "collapsed": false,
    "deletable": true,
    "editable": true
   },
   "outputs": [
    {
     "data": {
      "text/html": [
       "<dl class=dl-horizontal>\n",
       "\t<dt>t</dt>\n",
       "\t\t<dd>'t'</dd>\n",
       "\t<dt>1139643118358</dt>\n",
       "\t\t<dd>'1139643118358'</dd>\n",
       "\t<dt>id</dt>\n",
       "\t\t<dd>'id'</dd>\n",
       "\t<dt>00:02:2D:21:0F:33</dt>\n",
       "\t\t<dd>'00:02:2D:21:0F:33'</dd>\n",
       "\t<dt>pos</dt>\n",
       "\t\t<dd>'pos'</dd>\n",
       "\t<dt>0.0,0.0,0.01</dt>\n",
       "\t\t<dd>'0.0'</dd>\n",
       "\t<dt>0.0,0.0,0.02</dt>\n",
       "\t\t<dd>'0.0'</dd>\n",
       "\t<dt>0.0,0.0,0.03</dt>\n",
       "\t\t<dd>'0.0'</dd>\n",
       "\t<dt>degree</dt>\n",
       "\t\t<dd>'degree'</dd>\n",
       "\t<dt>0.0</dt>\n",
       "\t\t<dd>'0.0'</dd>\n",
       "\t<dt>00:14:bf:b1:97:8a</dt>\n",
       "\t\t<dd>'00:14:bf:b1:97:8a'</dd>\n",
       "\t<dt>-38,2437000000,31</dt>\n",
       "\t\t<dd>'-38'</dd>\n",
       "\t<dt>-38,2437000000,32</dt>\n",
       "\t\t<dd>'2437000000'</dd>\n",
       "\t<dt>-38,2437000000,33</dt>\n",
       "\t\t<dd>'3'</dd>\n",
       "\t<dt>00:14:bf:b1:97:90</dt>\n",
       "\t\t<dd>'00:14:bf:b1:97:90'</dd>\n",
       "\t<dt>-56,2427000000,31</dt>\n",
       "\t\t<dd>'-56'</dd>\n",
       "\t<dt>-56,2427000000,32</dt>\n",
       "\t\t<dd>'2427000000'</dd>\n",
       "\t<dt>-56,2427000000,33</dt>\n",
       "\t\t<dd>'3'</dd>\n",
       "\t<dt>00:0f:a3:39:e1:c0</dt>\n",
       "\t\t<dd>'00:0f:a3:39:e1:c0'</dd>\n",
       "\t<dt>-53,2462000000,31</dt>\n",
       "\t\t<dd>'-53'</dd>\n",
       "\t<dt>-53,2462000000,32</dt>\n",
       "\t\t<dd>'2462000000'</dd>\n",
       "\t<dt>-53,2462000000,33</dt>\n",
       "\t\t<dd>'3'</dd>\n",
       "\t<dt>00:14:bf:b1:97:8d</dt>\n",
       "\t\t<dd>'00:14:bf:b1:97:8d'</dd>\n",
       "\t<dt>-65,2442000000,31</dt>\n",
       "\t\t<dd>'-65'</dd>\n",
       "\t<dt>-65,2442000000,32</dt>\n",
       "\t\t<dd>'2442000000'</dd>\n",
       "\t<dt>-65,2442000000,33</dt>\n",
       "\t\t<dd>'3'</dd>\n",
       "\t<dt>00:14:bf:b1:97:81</dt>\n",
       "\t\t<dd>'00:14:bf:b1:97:81'</dd>\n",
       "\t<dt>-65,2422000000,31</dt>\n",
       "\t\t<dd>'-65'</dd>\n",
       "\t<dt>-65,2422000000,32</dt>\n",
       "\t\t<dd>'2422000000'</dd>\n",
       "\t<dt>-65,2422000000,33</dt>\n",
       "\t\t<dd>'3'</dd>\n",
       "\t<dt>00:14:bf:3b:c7:c6</dt>\n",
       "\t\t<dd>'00:14:bf:3b:c7:c6'</dd>\n",
       "\t<dt>-66,2432000000,31</dt>\n",
       "\t\t<dd>'-66'</dd>\n",
       "\t<dt>-66,2432000000,32</dt>\n",
       "\t\t<dd>'2432000000'</dd>\n",
       "\t<dt>-66,2432000000,33</dt>\n",
       "\t\t<dd>'3'</dd>\n",
       "\t<dt>00:0f:a3:39:dd:cd</dt>\n",
       "\t\t<dd>'00:0f:a3:39:dd:cd'</dd>\n",
       "\t<dt>-75,2412000000,31</dt>\n",
       "\t\t<dd>'-75'</dd>\n",
       "\t<dt>-75,2412000000,32</dt>\n",
       "\t\t<dd>'2412000000'</dd>\n",
       "\t<dt>-75,2412000000,33</dt>\n",
       "\t\t<dd>'3'</dd>\n",
       "\t<dt>00:0f:a3:39:e0:4b</dt>\n",
       "\t\t<dd>'00:0f:a3:39:e0:4b'</dd>\n",
       "\t<dt>-78,2462000000,31</dt>\n",
       "\t\t<dd>'-78'</dd>\n",
       "\t<dt>-78,2462000000,32</dt>\n",
       "\t\t<dd>'2462000000'</dd>\n",
       "\t<dt>-78,2462000000,33</dt>\n",
       "\t\t<dd>'3'</dd>\n",
       "\t<dt>00:0f:a3:39:e2:10</dt>\n",
       "\t\t<dd>'00:0f:a3:39:e2:10'</dd>\n",
       "\t<dt>-87,2437000000,31</dt>\n",
       "\t\t<dd>'-87'</dd>\n",
       "\t<dt>-87,2437000000,32</dt>\n",
       "\t\t<dd>'2437000000'</dd>\n",
       "\t<dt>-87,2437000000,33</dt>\n",
       "\t\t<dd>'3'</dd>\n",
       "\t<dt>02:64:fb:68:52:e6</dt>\n",
       "\t\t<dd>'02:64:fb:68:52:e6'</dd>\n",
       "\t<dt>-88,2447000000,11</dt>\n",
       "\t\t<dd>'-88'</dd>\n",
       "\t<dt>-88,2447000000,12</dt>\n",
       "\t\t<dd>'2447000000'</dd>\n",
       "\t<dt>-88,2447000000,13</dt>\n",
       "\t\t<dd>'1'</dd>\n",
       "\t<dt>02:00:42:55:31:00</dt>\n",
       "\t\t<dd>'02:00:42:55:31:00'</dd>\n",
       "\t<dt>-84,2457000000,11</dt>\n",
       "\t\t<dd>'-84'</dd>\n",
       "\t<dt>-84,2457000000,12</dt>\n",
       "\t\t<dd>'2457000000'</dd>\n",
       "\t<dt>-84,2457000000,13</dt>\n",
       "\t\t<dd>'1'</dd>\n",
       "</dl>\n"
      ],
      "text/latex": [
       "\\begin{description*}\n",
       "\\item[t] 't'\n",
       "\\item[1139643118358] '1139643118358'\n",
       "\\item[id] 'id'\n",
       "\\item[00:02:2D:21:0F:33] '00:02:2D:21:0F:33'\n",
       "\\item[pos] 'pos'\n",
       "\\item[0.0,0.0,0.01] '0.0'\n",
       "\\item[0.0,0.0,0.02] '0.0'\n",
       "\\item[0.0,0.0,0.03] '0.0'\n",
       "\\item[degree] 'degree'\n",
       "\\item[0.0] '0.0'\n",
       "\\item[00:14:bf:b1:97:8a] '00:14:bf:b1:97:8a'\n",
       "\\item[-38,2437000000,31] '-38'\n",
       "\\item[-38,2437000000,32] '2437000000'\n",
       "\\item[-38,2437000000,33] '3'\n",
       "\\item[00:14:bf:b1:97:90] '00:14:bf:b1:97:90'\n",
       "\\item[-56,2427000000,31] '-56'\n",
       "\\item[-56,2427000000,32] '2427000000'\n",
       "\\item[-56,2427000000,33] '3'\n",
       "\\item[00:0f:a3:39:e1:c0] '00:0f:a3:39:e1:c0'\n",
       "\\item[-53,2462000000,31] '-53'\n",
       "\\item[-53,2462000000,32] '2462000000'\n",
       "\\item[-53,2462000000,33] '3'\n",
       "\\item[00:14:bf:b1:97:8d] '00:14:bf:b1:97:8d'\n",
       "\\item[-65,2442000000,31] '-65'\n",
       "\\item[-65,2442000000,32] '2442000000'\n",
       "\\item[-65,2442000000,33] '3'\n",
       "\\item[00:14:bf:b1:97:81] '00:14:bf:b1:97:81'\n",
       "\\item[-65,2422000000,31] '-65'\n",
       "\\item[-65,2422000000,32] '2422000000'\n",
       "\\item[-65,2422000000,33] '3'\n",
       "\\item[00:14:bf:3b:c7:c6] '00:14:bf:3b:c7:c6'\n",
       "\\item[-66,2432000000,31] '-66'\n",
       "\\item[-66,2432000000,32] '2432000000'\n",
       "\\item[-66,2432000000,33] '3'\n",
       "\\item[00:0f:a3:39:dd:cd] '00:0f:a3:39:dd:cd'\n",
       "\\item[-75,2412000000,31] '-75'\n",
       "\\item[-75,2412000000,32] '2412000000'\n",
       "\\item[-75,2412000000,33] '3'\n",
       "\\item[00:0f:a3:39:e0:4b] '00:0f:a3:39:e0:4b'\n",
       "\\item[-78,2462000000,31] '-78'\n",
       "\\item[-78,2462000000,32] '2462000000'\n",
       "\\item[-78,2462000000,33] '3'\n",
       "\\item[00:0f:a3:39:e2:10] '00:0f:a3:39:e2:10'\n",
       "\\item[-87,2437000000,31] '-87'\n",
       "\\item[-87,2437000000,32] '2437000000'\n",
       "\\item[-87,2437000000,33] '3'\n",
       "\\item[02:64:fb:68:52:e6] '02:64:fb:68:52:e6'\n",
       "\\item[-88,2447000000,11] '-88'\n",
       "\\item[-88,2447000000,12] '2447000000'\n",
       "\\item[-88,2447000000,13] '1'\n",
       "\\item[02:00:42:55:31:00] '02:00:42:55:31:00'\n",
       "\\item[-84,2457000000,11] '-84'\n",
       "\\item[-84,2457000000,12] '2457000000'\n",
       "\\item[-84,2457000000,13] '1'\n",
       "\\end{description*}\n"
      ],
      "text/markdown": [
       "t\n",
       ":   't'1139643118358\n",
       ":   '1139643118358'id\n",
       ":   'id'00:02:2D:21:0F:33\n",
       ":   '00:02:2D:21:0F:33'pos\n",
       ":   'pos'0.0,0.0,0.01\n",
       ":   '0.0'0.0,0.0,0.02\n",
       ":   '0.0'0.0,0.0,0.03\n",
       ":   '0.0'degree\n",
       ":   'degree'0.0\n",
       ":   '0.0'00:14:bf:b1:97:8a\n",
       ":   '00:14:bf:b1:97:8a'-38,2437000000,31\n",
       ":   '-38'-38,2437000000,32\n",
       ":   '2437000000'-38,2437000000,33\n",
       ":   '3'00:14:bf:b1:97:90\n",
       ":   '00:14:bf:b1:97:90'-56,2427000000,31\n",
       ":   '-56'-56,2427000000,32\n",
       ":   '2427000000'-56,2427000000,33\n",
       ":   '3'00:0f:a3:39:e1:c0\n",
       ":   '00:0f:a3:39:e1:c0'-53,2462000000,31\n",
       ":   '-53'-53,2462000000,32\n",
       ":   '2462000000'-53,2462000000,33\n",
       ":   '3'00:14:bf:b1:97:8d\n",
       ":   '00:14:bf:b1:97:8d'-65,2442000000,31\n",
       ":   '-65'-65,2442000000,32\n",
       ":   '2442000000'-65,2442000000,33\n",
       ":   '3'00:14:bf:b1:97:81\n",
       ":   '00:14:bf:b1:97:81'-65,2422000000,31\n",
       ":   '-65'-65,2422000000,32\n",
       ":   '2422000000'-65,2422000000,33\n",
       ":   '3'00:14:bf:3b:c7:c6\n",
       ":   '00:14:bf:3b:c7:c6'-66,2432000000,31\n",
       ":   '-66'-66,2432000000,32\n",
       ":   '2432000000'-66,2432000000,33\n",
       ":   '3'00:0f:a3:39:dd:cd\n",
       ":   '00:0f:a3:39:dd:cd'-75,2412000000,31\n",
       ":   '-75'-75,2412000000,32\n",
       ":   '2412000000'-75,2412000000,33\n",
       ":   '3'00:0f:a3:39:e0:4b\n",
       ":   '00:0f:a3:39:e0:4b'-78,2462000000,31\n",
       ":   '-78'-78,2462000000,32\n",
       ":   '2462000000'-78,2462000000,33\n",
       ":   '3'00:0f:a3:39:e2:10\n",
       ":   '00:0f:a3:39:e2:10'-87,2437000000,31\n",
       ":   '-87'-87,2437000000,32\n",
       ":   '2437000000'-87,2437000000,33\n",
       ":   '3'02:64:fb:68:52:e6\n",
       ":   '02:64:fb:68:52:e6'-88,2447000000,11\n",
       ":   '-88'-88,2447000000,12\n",
       ":   '2447000000'-88,2447000000,13\n",
       ":   '1'02:00:42:55:31:00\n",
       ":   '02:00:42:55:31:00'-84,2457000000,11\n",
       ":   '-84'-84,2457000000,12\n",
       ":   '2457000000'-84,2457000000,13\n",
       ":   '1'\n",
       "\n"
      ],
      "text/plain": [
       "                  t       1139643118358                  id   00:02:2D:21:0F:33 \n",
       "                \"t\"     \"1139643118358\"                \"id\" \"00:02:2D:21:0F:33\" \n",
       "                pos        0.0,0.0,0.01        0.0,0.0,0.02        0.0,0.0,0.03 \n",
       "              \"pos\"               \"0.0\"               \"0.0\"               \"0.0\" \n",
       "             degree                 0.0   00:14:bf:b1:97:8a   -38,2437000000,31 \n",
       "           \"degree\"               \"0.0\" \"00:14:bf:b1:97:8a\"               \"-38\" \n",
       "  -38,2437000000,32   -38,2437000000,33   00:14:bf:b1:97:90   -56,2427000000,31 \n",
       "       \"2437000000\"                 \"3\" \"00:14:bf:b1:97:90\"               \"-56\" \n",
       "  -56,2427000000,32   -56,2427000000,33   00:0f:a3:39:e1:c0   -53,2462000000,31 \n",
       "       \"2427000000\"                 \"3\" \"00:0f:a3:39:e1:c0\"               \"-53\" \n",
       "  -53,2462000000,32   -53,2462000000,33   00:14:bf:b1:97:8d   -65,2442000000,31 \n",
       "       \"2462000000\"                 \"3\" \"00:14:bf:b1:97:8d\"               \"-65\" \n",
       "  -65,2442000000,32   -65,2442000000,33   00:14:bf:b1:97:81   -65,2422000000,31 \n",
       "       \"2442000000\"                 \"3\" \"00:14:bf:b1:97:81\"               \"-65\" \n",
       "  -65,2422000000,32   -65,2422000000,33   00:14:bf:3b:c7:c6   -66,2432000000,31 \n",
       "       \"2422000000\"                 \"3\" \"00:14:bf:3b:c7:c6\"               \"-66\" \n",
       "  -66,2432000000,32   -66,2432000000,33   00:0f:a3:39:dd:cd   -75,2412000000,31 \n",
       "       \"2432000000\"                 \"3\" \"00:0f:a3:39:dd:cd\"               \"-75\" \n",
       "  -75,2412000000,32   -75,2412000000,33   00:0f:a3:39:e0:4b   -78,2462000000,31 \n",
       "       \"2412000000\"                 \"3\" \"00:0f:a3:39:e0:4b\"               \"-78\" \n",
       "  -78,2462000000,32   -78,2462000000,33   00:0f:a3:39:e2:10   -87,2437000000,31 \n",
       "       \"2462000000\"                 \"3\" \"00:0f:a3:39:e2:10\"               \"-87\" \n",
       "  -87,2437000000,32   -87,2437000000,33   02:64:fb:68:52:e6   -88,2447000000,11 \n",
       "       \"2437000000\"                 \"3\" \"02:64:fb:68:52:e6\"               \"-88\" \n",
       "  -88,2447000000,12   -88,2447000000,13   02:00:42:55:31:00   -84,2457000000,11 \n",
       "       \"2447000000\"                 \"1\" \"02:00:42:55:31:00\"               \"-84\" \n",
       "  -84,2457000000,12   -84,2457000000,13 \n",
       "       \"2457000000\"                 \"1\" "
      ]
     },
     "metadata": {},
     "output_type": "display_data"
    }
   ],
   "source": [
    "unlist(lapply(strsplit(txt[4],\";\")[[1]],function(x) sapply(strsplit(x,\"=\")[[1]],strsplit,\",\")))"
   ]
  },
  {
   "cell_type": "code",
   "execution_count": 6,
   "metadata": {
    "collapsed": true,
    "deletable": true,
    "editable": true
   },
   "outputs": [],
   "source": [
    "tokens = strsplit(txt[4],\"[;=,]\")[[1]]"
   ]
  },
  {
   "cell_type": "code",
   "execution_count": 7,
   "metadata": {
    "collapsed": false,
    "deletable": true,
    "editable": true
   },
   "outputs": [
    {
     "data": {
      "text/html": [
       "<ol class=list-inline>\n",
       "\t<li>'t'</li>\n",
       "\t<li>'1139643118358'</li>\n",
       "\t<li>'id'</li>\n",
       "\t<li>'00:02:2D:21:0F:33'</li>\n",
       "\t<li>'pos'</li>\n",
       "\t<li>'0.0'</li>\n",
       "\t<li>'0.0'</li>\n",
       "\t<li>'0.0'</li>\n",
       "\t<li>'degree'</li>\n",
       "\t<li>'0.0'</li>\n",
       "</ol>\n"
      ],
      "text/latex": [
       "\\begin{enumerate*}\n",
       "\\item 't'\n",
       "\\item '1139643118358'\n",
       "\\item 'id'\n",
       "\\item '00:02:2D:21:0F:33'\n",
       "\\item 'pos'\n",
       "\\item '0.0'\n",
       "\\item '0.0'\n",
       "\\item '0.0'\n",
       "\\item 'degree'\n",
       "\\item '0.0'\n",
       "\\end{enumerate*}\n"
      ],
      "text/markdown": [
       "1. 't'\n",
       "2. '1139643118358'\n",
       "3. 'id'\n",
       "4. '00:02:2D:21:0F:33'\n",
       "5. 'pos'\n",
       "6. '0.0'\n",
       "7. '0.0'\n",
       "8. '0.0'\n",
       "9. 'degree'\n",
       "10. '0.0'\n",
       "\n",
       "\n"
      ],
      "text/plain": [
       " [1] \"t\"                 \"1139643118358\"     \"id\"               \n",
       " [4] \"00:02:2D:21:0F:33\" \"pos\"               \"0.0\"              \n",
       " [7] \"0.0\"               \"0.0\"               \"degree\"           \n",
       "[10] \"0.0\"              "
      ]
     },
     "metadata": {},
     "output_type": "display_data"
    }
   ],
   "source": [
    "tokens[1:10]"
   ]
  },
  {
   "cell_type": "code",
   "execution_count": 8,
   "metadata": {
    "collapsed": false,
    "deletable": true,
    "editable": true
   },
   "outputs": [
    {
     "data": {
      "text/html": [
       "<ol class=list-inline>\n",
       "\t<li>'1139643118358'</li>\n",
       "\t<li>'00:02:2D:21:0F:33'</li>\n",
       "\t<li>'0.0'</li>\n",
       "\t<li>'0.0'</li>\n",
       "\t<li>'0.0'</li>\n",
       "\t<li>'0.0'</li>\n",
       "</ol>\n"
      ],
      "text/latex": [
       "\\begin{enumerate*}\n",
       "\\item '1139643118358'\n",
       "\\item '00:02:2D:21:0F:33'\n",
       "\\item '0.0'\n",
       "\\item '0.0'\n",
       "\\item '0.0'\n",
       "\\item '0.0'\n",
       "\\end{enumerate*}\n"
      ],
      "text/markdown": [
       "1. '1139643118358'\n",
       "2. '00:02:2D:21:0F:33'\n",
       "3. '0.0'\n",
       "4. '0.0'\n",
       "5. '0.0'\n",
       "6. '0.0'\n",
       "\n",
       "\n"
      ],
      "text/plain": [
       "[1] \"1139643118358\"     \"00:02:2D:21:0F:33\" \"0.0\"              \n",
       "[4] \"0.0\"               \"0.0\"               \"0.0\"              "
      ]
     },
     "metadata": {},
     "output_type": "display_data"
    }
   ],
   "source": [
    "tokens[c(2,4,6:8,10)]"
   ]
  },
  {
   "cell_type": "code",
   "execution_count": 9,
   "metadata": {
    "collapsed": false,
    "deletable": true,
    "editable": true
   },
   "outputs": [
    {
     "data": {
      "text/html": [
       "<ol class=list-inline>\n",
       "\t<li>'00:14:bf:b1:97:8a'</li>\n",
       "\t<li>'-38'</li>\n",
       "\t<li>'2437000000'</li>\n",
       "\t<li>'3'</li>\n",
       "\t<li>'00:14:bf:b1:97:90'</li>\n",
       "\t<li>'-56'</li>\n",
       "\t<li>'2427000000'</li>\n",
       "\t<li>'3'</li>\n",
       "\t<li>'00:0f:a3:39:e1:c0'</li>\n",
       "\t<li>'-53'</li>\n",
       "\t<li>'2462000000'</li>\n",
       "\t<li>'3'</li>\n",
       "\t<li>'00:14:bf:b1:97:8d'</li>\n",
       "\t<li>'-65'</li>\n",
       "\t<li>'2442000000'</li>\n",
       "\t<li>'3'</li>\n",
       "\t<li>'00:14:bf:b1:97:81'</li>\n",
       "\t<li>'-65'</li>\n",
       "\t<li>'2422000000'</li>\n",
       "\t<li>'3'</li>\n",
       "\t<li>'00:14:bf:3b:c7:c6'</li>\n",
       "\t<li>'-66'</li>\n",
       "\t<li>'2432000000'</li>\n",
       "\t<li>'3'</li>\n",
       "\t<li>'00:0f:a3:39:dd:cd'</li>\n",
       "\t<li>'-75'</li>\n",
       "\t<li>'2412000000'</li>\n",
       "\t<li>'3'</li>\n",
       "\t<li>'00:0f:a3:39:e0:4b'</li>\n",
       "\t<li>'-78'</li>\n",
       "\t<li>'2462000000'</li>\n",
       "\t<li>'3'</li>\n",
       "\t<li>'00:0f:a3:39:e2:10'</li>\n",
       "\t<li>'-87'</li>\n",
       "\t<li>'2437000000'</li>\n",
       "\t<li>'3'</li>\n",
       "\t<li>'02:64:fb:68:52:e6'</li>\n",
       "\t<li>'-88'</li>\n",
       "\t<li>'2447000000'</li>\n",
       "\t<li>'1'</li>\n",
       "\t<li>'02:00:42:55:31:00'</li>\n",
       "\t<li>'-84'</li>\n",
       "\t<li>'2457000000'</li>\n",
       "\t<li>'1'</li>\n",
       "</ol>\n"
      ],
      "text/latex": [
       "\\begin{enumerate*}\n",
       "\\item '00:14:bf:b1:97:8a'\n",
       "\\item '-38'\n",
       "\\item '2437000000'\n",
       "\\item '3'\n",
       "\\item '00:14:bf:b1:97:90'\n",
       "\\item '-56'\n",
       "\\item '2427000000'\n",
       "\\item '3'\n",
       "\\item '00:0f:a3:39:e1:c0'\n",
       "\\item '-53'\n",
       "\\item '2462000000'\n",
       "\\item '3'\n",
       "\\item '00:14:bf:b1:97:8d'\n",
       "\\item '-65'\n",
       "\\item '2442000000'\n",
       "\\item '3'\n",
       "\\item '00:14:bf:b1:97:81'\n",
       "\\item '-65'\n",
       "\\item '2422000000'\n",
       "\\item '3'\n",
       "\\item '00:14:bf:3b:c7:c6'\n",
       "\\item '-66'\n",
       "\\item '2432000000'\n",
       "\\item '3'\n",
       "\\item '00:0f:a3:39:dd:cd'\n",
       "\\item '-75'\n",
       "\\item '2412000000'\n",
       "\\item '3'\n",
       "\\item '00:0f:a3:39:e0:4b'\n",
       "\\item '-78'\n",
       "\\item '2462000000'\n",
       "\\item '3'\n",
       "\\item '00:0f:a3:39:e2:10'\n",
       "\\item '-87'\n",
       "\\item '2437000000'\n",
       "\\item '3'\n",
       "\\item '02:64:fb:68:52:e6'\n",
       "\\item '-88'\n",
       "\\item '2447000000'\n",
       "\\item '1'\n",
       "\\item '02:00:42:55:31:00'\n",
       "\\item '-84'\n",
       "\\item '2457000000'\n",
       "\\item '1'\n",
       "\\end{enumerate*}\n"
      ],
      "text/markdown": [
       "1. '00:14:bf:b1:97:8a'\n",
       "2. '-38'\n",
       "3. '2437000000'\n",
       "4. '3'\n",
       "5. '00:14:bf:b1:97:90'\n",
       "6. '-56'\n",
       "7. '2427000000'\n",
       "8. '3'\n",
       "9. '00:0f:a3:39:e1:c0'\n",
       "10. '-53'\n",
       "11. '2462000000'\n",
       "12. '3'\n",
       "13. '00:14:bf:b1:97:8d'\n",
       "14. '-65'\n",
       "15. '2442000000'\n",
       "16. '3'\n",
       "17. '00:14:bf:b1:97:81'\n",
       "18. '-65'\n",
       "19. '2422000000'\n",
       "20. '3'\n",
       "21. '00:14:bf:3b:c7:c6'\n",
       "22. '-66'\n",
       "23. '2432000000'\n",
       "24. '3'\n",
       "25. '00:0f:a3:39:dd:cd'\n",
       "26. '-75'\n",
       "27. '2412000000'\n",
       "28. '3'\n",
       "29. '00:0f:a3:39:e0:4b'\n",
       "30. '-78'\n",
       "31. '2462000000'\n",
       "32. '3'\n",
       "33. '00:0f:a3:39:e2:10'\n",
       "34. '-87'\n",
       "35. '2437000000'\n",
       "36. '3'\n",
       "37. '02:64:fb:68:52:e6'\n",
       "38. '-88'\n",
       "39. '2447000000'\n",
       "40. '1'\n",
       "41. '02:00:42:55:31:00'\n",
       "42. '-84'\n",
       "43. '2457000000'\n",
       "44. '1'\n",
       "\n",
       "\n"
      ],
      "text/plain": [
       " [1] \"00:14:bf:b1:97:8a\" \"-38\"               \"2437000000\"       \n",
       " [4] \"3\"                 \"00:14:bf:b1:97:90\" \"-56\"              \n",
       " [7] \"2427000000\"        \"3\"                 \"00:0f:a3:39:e1:c0\"\n",
       "[10] \"-53\"               \"2462000000\"        \"3\"                \n",
       "[13] \"00:14:bf:b1:97:8d\" \"-65\"               \"2442000000\"       \n",
       "[16] \"3\"                 \"00:14:bf:b1:97:81\" \"-65\"              \n",
       "[19] \"2422000000\"        \"3\"                 \"00:14:bf:3b:c7:c6\"\n",
       "[22] \"-66\"               \"2432000000\"        \"3\"                \n",
       "[25] \"00:0f:a3:39:dd:cd\" \"-75\"               \"2412000000\"       \n",
       "[28] \"3\"                 \"00:0f:a3:39:e0:4b\" \"-78\"              \n",
       "[31] \"2462000000\"        \"3\"                 \"00:0f:a3:39:e2:10\"\n",
       "[34] \"-87\"               \"2437000000\"        \"3\"                \n",
       "[37] \"02:64:fb:68:52:e6\" \"-88\"               \"2447000000\"       \n",
       "[40] \"1\"                 \"02:00:42:55:31:00\" \"-84\"              \n",
       "[43] \"2457000000\"        \"1\"                "
      ]
     },
     "metadata": {},
     "output_type": "display_data"
    }
   ],
   "source": [
    "tokens[-(1:10)]"
   ]
  },
  {
   "cell_type": "code",
   "execution_count": 10,
   "metadata": {
    "collapsed": true,
    "deletable": true,
    "editable": true
   },
   "outputs": [],
   "source": [
    "tmp = matrix(tokens[ - (1:10)], ncol=4, byrow=TRUE)\n",
    "mat = cbind(matrix(tokens[c(2,4,6:8,10)], nrow=nrow(tmp),ncol=6,byrow=TRUE),tmp)"
   ]
  },
  {
   "cell_type": "code",
   "execution_count": 11,
   "metadata": {
    "collapsed": false,
    "deletable": true,
    "editable": true
   },
   "outputs": [
    {
     "data": {
      "text/html": [
       "<ol class=list-inline>\n",
       "\t<li>11</li>\n",
       "\t<li>10</li>\n",
       "</ol>\n"
      ],
      "text/latex": [
       "\\begin{enumerate*}\n",
       "\\item 11\n",
       "\\item 10\n",
       "\\end{enumerate*}\n"
      ],
      "text/markdown": [
       "1. 11\n",
       "2. 10\n",
       "\n",
       "\n"
      ],
      "text/plain": [
       "[1] 11 10"
      ]
     },
     "metadata": {},
     "output_type": "display_data"
    }
   ],
   "source": [
    "dim(mat)"
   ]
  },
  {
   "cell_type": "code",
   "execution_count": 12,
   "metadata": {
    "collapsed": true,
    "deletable": true,
    "editable": true
   },
   "outputs": [],
   "source": [
    "processLine =\n",
    "function(x)\n",
    "    {\n",
    "    tokens=strsplit(x,\"[;=,]\")[[1]]\n",
    "    tmp = matrix(tokens[ - (1:10)], ncol=4, byrow=TRUE)\n",
    "    mat = cbind(matrix(tokens[c(2,4,6:8,10)], nrow=nrow(tmp),ncol=6,byrow=TRUE),tmp)\n",
    "}\n",
    "\n",
    "tmp=lapply(txt[4:20],processLine)"
   ]
  },
  {
   "cell_type": "code",
   "execution_count": 13,
   "metadata": {
    "collapsed": false,
    "deletable": true,
    "editable": true
   },
   "outputs": [
    {
     "data": {
      "text/html": [
       "<ol class=list-inline>\n",
       "\t<li>11</li>\n",
       "\t<li>10</li>\n",
       "\t<li>10</li>\n",
       "\t<li>11</li>\n",
       "\t<li>9</li>\n",
       "\t<li>10</li>\n",
       "\t<li>9</li>\n",
       "\t<li>9</li>\n",
       "\t<li>10</li>\n",
       "\t<li>11</li>\n",
       "\t<li>11</li>\n",
       "\t<li>9</li>\n",
       "\t<li>9</li>\n",
       "\t<li>9</li>\n",
       "\t<li>8</li>\n",
       "\t<li>10</li>\n",
       "\t<li>14</li>\n",
       "</ol>\n"
      ],
      "text/latex": [
       "\\begin{enumerate*}\n",
       "\\item 11\n",
       "\\item 10\n",
       "\\item 10\n",
       "\\item 11\n",
       "\\item 9\n",
       "\\item 10\n",
       "\\item 9\n",
       "\\item 9\n",
       "\\item 10\n",
       "\\item 11\n",
       "\\item 11\n",
       "\\item 9\n",
       "\\item 9\n",
       "\\item 9\n",
       "\\item 8\n",
       "\\item 10\n",
       "\\item 14\n",
       "\\end{enumerate*}\n"
      ],
      "text/markdown": [
       "1. 11\n",
       "2. 10\n",
       "3. 10\n",
       "4. 11\n",
       "5. 9\n",
       "6. 10\n",
       "7. 9\n",
       "8. 9\n",
       "9. 10\n",
       "10. 11\n",
       "11. 11\n",
       "12. 9\n",
       "13. 9\n",
       "14. 9\n",
       "15. 8\n",
       "16. 10\n",
       "17. 14\n",
       "\n",
       "\n"
      ],
      "text/plain": [
       " [1] 11 10 10 11  9 10  9  9 10 11 11  9  9  9  8 10 14"
      ]
     },
     "metadata": {},
     "output_type": "display_data"
    }
   ],
   "source": [
    "sapply(tmp,nrow)"
   ]
  },
  {
   "cell_type": "code",
   "execution_count": 14,
   "metadata": {
    "collapsed": false,
    "deletable": true,
    "editable": true
   },
   "outputs": [
    {
     "data": {
      "text/html": [
       "<ol class=list-inline>\n",
       "\t<li>170</li>\n",
       "\t<li>10</li>\n",
       "</ol>\n"
      ],
      "text/latex": [
       "\\begin{enumerate*}\n",
       "\\item 170\n",
       "\\item 10\n",
       "\\end{enumerate*}\n"
      ],
      "text/markdown": [
       "1. 170\n",
       "2. 10\n",
       "\n",
       "\n"
      ],
      "text/plain": [
       "[1] 170  10"
      ]
     },
     "metadata": {},
     "output_type": "display_data"
    }
   ],
   "source": [
    "offline = as.data.frame(do.call(\"rbind\",tmp))\n",
    "dim(offline)"
   ]
  },
  {
   "cell_type": "code",
   "execution_count": 15,
   "metadata": {
    "collapsed": false,
    "deletable": true,
    "editable": true
   },
   "outputs": [
    {
     "name": "stderr",
     "output_type": "stream",
     "text": [
      "Warning message in matrix(tokens[c(2, 4, 6:8, 10)], nrow = nrow(tmp), ncol = 6, :\n",
      "\"data length exceeds size of matrix\"Warning message in matrix(tokens[c(2, 4, 6:8, 10)], nrow = nrow(tmp), ncol = 6, :\n",
      "\"data length exceeds size of matrix\"Warning message in matrix(tokens[c(2, 4, 6:8, 10)], nrow = nrow(tmp), ncol = 6, :\n",
      "\"data length exceeds size of matrix\"Warning message in matrix(tokens[c(2, 4, 6:8, 10)], nrow = nrow(tmp), ncol = 6, :\n",
      "\"data length exceeds size of matrix\"Warning message in matrix(tokens[c(2, 4, 6:8, 10)], nrow = nrow(tmp), ncol = 6, :\n",
      "\"data length exceeds size of matrix\"Warning message in matrix(tokens[c(2, 4, 6:8, 10)], nrow = nrow(tmp), ncol = 6, :\n",
      "\"data length exceeds size of matrix\""
     ]
    }
   ],
   "source": [
    "lines = txt[substr(txt,1,1) != \"#\"]\n",
    "tmp = lapply(lines,processLine)"
   ]
  },
  {
   "cell_type": "code",
   "execution_count": 16,
   "metadata": {
    "collapsed": false,
    "deletable": true,
    "editable": true
   },
   "outputs": [
    {
     "name": "stderr",
     "output_type": "stream",
     "text": [
      "Warning message in matrix(tokens[c(2, 4, 6:8, 10)], nrow = nrow(tmp), ncol = 6, :\n",
      "\"data length exceeds size of matrix\"Warning message in matrix(tokens[c(2, 4, 6:8, 10)], nrow = nrow(tmp), ncol = 6, :\n",
      "\"data length exceeds size of matrix\"Warning message in matrix(tokens[c(2, 4, 6:8, 10)], nrow = nrow(tmp), ncol = 6, :\n",
      "\"data length exceeds size of matrix\"Warning message in matrix(tokens[c(2, 4, 6:8, 10)], nrow = nrow(tmp), ncol = 6, :\n",
      "\"data length exceeds size of matrix\"Warning message in matrix(tokens[c(2, 4, 6:8, 10)], nrow = nrow(tmp), ncol = 6, :\n",
      "\"data length exceeds size of matrix\"Warning message in matrix(tokens[c(2, 4, 6:8, 10)], nrow = nrow(tmp), ncol = 6, :\n",
      "\"data length exceeds size of matrix\""
     ]
    }
   ],
   "source": [
    "options(error=recover, warn=2)\n",
    "tmp = lapply(lines,processLine)"
   ]
  },
  {
   "cell_type": "code",
   "execution_count": 17,
   "metadata": {
    "collapsed": true,
    "deletable": true,
    "editable": true
   },
   "outputs": [],
   "source": [
    "processLine =\n",
    "function(x)\n",
    "    {\n",
    "    tokens=strsplit(x,\"[;=,]\")[[1]]\n",
    "    if (length(tokens) == 10)\n",
    "        return(NULL)\n",
    "        \n",
    "    tmp = matrix(tokens[ - (1:10)], ncol=4, byrow=TRUE)\n",
    "    mat = cbind(matrix(tokens[c(2,4,6:8,10)], nrow=nrow(tmp),ncol=6,byrow=TRUE),tmp)\n",
    "}\n",
    "\n",
    "tmp=lapply(lines,processLine)\n",
    "offline = as.data.frame(do.call(\"rbind\",tmp),stringsAsFactors = FALSE)"
   ]
  },
  {
   "cell_type": "code",
   "execution_count": 18,
   "metadata": {
    "collapsed": false,
    "deletable": true,
    "editable": true
   },
   "outputs": [
    {
     "data": {
      "text/html": [
       "<ol class=list-inline>\n",
       "\t<li>1181628</li>\n",
       "\t<li>10</li>\n",
       "</ol>\n"
      ],
      "text/latex": [
       "\\begin{enumerate*}\n",
       "\\item 1181628\n",
       "\\item 10\n",
       "\\end{enumerate*}\n"
      ],
      "text/markdown": [
       "1. 1181628\n",
       "2. 10\n",
       "\n",
       "\n"
      ],
      "text/plain": [
       "[1] 1181628      10"
      ]
     },
     "metadata": {},
     "output_type": "display_data"
    }
   ],
   "source": [
    "dim(offline)"
   ]
  },
  {
   "cell_type": "code",
   "execution_count": 19,
   "metadata": {
    "collapsed": true,
    "deletable": true,
    "editable": true
   },
   "outputs": [],
   "source": [
    "names(offline) = c(\"time\", \"scanMac\", \"posX\", \"posY\", \"posZ\", \"orientation\", \"mac\", \"signal\", \"channel\", \"type\")"
   ]
  },
  {
   "cell_type": "code",
   "execution_count": 20,
   "metadata": {
    "collapsed": true,
    "deletable": true,
    "editable": true
   },
   "outputs": [],
   "source": [
    "numVars = c(\"time\", \"posX\", \"posY\", \"posZ\", \"orientation\", \"signal\")\n",
    "offline[numVars] = lapply(offline[numVars], as.numeric)"
   ]
  },
  {
   "cell_type": "code",
   "execution_count": 21,
   "metadata": {
    "collapsed": false,
    "deletable": true,
    "editable": true
   },
   "outputs": [
    {
     "data": {
      "text/html": [
       "<ol class=list-inline>\n",
       "\t<li>978443</li>\n",
       "\t<li>9</li>\n",
       "</ol>\n"
      ],
      "text/latex": [
       "\\begin{enumerate*}\n",
       "\\item 978443\n",
       "\\item 9\n",
       "\\end{enumerate*}\n"
      ],
      "text/markdown": [
       "1. 978443\n",
       "2. 9\n",
       "\n",
       "\n"
      ],
      "text/plain": [
       "[1] 978443      9"
      ]
     },
     "metadata": {},
     "output_type": "display_data"
    }
   ],
   "source": [
    "offline = offline[ offline$type == \"3\", ]\n",
    "offline = offline[, \"type\" != names(offline) ]\n",
    "dim(offline)"
   ]
  },
  {
   "cell_type": "code",
   "execution_count": 22,
   "metadata": {
    "collapsed": true,
    "deletable": true,
    "editable": true
   },
   "outputs": [],
   "source": [
    "offline$rawTime = offline$time\n",
    "offline$time = offline$time / 1000\n",
    "class(offline$time) = c(\"POSIXt\", \"POSIXct\")\n",
    "offline$power = 10^(offline$signal/10)"
   ]
  },
  {
   "cell_type": "code",
   "execution_count": 23,
   "metadata": {
    "collapsed": false,
    "deletable": true,
    "editable": true
   },
   "outputs": [
    {
     "data": {
      "text/html": [
       "<dl class=dl-horizontal>\n",
       "\t<dt>time1</dt>\n",
       "\t\t<dd>'POSIXt'</dd>\n",
       "\t<dt>time2</dt>\n",
       "\t\t<dd>'POSIXct'</dd>\n",
       "\t<dt>scanMac</dt>\n",
       "\t\t<dd>'character'</dd>\n",
       "\t<dt>posX</dt>\n",
       "\t\t<dd>'numeric'</dd>\n",
       "\t<dt>posY</dt>\n",
       "\t\t<dd>'numeric'</dd>\n",
       "\t<dt>posZ</dt>\n",
       "\t\t<dd>'numeric'</dd>\n",
       "\t<dt>orientation</dt>\n",
       "\t\t<dd>'numeric'</dd>\n",
       "\t<dt>mac</dt>\n",
       "\t\t<dd>'character'</dd>\n",
       "\t<dt>signal</dt>\n",
       "\t\t<dd>'numeric'</dd>\n",
       "\t<dt>channel</dt>\n",
       "\t\t<dd>'character'</dd>\n",
       "\t<dt>rawTime</dt>\n",
       "\t\t<dd>'numeric'</dd>\n",
       "\t<dt>power</dt>\n",
       "\t\t<dd>'numeric'</dd>\n",
       "</dl>\n"
      ],
      "text/latex": [
       "\\begin{description*}\n",
       "\\item[time1] 'POSIXt'\n",
       "\\item[time2] 'POSIXct'\n",
       "\\item[scanMac] 'character'\n",
       "\\item[posX] 'numeric'\n",
       "\\item[posY] 'numeric'\n",
       "\\item[posZ] 'numeric'\n",
       "\\item[orientation] 'numeric'\n",
       "\\item[mac] 'character'\n",
       "\\item[signal] 'numeric'\n",
       "\\item[channel] 'character'\n",
       "\\item[rawTime] 'numeric'\n",
       "\\item[power] 'numeric'\n",
       "\\end{description*}\n"
      ],
      "text/markdown": [
       "time1\n",
       ":   'POSIXt'time2\n",
       ":   'POSIXct'scanMac\n",
       ":   'character'posX\n",
       ":   'numeric'posY\n",
       ":   'numeric'posZ\n",
       ":   'numeric'orientation\n",
       ":   'numeric'mac\n",
       ":   'character'signal\n",
       ":   'numeric'channel\n",
       ":   'character'rawTime\n",
       ":   'numeric'power\n",
       ":   'numeric'\n",
       "\n"
      ],
      "text/plain": [
       "      time1       time2     scanMac        posX        posY        posZ \n",
       "   \"POSIXt\"   \"POSIXct\" \"character\"   \"numeric\"   \"numeric\"   \"numeric\" \n",
       "orientation         mac      signal     channel     rawTime       power \n",
       "  \"numeric\" \"character\"   \"numeric\" \"character\"   \"numeric\"   \"numeric\" "
      ]
     },
     "metadata": {},
     "output_type": "display_data"
    }
   ],
   "source": [
    "unlist(lapply(offline,class))"
   ]
  },
  {
   "cell_type": "code",
   "execution_count": 24,
   "metadata": {
    "collapsed": false,
    "deletable": true,
    "editable": true
   },
   "outputs": [
    {
     "data": {
      "text/plain": [
       "      time                          posX            posY             posZ  \n",
       " Min.   :2006-02-11 00:31:58   Min.   : 0.00   Min.   : 0.000   Min.   :0  \n",
       " 1st Qu.:2006-02-11 06:21:27   1st Qu.: 2.00   1st Qu.: 3.000   1st Qu.:0  \n",
       " Median :2006-02-11 12:57:58   Median :12.00   Median : 6.000   Median :0  \n",
       " Mean   :2006-02-16 07:57:37   Mean   :13.52   Mean   : 5.897   Mean   :0  \n",
       " 3rd Qu.:2006-02-19 07:52:40   3rd Qu.:23.00   3rd Qu.: 8.000   3rd Qu.:0  \n",
       " Max.   :2006-03-09 13:41:10   Max.   :33.00   Max.   :13.000   Max.   :0  \n",
       "  orientation        signal     \n",
       " Min.   :  0.0   Min.   :-99.0  \n",
       " 1st Qu.: 90.0   1st Qu.:-69.0  \n",
       " Median :180.0   Median :-60.0  \n",
       " Mean   :167.2   Mean   :-61.7  \n",
       " 3rd Qu.:270.0   3rd Qu.:-53.0  \n",
       " Max.   :359.9   Max.   :-25.0  "
      ]
     },
     "metadata": {},
     "output_type": "display_data"
    }
   ],
   "source": [
    "summary(offline[,numVars])"
   ]
  },
  {
   "cell_type": "code",
   "execution_count": 25,
   "metadata": {
    "collapsed": false,
    "deletable": true,
    "editable": true
   },
   "outputs": [
    {
     "data": {
      "text/plain": [
       "                mac               channel                    scanMac      \n",
       " 00:0f:a3:39:e1:c0:145862   2462000000:189774   00:02:2D:21:0F:33:978443  \n",
       " 00:0f:a3:39:dd:cd:145619   2437000000:152124                             \n",
       " 00:14:bf:b1:97:8a:132962   2412000000:145619                             \n",
       " 00:14:bf:3b:c7:c6:126529   2432000000:126529                             \n",
       " 00:14:bf:b1:97:90:122315   2427000000:122315                             \n",
       " 00:14:bf:b1:97:8d:121325   2442000000:121325                             \n",
       " (Other)          :183831   (Other)   :120757                             "
      ]
     },
     "metadata": {},
     "output_type": "display_data"
    }
   ],
   "source": [
    "summary(sapply(offline[,c(\"mac\",\"channel\",\"scanMac\")],as.factor))"
   ]
  },
  {
   "cell_type": "code",
   "execution_count": 26,
   "metadata": {
    "collapsed": true,
    "deletable": true,
    "editable": true
   },
   "outputs": [],
   "source": [
    "offline = offline[,!(names(offline) %in% c(\"scanMac\",\"posZ\"))]"
   ]
  },
  {
   "cell_type": "code",
   "execution_count": 27,
   "metadata": {
    "collapsed": false,
    "deletable": true,
    "editable": true
   },
   "outputs": [
    {
     "data": {
      "text/html": [
       "203"
      ],
      "text/latex": [
       "203"
      ],
      "text/markdown": [
       "203"
      ],
      "text/plain": [
       "[1] 203"
      ]
     },
     "metadata": {},
     "output_type": "display_data"
    }
   ],
   "source": [
    "length(unique(offline$orientation))"
   ]
  },
  {
   "cell_type": "code",
   "execution_count": 28,
   "metadata": {
    "collapsed": false,
    "deletable": true,
    "editable": true
   },
   "outputs": [
    {
     "data": {
      "image/png": "[encoded data removed]",
      "text/plain": [
       "Plot with title \"ecdf(offline$orientation)\""
      ]
     },
     "metadata": {},
     "output_type": "display_data"
    }
   ],
   "source": [
    "plot(ecdf(offline$orientation))"
   ]
  },
  {
   "cell_type": "code",
   "execution_count": 29,
   "metadata": {
    "collapsed": true,
    "deletable": true,
    "editable": true
   },
   "outputs": [],
   "source": [
    "roundOrientation = function(angles) {\n",
    "    refs = seq(0, by = 45, length = 9)\n",
    "    q = sapply(angles, function(o) which.min(abs(o - refs)))\n",
    "        c(refs[1:8], 0)[q]\n",
    "}\n",
    "offline$angle = roundOrientation(offline$orientation)"
   ]
  },
  {
   "cell_type": "code",
   "execution_count": 30,
   "metadata": {
    "collapsed": false,
    "deletable": true,
    "editable": true
   },
   "outputs": [
    {
     "data": {
      "image/png": "[encoded data removed]",
      "text/plain": [
       "plot without title"
      ]
     },
     "metadata": {},
     "output_type": "display_data"
    }
   ],
   "source": [
    "with(offline, boxplot(orientation ~ angle, xlab=\"nearest 45 degree angle\", ylab=\"orientation\"))"
   ]
  },
  {
   "cell_type": "code",
   "execution_count": 31,
   "metadata": {
    "collapsed": false,
    "deletable": true,
    "editable": true
   },
   "outputs": [
    {
     "data": {
      "text/html": [
       "<ol class=list-inline>\n",
       "\t<li>12</li>\n",
       "\t<li>8</li>\n",
       "</ol>\n"
      ],
      "text/latex": [
       "\\begin{enumerate*}\n",
       "\\item 12\n",
       "\\item 8\n",
       "\\end{enumerate*}\n"
      ],
      "text/markdown": [
       "1. 12\n",
       "2. 8\n",
       "\n",
       "\n"
      ],
      "text/plain": [
       "[1] 12  8"
      ]
     },
     "metadata": {},
     "output_type": "display_data"
    }
   ],
   "source": [
    "c(length(unique(offline$mac)), length(unique(offline$channel)))"
   ]
  },
  {
   "cell_type": "code",
   "execution_count": 32,
   "metadata": {
    "collapsed": false,
    "deletable": true,
    "editable": true
   },
   "outputs": [
    {
     "data": {
      "text/plain": [
       "\n",
       "00:04:0e:5c:23:fc 00:0f:a3:39:dd:cd 00:0f:a3:39:e0:4b 00:0f:a3:39:e1:c0 \n",
       "              418            145619             43508            145862 \n",
       "00:0f:a3:39:e2:10 00:14:bf:3b:c7:c6 00:14:bf:b1:97:81 00:14:bf:b1:97:8a \n",
       "            19162            126529            120339            132962 \n",
       "00:14:bf:b1:97:8d 00:14:bf:b1:97:90 00:30:bd:f8:7f:c5 00:e0:63:82:8b:a9 \n",
       "           121325            122315               301               103 "
      ]
     },
     "metadata": {},
     "output_type": "display_data"
    }
   ],
   "source": [
    "table(offline$mac)"
   ]
  },
  {
   "cell_type": "code",
   "execution_count": 33,
   "metadata": {
    "collapsed": true,
    "deletable": true,
    "editable": true
   },
   "outputs": [],
   "source": [
    "subMacs = names(sort(table(offline$mac),decreasing=TRUE))[1:7]\n",
    "offline = offline[offline$mac %in% subMacs,]"
   ]
  },
  {
   "cell_type": "code",
   "execution_count": 34,
   "metadata": {
    "collapsed": false,
    "deletable": true,
    "editable": true
   },
   "outputs": [
    {
     "data": {
      "text/html": [
       "<dl class=dl-horizontal>\n",
       "\t<dt>00:0f:a3:39:dd:cd</dt>\n",
       "\t\t<dd>1</dd>\n",
       "\t<dt>00:0f:a3:39:e1:c0</dt>\n",
       "\t\t<dd>1</dd>\n",
       "\t<dt>00:14:bf:3b:c7:c6</dt>\n",
       "\t\t<dd>1</dd>\n",
       "\t<dt>00:14:bf:b1:97:81</dt>\n",
       "\t\t<dd>1</dd>\n",
       "\t<dt>00:14:bf:b1:97:8a</dt>\n",
       "\t\t<dd>1</dd>\n",
       "\t<dt>00:14:bf:b1:97:8d</dt>\n",
       "\t\t<dd>1</dd>\n",
       "\t<dt>00:14:bf:b1:97:90</dt>\n",
       "\t\t<dd>1</dd>\n",
       "</dl>\n"
      ],
      "text/latex": [
       "\\begin{description*}\n",
       "\\item[00:0f:a3:39:dd:cd] 1\n",
       "\\item[00:0f:a3:39:e1:c0] 1\n",
       "\\item[00:14:bf:3b:c7:c6] 1\n",
       "\\item[00:14:bf:b1:97:81] 1\n",
       "\\item[00:14:bf:b1:97:8a] 1\n",
       "\\item[00:14:bf:b1:97:8d] 1\n",
       "\\item[00:14:bf:b1:97:90] 1\n",
       "\\end{description*}\n"
      ],
      "text/markdown": [
       "00:0f:a3:39:dd:cd\n",
       ":   100:0f:a3:39:e1:c0\n",
       ":   100:14:bf:3b:c7:c6\n",
       ":   100:14:bf:b1:97:81\n",
       ":   100:14:bf:b1:97:8a\n",
       ":   100:14:bf:b1:97:8d\n",
       ":   100:14:bf:b1:97:90\n",
       ":   1\n",
       "\n"
      ],
      "text/plain": [
       "00:0f:a3:39:dd:cd 00:0f:a3:39:e1:c0 00:14:bf:3b:c7:c6 00:14:bf:b1:97:81 \n",
       "                1                 1                 1                 1 \n",
       "00:14:bf:b1:97:8a 00:14:bf:b1:97:8d 00:14:bf:b1:97:90 \n",
       "                1                 1                 1 "
      ]
     },
     "metadata": {},
     "output_type": "display_data"
    }
   ],
   "source": [
    "macChannel = with(offline, table(mac, channel))\n",
    "apply(macChannel, 1, function(x) sum(x > 0))"
   ]
  },
  {
   "cell_type": "code",
   "execution_count": 35,
   "metadata": {
    "collapsed": true,
    "deletable": true,
    "editable": true
   },
   "outputs": [],
   "source": [
    "offline = offline[, \"channel\" != names(offline)]"
   ]
  },
  {
   "cell_type": "code",
   "execution_count": 36,
   "metadata": {
    "collapsed": false,
    "deletable": true,
    "editable": true
   },
   "outputs": [
    {
     "data": {
      "text/html": [
       "476"
      ],
      "text/latex": [
       "476"
      ],
      "text/markdown": [
       "476"
      ],
      "text/plain": [
       "[1] 476"
      ]
     },
     "metadata": {},
     "output_type": "display_data"
    }
   ],
   "source": [
    "locDF = with(offline, by(offline, list(posX, posY), function(x) x))\n",
    "length(locDF)"
   ]
  },
  {
   "cell_type": "code",
   "execution_count": 37,
   "metadata": {
    "collapsed": false,
    "deletable": true,
    "editable": true
   },
   "outputs": [
    {
     "data": {
      "text/html": [
       "310"
      ],
      "text/latex": [
       "310"
      ],
      "text/markdown": [
       "310"
      ],
      "text/plain": [
       "[1] 310"
      ]
     },
     "metadata": {},
     "output_type": "display_data"
    }
   ],
   "source": [
    "sum(sapply(locDF, is.null))"
   ]
  },
  {
   "cell_type": "code",
   "execution_count": 38,
   "metadata": {
    "collapsed": false,
    "deletable": true,
    "editable": true
   },
   "outputs": [
    {
     "data": {
      "text/html": [
       "166"
      ],
      "text/latex": [
       "166"
      ],
      "text/markdown": [
       "166"
      ],
      "text/plain": [
       "[1] 166"
      ]
     },
     "metadata": {},
     "output_type": "display_data"
    }
   ],
   "source": [
    "locDF = locDF[ !sapply(locDF, is.null)]\n",
    "length(locDF)"
   ]
  },
  {
   "cell_type": "code",
   "execution_count": 39,
   "metadata": {
    "collapsed": false,
    "deletable": true,
    "editable": true
   },
   "outputs": [
    {
     "data": {
      "text/html": [
       "'matrix'"
      ],
      "text/latex": [
       "'matrix'"
      ],
      "text/markdown": [
       "'matrix'"
      ],
      "text/plain": [
       "[1] \"matrix\""
      ]
     },
     "metadata": {},
     "output_type": "display_data"
    }
   ],
   "source": [
    "locCounts = sapply(locDF, nrow)\n",
    "locCounts = sapply(locDF, function(df) c(df[1, c(\"posX\", \"posY\")], count=nrow(df)))\n",
    "class(locCounts)"
   ]
  },
  {
   "cell_type": "code",
   "execution_count": 40,
   "metadata": {
    "collapsed": false,
    "deletable": true,
    "editable": true
   },
   "outputs": [
    {
     "data": {
      "text/html": [
       "<ol class=list-inline>\n",
       "\t<li>3</li>\n",
       "\t<li>166</li>\n",
       "</ol>\n"
      ],
      "text/latex": [
       "\\begin{enumerate*}\n",
       "\\item 3\n",
       "\\item 166\n",
       "\\end{enumerate*}\n"
      ],
      "text/markdown": [
       "1. 3\n",
       "2. 166\n",
       "\n",
       "\n"
      ],
      "text/plain": [
       "[1]   3 166"
      ]
     },
     "metadata": {},
     "output_type": "display_data"
    }
   ],
   "source": [
    "dim(locCounts)"
   ]
  },
  {
   "cell_type": "code",
   "execution_count": 41,
   "metadata": {
    "collapsed": false,
    "deletable": true,
    "editable": true
   },
   "outputs": [
    {
     "data": {
      "text/html": [
       "<table>\n",
       "<tbody>\n",
       "\t<tr><th scope=row>posX</th><td>0</td><td>1</td><td>2</td><td>0</td><td>1</td><td>2</td><td>0</td><td>1</td></tr>\n",
       "\t<tr><th scope=row>posY</th><td>0</td><td>0</td><td>0</td><td>1</td><td>1</td><td>1</td><td>2</td><td>2</td></tr>\n",
       "\t<tr><th scope=row>count</th><td>5505</td><td>5505</td><td>5506</td><td>5524</td><td>5543</td><td>5558</td><td>5503</td><td>5564</td></tr>\n",
       "</tbody>\n",
       "</table>\n"
      ],
      "text/latex": [
       "\\begin{tabular}{r|llllllll}\n",
       "\tposX & 0 & 1 & 2 & 0 & 1 & 2 & 0 & 1\\\\\n",
       "\tposY & 0 & 0 & 0 & 1 & 1 & 1 & 2 & 2\\\\\n",
       "\tcount & 5505 & 5505 & 5506 & 5524 & 5543 & 5558 & 5503 & 5564\\\\\n",
       "\\end{tabular}\n"
      ],
      "text/markdown": [
       "\n",
       "| posX | 0 | 1 | 2 | 0 | 1 | 2 | 0 | 1 | \n",
       "| posY | 0 | 0 | 0 | 1 | 1 | 1 | 2 | 2 | \n",
       "| count | 5505 | 5505 | 5506 | 5524 | 5543 | 5558 | 5503 | 5564 | \n",
       "\n",
       "\n"
      ],
      "text/plain": [
       "      [,1] [,2] [,3] [,4] [,5] [,6] [,7] [,8]\n",
       "posX  0    1    2    0    1    2    0    1   \n",
       "posY  0    0    0    1    1    1    2    2   \n",
       "count 5505 5505 5506 5524 5543 5558 5503 5564"
      ]
     },
     "metadata": {},
     "output_type": "display_data"
    }
   ],
   "source": [
    "locCounts[,1:8]"
   ]
  },
  {
   "cell_type": "code",
   "execution_count": 42,
   "metadata": {
    "collapsed": false,
    "deletable": true,
    "editable": true
   },
   "outputs": [
    {
     "data": {
      "image/png": "[encoded data removed]",
      "text/plain": [
       "plot without title"
      ]
     },
     "metadata": {},
     "output_type": "display_data"
    }
   ],
   "source": [
    "locCounts = t(locCounts)\n",
    "plot(locCounts, type=\"n\", xlab=\"\", ylab=\"\")\n",
    "text(locCounts, labels=locCounts[,3], cex=.8, srt=45)"
   ]
  },
  {
   "cell_type": "code",
   "execution_count": 43,
   "metadata": {
    "collapsed": false,
    "deletable": true,
    "editable": true
   },
   "outputs": [],
   "source": [
    "readData = function(file){\n",
    "    lines = readLines(file)\n",
    "    records = lines[substr(lines,1,1) != \"#\"]\n",
    "    tmp=lapply(records,processLine)\n",
    "    dataFrame = as.data.frame(do.call(\"rbind\",tmp),stringsAsFactors = FALSE)\n",
    "    names(dataFrame) = c(\"time\", \"scanMac\", \"posX\", \"posY\", \"posZ\", \"orientation\", \"mac\", \"signal\", \"channel\", \"type\")\n",
    "    numVars = c(\"time\", \"posX\", \"posY\", \"posZ\", \"orientation\", \"signal\")\n",
    "    dataFrame[numVars] = lapply(dataFrame[numVars], as.numeric)\n",
    "    dataFrame = dataFrame[ dataFrame$type == \"3\", ]\n",
    "    dataFrame = dataFrame[, \"type\" != names(dataFrame) ]\n",
    "    dataFrame$rawTime = dataFrame$time\n",
    "    dataFrame$time = dataFrame$time / 1000\n",
    "    class(dataFrame$time) = c(\"POSIXt\", \"POSIXct\")\n",
    "    dataFrame = dataFrame[,!(names(dataFrame) %in% c(\"scanMac\",\"posZ\"))]\n",
    "    dataFrame$angle = roundOrientation(dataFrame$orientation)\n",
    "    dataFrame$power = 10^(dataFrame$signal/10)\n",
    "    subMacs = names(sort(table(dataFrame$mac),decreasing=TRUE))[1:7]\n",
    "    dataFrame = dataFrame[dataFrame$mac %in% subMacs,]\n",
    "    dataFrame = dataFrame[, \"channel\" != names(dataFrame)]\n",
    "}\n",
    "\n",
    "offlineRedo = readData(\"offline.final.trace.txt\")"
   ]
  },
  {
   "cell_type": "code",
   "execution_count": 44,
   "metadata": {
    "collapsed": false,
    "deletable": true,
    "editable": true
   },
   "outputs": [
    {
     "data": {
      "text/html": [
       "FALSE"
      ],
      "text/latex": [
       "FALSE"
      ],
      "text/markdown": [
       "FALSE"
      ],
      "text/plain": [
       "[1] FALSE"
      ]
     },
     "metadata": {},
     "output_type": "display_data"
    }
   ],
   "source": [
    "identical(offline, offlineRedo)"
   ]
  },
  {
   "cell_type": "code",
   "execution_count": 45,
   "metadata": {
    "collapsed": false,
    "deletable": true,
    "editable": true
   },
   "outputs": [
    {
     "data": {
      "text/html": [
       "<ol class=list-inline>\n",
       "\t<li>'as.numeric'</li>\n",
       "\t<li>'processLine'</li>\n",
       "</ol>\n"
      ],
      "text/latex": [
       "\\begin{enumerate*}\n",
       "\\item 'as.numeric'\n",
       "\\item 'processLine'\n",
       "\\end{enumerate*}\n"
      ],
      "text/markdown": [
       "1. 'as.numeric'\n",
       "2. 'processLine'\n",
       "\n",
       "\n"
      ],
      "text/plain": [
       "[1] \"as.numeric\"  \"processLine\""
      ]
     },
     "metadata": {},
     "output_type": "display_data"
    }
   ],
   "source": [
    "library(codetools)\n",
    "findGlobals(readData, merge = FALSE)$variables"
   ]
  },
  {
   "cell_type": "code",
   "execution_count": 46,
   "metadata": {
    "collapsed": false,
    "deletable": true,
    "editable": true
   },
   "outputs": [
    {
     "data": {},
     "metadata": {},
     "output_type": "display_data"
    },
    {
     "data": {
      "image/png": "[encoded data removed]",
      "text/plain": [
       "plot without title"
      ]
     },
     "metadata": {},
     "output_type": "display_data"
    }
   ],
   "source": [
    "library(lattice)\n",
    "bwplot(signal ~ factor(angle) | mac, data=offline, subset = posX == 2 & posY == 12 & mac != \"00:0f:a3:39:dd:cd\", layout=c(2,3))"
   ]
  },
  {
   "cell_type": "code",
   "execution_count": 47,
   "metadata": {
    "collapsed": false,
    "deletable": true,
    "editable": true
   },
   "outputs": [
    {
     "data": {
      "text/plain": [
       "   Min. 1st Qu.  Median    Mean 3rd Qu.    Max. \n",
       " -98.00  -67.00  -59.00  -59.92  -53.00  -25.00 "
      ]
     },
     "metadata": {},
     "output_type": "display_data"
    },
    {
     "data": {
      "text/plain": [
       "     Min.   1st Qu.    Median      Mean   3rd Qu.      Max. \n",
       "2.000e-10 1.995e-07 1.259e-06 1.095e-05 5.012e-06 3.162e-03 "
      ]
     },
     "metadata": {},
     "output_type": "display_data"
    }
   ],
   "source": [
    "summary(offline$signal)\n",
    "summary(offline$power)"
   ]
  },
  {
   "cell_type": "code",
   "execution_count": 48,
   "metadata": {
    "collapsed": false,
    "deletable": true,
    "editable": true
   },
   "outputs": [
    {
     "data": {},
     "metadata": {},
     "output_type": "display_data"
    },
    {
     "data": {},
     "metadata": {},
     "output_type": "display_data"
    },
    {
     "data": {
      "image/png": "[encoded data removed]",
      "text/plain": [
       "plot without title"
      ]
     },
     "metadata": {},
     "output_type": "display_data"
    },
    {
     "data": {
      "image/png": "[encoded data removed]",
      "text/plain": [
       "plot without title"
      ]
     },
     "metadata": {},
     "output_type": "display_data"
    }
   ],
   "source": [
    "densityplot( ~ signal | mac + factor(angle), data=offline, subset= posX == 24 & posY == 4 & mac != \"00:0f:a3:39:dd:cd\", bw = 0.5, plot.points = FALSE)\n",
    "densityplot( ~ power | mac + factor(angle), data=offline, subset= posX == 24 & posY == 4 & mac != \"00:0f:a3:39:dd:cd\", bw = 0.5, plot.points = FALSE)"
   ]
  },
  {
   "cell_type": "code",
   "execution_count": 49,
   "metadata": {
    "collapsed": true,
    "deletable": true,
    "editable": true
   },
   "outputs": [],
   "source": [
    "offline$posXY = paste(offline$posX, offline$posY, sep = \"-\")"
   ]
  },
  {
   "cell_type": "code",
   "execution_count": 50,
   "metadata": {
    "collapsed": true,
    "deletable": true,
    "editable": true
   },
   "outputs": [],
   "source": [
    "byLocAngleAP = with(offline, by(offline, list(posXY, angle, mac), function(x) x))"
   ]
  },
  {
   "cell_type": "code",
   "execution_count": 51,
   "metadata": {
    "collapsed": true,
    "deletable": true,
    "editable": true
   },
   "outputs": [],
   "source": [
    "signalSummary = lapply(byLocAngleAP, function(oneLoc) {\n",
    "    ans = oneLoc[1,]\n",
    "    ans$medSignal = median(oneLoc$signal)\n",
    "    ans$avgSignal = mean(oneLoc$signal)\n",
    "    ans$num = length(oneLoc$signal)\n",
    "    ans$sdSignal = sd(oneLoc$signal)\n",
    "    ans$iqrSignal = IQR(oneLoc$signal)\n",
    "    ans$avgPower = mean(oneLoc$power)\n",
    "    ans$medPower = median(oneLoc$power)\n",
    "    ans$sdPower = sd(oneLoc$power)\n",
    "    ans$iqrPower = IQR(oneLoc$power)\n",
    "    ans\n",
    "})\n",
    "offlineSummary = do.call(\"rbind\",signalSummary)"
   ]
  },
  {
   "cell_type": "code",
   "execution_count": 52,
   "metadata": {
    "collapsed": false,
    "deletable": true,
    "editable": true
   },
   "outputs": [
    {
     "data": {},
     "metadata": {},
     "output_type": "display_data"
    },
    {
     "data": {
      "image/png": "[encoded data removed]",
      "text/plain": [
       "plot without title"
      ]
     },
     "metadata": {},
     "output_type": "display_data"
    }
   ],
   "source": [
    "breaks = seq(-90, -30, by = 5)\n",
    "bwplot(sdSignal ~ cut(avgSignal, breaks=breaks),\n",
    "       data=offlineSummary,\n",
    "       subset = mac != \"00:0f:a3:39:dd:cd\", \n",
    "       xlab=\"Mean Signal\", ylab=\"SD Signal\")"
   ]
  },
  {
   "cell_type": "code",
   "execution_count": 53,
   "metadata": {
    "collapsed": false
   },
   "outputs": [
    {
     "ename": "ERROR",
     "evalue": "Error in cut.default(avgPower, breaks = breaks): invalid number of intervals\n",
     "output_type": "error",
     "traceback": [
      "Error in cut.default(avgPower, breaks = breaks): invalid number of intervals\nTraceback:\n",
      "1. bwplot(sdPower ~ cut(avgPower, breaks = breaks), data = offlineSummary, \n .     subset = mac != \"00:0f:a3:39:dd:cd\", xlab = \"Mean Power\", \n .     ylab = \"SD Power\")",
      "2. bwplot.formula(sdPower ~ cut(avgPower, breaks = breaks), data = offlineSummary, \n .     subset = mac != \"00:0f:a3:39:dd:cd\", xlab = \"Mean Power\", \n .     ylab = \"SD Power\")",
      "3. latticeParseFormula(formula, data, subset = subset, groups = groups, \n .     multiple = allow.multiple, outer = outer, subscripts = TRUE, \n .     drop = drop.unused.levels)",
      "4. eval(varsRHS[[1]], data, env)",
      "5. eval(expr, envir, enclos)",
      "6. cut(avgPower, breaks = breaks)",
      "7. cut.default(avgPower, breaks = breaks)",
      "8. stop(\"invalid number of intervals\")"
     ]
    }
   ],
   "source": [
    "breaks = seq(0.000000001, 0.001)\n",
    "bwplot(sdPower ~ cut(avgPower, breaks=breaks),\n",
    "       data=offlineSummary,\n",
    "       subset = mac != \"00:0f:a3:39:dd:cd\", \n",
    "       xlab=\"Mean Power\", ylab=\"SD Power\")"
   ]
  },
  {
   "cell_type": "code",
   "execution_count": 54,
   "metadata": {
    "collapsed": false,
    "deletable": true,
    "editable": true
   },
   "outputs": [
    {
     "data": {
      "image/png": "[encoded data removed]",
      "text/plain": [
       "plot without title"
      ]
     },
     "metadata": {},
     "output_type": "display_data"
    }
   ],
   "source": [
    "with(offlineSummary,\n",
    "    smoothScatter((avgSignal - medSignal) ~ num, \n",
    "                 xlab = \"Number of Observations\",\n",
    "                 ylab = \"mean - median\"))\n",
    "abline(h = 0, col = \"#984ea3\", lwd=2)\n",
    "\n",
    "lo.obj =\n",
    "  with(offlineSummary,\n",
    "      loess(diff ~ num,\n",
    "           data = data.frame(diff = (avgSignal - medSignal),\n",
    "                            num = num)))\n",
    "\n",
    "lo.obj.pr = predict(lo.obj, newdata = data.frame(num = (70:120)))\n",
    "lines(x = 70:120, y = lo.obj.pr, col = \"#4daf4a\", lwd=2)"
   ]
  },
  {
   "cell_type": "code",
   "execution_count": 55,
   "metadata": {
    "collapsed": true,
    "deletable": true,
    "editable": true
   },
   "outputs": [],
   "source": [
    "oneAPAngle = subset(offlineSummary, mac == subMacs[5] & angle == 0)"
   ]
  },
  {
   "cell_type": "code",
   "execution_count": 56,
   "metadata": {
    "collapsed": false,
    "deletable": true,
    "editable": true
   },
   "outputs": [
    {
     "name": "stdout",
     "output_type": "stream",
     "text": [
      "package 'fields' successfully unpacked and MD5 sums checked\n",
      "\n",
      "The downloaded binary packages are in\n",
      "\tC:\\Users\\Thomas\\AppData\\Local\\Temp\\RtmpG4hn57\\downloaded_packages\n"
     ]
    }
   ],
   "source": [
    "install.packages(\"fields\",repos=\"https://cloud.r-project.org\")"
   ]
  },
  {
   "cell_type": "code",
   "execution_count": 57,
   "metadata": {
    "collapsed": false,
    "deletable": true,
    "editable": true
   },
   "outputs": [
    {
     "name": "stderr",
     "output_type": "stream",
     "text": [
      "Warning message:\n",
      "\"package 'fields' was built under R version 3.3.3\"Loading required package: spam\n",
      "Warning message:\n",
      "\"package 'spam' was built under R version 3.3.3\"Loading required package: grid\n",
      "Spam version 1.4-0 (2016-08-29) is loaded.\n",
      "Type 'help( Spam)' or 'demo( spam)' for a short introduction \n",
      "and overview of this package.\n",
      "Help for individual functions is also obtained by adding the\n",
      "suffix '.spam' to the function name, e.g. 'help( chol.spam)'.\n",
      "\n",
      "Attaching package: 'spam'\n",
      "\n",
      "The following objects are masked from 'package:base':\n",
      "\n",
      "    backsolve, forwardsolve\n",
      "\n",
      "Loading required package: maps\n"
     ]
    },
    {
     "name": "stdout",
     "output_type": "stream",
     "text": [
      "Warning: \n",
      "Grid searches over lambda (nugget and sill variances) with  minima at the endpoints: \n",
      "  (GCV) Generalized Cross-Validation \n",
      "   minimum at  right endpoint  lambda  =  2.829962e-06 (eff. df= 157.6968 )\n"
     ]
    }
   ],
   "source": [
    "library(fields)\n",
    "smoothSS = Tps(oneAPAngle[, c(\"posX\", \"posY\")], oneAPAngle$avgPower)"
   ]
  },
  {
   "cell_type": "code",
   "execution_count": 58,
   "metadata": {
    "collapsed": false,
    "deletable": true,
    "editable": true
   },
   "outputs": [],
   "source": [
    "vizSmooth = predictSurface(smoothSS)"
   ]
  },
  {
   "cell_type": "code",
   "execution_count": 59,
   "metadata": {
    "collapsed": false,
    "deletable": true,
    "editable": true
   },
   "outputs": [
    {
     "data": {
      "image/png": "[encoded data removed]",
      "text/plain": [
       "plot without title"
      ]
     },
     "metadata": {},
     "output_type": "display_data"
    }
   ],
   "source": [
    "plot.surface(vizSmooth, type=\"C\")\n",
    "points(oneAPAngle$posX, oneAPAngle$posY, pch=19, cex = 0.5)"
   ]
  },
  {
   "cell_type": "code",
   "execution_count": 60,
   "metadata": {
    "collapsed": true,
    "deletable": true,
    "editable": true
   },
   "outputs": [],
   "source": [
    "surfaceSS = function(data, mac, angle = 45) {\n",
    "  require(fields)\n",
    "  oneAPAngle = data[ data$mac == mac & data$angle == angle, ]\n",
    "  smoothSS = Tps(oneAPAngle[, c(\"posX\",\"posY\")], oneAPAngle$avgPower)\n",
    "  vizSmooth = predictSurface(smoothSS)\n",
    "  plot.surface(vizSmooth, type = \"C\", xlab = \"\", ylab = \"\", xaxt = \"n\", yaxt = \"n\")\n",
    "  points(oneAPAngle$posX, oneAPAngle$posY, pch=19, cex = 0.5)\n",
    "}"
   ]
  },
  {
   "cell_type": "code",
   "execution_count": 61,
   "metadata": {
    "collapsed": false,
    "deletable": true,
    "editable": true
   },
   "outputs": [
    {
     "name": "stdout",
     "output_type": "stream",
     "text": [
      "Warning: \n",
      "Grid searches over lambda (nugget and sill variances) with  minima at the endpoints: \n",
      "  (GCV) Generalized Cross-Validation \n",
      "   minimum at  right endpoint  lambda  =  2.829962e-06 (eff. df= 157.6968 )\n",
      "Warning: \n",
      "Grid searches over lambda (nugget and sill variances) with  minima at the endpoints: \n",
      "  (GCV) Generalized Cross-Validation \n",
      "   minimum at  right endpoint  lambda  =  2.829962e-06 (eff. df= 157.6968 )\n"
     ]
    },
    {
     "data": {
      "image/png": "[encoded data removed]",
      "text/plain": [
       "plot without title"
      ]
     },
     "metadata": {},
     "output_type": "display_data"
    },
    {
     "data": {
      "image/png": "[encoded data removed]",
      "text/plain": [
       "plot without title"
      ]
     },
     "metadata": {},
     "output_type": "display_data"
    },
    {
     "data": {
      "image/png": "[encoded data removed]",
      "text/plain": [
       "plot without title"
      ]
     },
     "metadata": {},
     "output_type": "display_data"
    },
    {
     "data": {
      "text/plain": [
       "$`00:14:bf:b1:97:90`\n",
       "NULL\n",
       "\n",
       "$`00:14:bf:b1:97:90`\n",
       "NULL\n",
       "\n",
       "$`00:0f:a3:39:e1:c0`\n",
       "NULL\n",
       "\n",
       "$`00:0f:a3:39:e1:c0`\n",
       "NULL\n"
      ]
     },
     "metadata": {},
     "output_type": "display_data"
    },
    {
     "data": {
      "image/png": "[encoded data removed]",
      "text/plain": [
       "plot without title"
      ]
     },
     "metadata": {},
     "output_type": "display_data"
    }
   ],
   "source": [
    "mapply(surfaceSS, mac = subMacs[ rep(c(5, 1), each = 2) ],\n",
    "       angle = rep(c(0, 135), 2),\n",
    "       data = list(data = offlineSummary))"
   ]
  },
  {
   "cell_type": "code",
   "execution_count": 62,
   "metadata": {
    "collapsed": true,
    "deletable": true,
    "editable": true
   },
   "outputs": [],
   "source": [
    "offlineSummary = subset(offlineSummary, mac != subMacs[2])"
   ]
  },
  {
   "cell_type": "code",
   "execution_count": 63,
   "metadata": {
    "collapsed": false,
    "deletable": true,
    "editable": true
   },
   "outputs": [
    {
     "data": {
      "text/html": [
       "<table>\n",
       "<thead><tr><th></th><th scope=col>x</th><th scope=col>y</th></tr></thead>\n",
       "<tbody>\n",
       "\t<tr><th scope=row>00:0f:a3:39:e1:c0</th><td> 7.5</td><td> 6.3</td></tr>\n",
       "\t<tr><th scope=row>00:14:bf:b1:97:8a</th><td> 2.5</td><td>-0.8</td></tr>\n",
       "\t<tr><th scope=row>00:14:bf:3b:c7:c6</th><td>12.8</td><td>-2.8</td></tr>\n",
       "\t<tr><th scope=row>00:14:bf:b1:97:90</th><td> 1.0</td><td>14.0</td></tr>\n",
       "\t<tr><th scope=row>00:14:bf:b1:97:8d</th><td>33.5</td><td> 9.3</td></tr>\n",
       "\t<tr><th scope=row>00:14:bf:b1:97:81</th><td>33.5</td><td> 2.8</td></tr>\n",
       "</tbody>\n",
       "</table>\n"
      ],
      "text/latex": [
       "\\begin{tabular}{r|ll}\n",
       "  & x & y\\\\\n",
       "\\hline\n",
       "\t00:0f:a3:39:e1:c0 &  7.5 &  6.3\\\\\n",
       "\t00:14:bf:b1:97:8a &  2.5 & -0.8\\\\\n",
       "\t00:14:bf:3b:c7:c6 & 12.8 & -2.8\\\\\n",
       "\t00:14:bf:b1:97:90 &  1.0 & 14.0\\\\\n",
       "\t00:14:bf:b1:97:8d & 33.5 &  9.3\\\\\n",
       "\t00:14:bf:b1:97:81 & 33.5 &  2.8\\\\\n",
       "\\end{tabular}\n"
      ],
      "text/markdown": [
       "\n",
       "| <!--/--> | x | y | \n",
       "|---|---|---|---|---|---|\n",
       "| 00:0f:a3:39:e1:c0 |  7.5 |  6.3 | \n",
       "| 00:14:bf:b1:97:8a |  2.5 | -0.8 | \n",
       "| 00:14:bf:3b:c7:c6 | 12.8 | -2.8 | \n",
       "| 00:14:bf:b1:97:90 |  1.0 | 14.0 | \n",
       "| 00:14:bf:b1:97:8d | 33.5 |  9.3 | \n",
       "| 00:14:bf:b1:97:81 | 33.5 |  2.8 | \n",
       "\n",
       "\n"
      ],
      "text/plain": [
       "                  x    y   \n",
       "00:0f:a3:39:e1:c0  7.5  6.3\n",
       "00:14:bf:b1:97:8a  2.5 -0.8\n",
       "00:14:bf:3b:c7:c6 12.8 -2.8\n",
       "00:14:bf:b1:97:90  1.0 14.0\n",
       "00:14:bf:b1:97:8d 33.5  9.3\n",
       "00:14:bf:b1:97:81 33.5  2.8"
      ]
     },
     "metadata": {},
     "output_type": "display_data"
    }
   ],
   "source": [
    "AP = matrix( c( 7.5, 6.3, 2.5, -.8, 12.8, -2.8,\n",
    "                1, 14, 33.5, 9.3,  33.5, 2.8),\n",
    "            ncol = 2, byrow = TRUE,\n",
    "            dimnames = list(subMacs[ -2 ], c(\"x\", \"y\") ))\n",
    "AP"
   ]
  },
  {
   "cell_type": "code",
   "execution_count": 64,
   "metadata": {
    "collapsed": true,
    "deletable": true,
    "editable": true
   },
   "outputs": [],
   "source": [
    "diffs = offlineSummary[ , c(\"posX\", \"posY\")] - AP[ offlineSummary$mac, ]\n",
    "offlineSummary$dist = sqrt(diffs[ , 1]^2 + diffs[ , 2]^2)"
   ]
  },
  {
   "cell_type": "code",
   "execution_count": 65,
   "metadata": {
    "collapsed": false,
    "deletable": true,
    "editable": true
   },
   "outputs": [
    {
     "data": {},
     "metadata": {},
     "output_type": "display_data"
    },
    {
     "data": {
      "image/png": "[encoded data removed]",
      "text/plain": [
       "plot without title"
      ]
     },
     "metadata": {},
     "output_type": "display_data"
    }
   ],
   "source": [
    "library(lattice)\n",
    "xyplot(avgPower ~ dist | factor(mac) + factor(angle), data = offlineSummary, pch = 19, cex = 0.3,\n",
    "       xlab =\"distance\")"
   ]
  },
  {
   "cell_type": "code",
   "execution_count": 66,
   "metadata": {
    "collapsed": true,
    "deletable": true,
    "editable": true
   },
   "outputs": [],
   "source": [
    "macs = unique(offlineSummary$mac)"
   ]
  },
  {
   "cell_type": "code",
   "execution_count": 67,
   "metadata": {
    "collapsed": false,
    "deletable": true,
    "editable": true
   },
   "outputs": [],
   "source": [
    "online = readData(\"online.final.trace.txt\")"
   ]
  },
  {
   "cell_type": "code",
   "execution_count": 68,
   "metadata": {
    "collapsed": false,
    "deletable": true,
    "editable": true
   },
   "outputs": [
    {
     "data": {
      "text/html": [
       "60"
      ],
      "text/latex": [
       "60"
      ],
      "text/markdown": [
       "60"
      ],
      "text/plain": [
       "[1] 60"
      ]
     },
     "metadata": {},
     "output_type": "display_data"
    }
   ],
   "source": [
    "online$posXY = paste(online$posX, online$posY, sep = \"-\")\n",
    "length(unique(online$posXY))"
   ]
  },
  {
   "cell_type": "code",
   "execution_count": 69,
   "metadata": {
    "collapsed": true,
    "deletable": true,
    "editable": true
   },
   "outputs": [],
   "source": [
    "tabonlineXYA = table(online$posXY, online$angle)"
   ]
  },
  {
   "cell_type": "code",
   "execution_count": 70,
   "metadata": {
    "collapsed": false,
    "deletable": true,
    "editable": true
   },
   "outputs": [
    {
     "data": {
      "text/plain": [
       "            \n",
       "               0  45  90 135 180 225 270 315\n",
       "  0-0.05       0   0   0 704   0   0   0   0\n",
       "  0.15-9.42    0   0 717   0   0   0   0   0\n",
       "  0.31-11.09   0   0   0   0   0 684   0   0\n",
       "  0.47-8.2   701   0   0   0   0   0   0   0\n",
       "  0.78-10.94 695   0   0   0   0   0   0   0\n",
       "  0.93-11.69   0   0   0   0 691   0   0   0"
      ]
     },
     "metadata": {},
     "output_type": "display_data"
    }
   ],
   "source": [
    "tabonlineXYA[1:6, ]"
   ]
  },
  {
   "cell_type": "code",
   "execution_count": 71,
   "metadata": {
    "collapsed": false,
    "deletable": true,
    "editable": true
   },
   "outputs": [
    {
     "data": {
      "text/html": [
       "<table>\n",
       "<thead><tr><th scope=col>time</th><th scope=col>posX</th><th scope=col>posY</th><th scope=col>orientation</th><th scope=col>mac</th><th scope=col>signal</th><th scope=col>rawTime</th><th scope=col>angle</th><th scope=col>power</th><th scope=col>posXY</th></tr></thead>\n",
       "<tbody>\n",
       "\t<tr><td>2006-02-11 14:14:37</td><td>0                  </td><td>0.05               </td><td>130.5              </td><td>00:14:bf:b1:97:8a  </td><td>-43                </td><td>1.139692e+12       </td><td>135                </td><td>5.011872e-05       </td><td>0-0.05             </td></tr>\n",
       "\t<tr><td>2006-02-11 14:14:37</td><td>0                  </td><td>0.05               </td><td>130.5              </td><td>00:0f:a3:39:e1:c0  </td><td>-52                </td><td>1.139692e+12       </td><td>135                </td><td>6.309573e-06       </td><td>0-0.05             </td></tr>\n",
       "\t<tr><td>2006-02-11 14:14:37</td><td>0                  </td><td>0.05               </td><td>130.5              </td><td>00:14:bf:3b:c7:c6  </td><td>-62                </td><td>1.139692e+12       </td><td>135                </td><td>6.309573e-07       </td><td>0-0.05             </td></tr>\n",
       "\t<tr><td>2006-02-11 14:14:37</td><td>0                  </td><td>0.05               </td><td>130.5              </td><td>00:14:bf:b1:97:81  </td><td>-58                </td><td>1.139692e+12       </td><td>135                </td><td>1.584893e-06       </td><td>0-0.05             </td></tr>\n",
       "\t<tr><td>2006-02-11 14:14:37</td><td>0                  </td><td>0.05               </td><td>130.5              </td><td>00:14:bf:b1:97:8d  </td><td>-62                </td><td>1.139692e+12       </td><td>135                </td><td>6.309573e-07       </td><td>0-0.05             </td></tr>\n",
       "\t<tr><td>2006-02-11 14:14:37</td><td>0                  </td><td>0.05               </td><td>130.5              </td><td>00:14:bf:b1:97:90  </td><td>-57                </td><td>1.139692e+12       </td><td>135                </td><td>1.995262e-06       </td><td>0-0.05             </td></tr>\n",
       "</tbody>\n",
       "</table>\n"
      ],
      "text/latex": [
       "\\begin{tabular}{r|llllllllll}\n",
       " time & posX & posY & orientation & mac & signal & rawTime & angle & power & posXY\\\\\n",
       "\\hline\n",
       "\t 2006-02-11 14:14:37 & 0                   & 0.05                & 130.5               & 00:14:bf:b1:97:8a   & -43                 & 1.139692e+12        & 135                 & 5.011872e-05        & 0-0.05             \\\\\n",
       "\t 2006-02-11 14:14:37 & 0                   & 0.05                & 130.5               & 00:0f:a3:39:e1:c0   & -52                 & 1.139692e+12        & 135                 & 6.309573e-06        & 0-0.05             \\\\\n",
       "\t 2006-02-11 14:14:37 & 0                   & 0.05                & 130.5               & 00:14:bf:3b:c7:c6   & -62                 & 1.139692e+12        & 135                 & 6.309573e-07        & 0-0.05             \\\\\n",
       "\t 2006-02-11 14:14:37 & 0                   & 0.05                & 130.5               & 00:14:bf:b1:97:81   & -58                 & 1.139692e+12        & 135                 & 1.584893e-06        & 0-0.05             \\\\\n",
       "\t 2006-02-11 14:14:37 & 0                   & 0.05                & 130.5               & 00:14:bf:b1:97:8d   & -62                 & 1.139692e+12        & 135                 & 6.309573e-07        & 0-0.05             \\\\\n",
       "\t 2006-02-11 14:14:37 & 0                   & 0.05                & 130.5               & 00:14:bf:b1:97:90   & -57                 & 1.139692e+12        & 135                 & 1.995262e-06        & 0-0.05             \\\\\n",
       "\\end{tabular}\n"
      ],
      "text/markdown": [
       "\n",
       "time | posX | posY | orientation | mac | signal | rawTime | angle | power | posXY | \n",
       "|---|---|---|---|---|---|\n",
       "| 2006-02-11 14:14:37 | 0                   | 0.05                | 130.5               | 00:14:bf:b1:97:8a   | -43                 | 1.139692e+12        | 135                 | 5.011872e-05        | 0-0.05              | \n",
       "| 2006-02-11 14:14:37 | 0                   | 0.05                | 130.5               | 00:0f:a3:39:e1:c0   | -52                 | 1.139692e+12        | 135                 | 6.309573e-06        | 0-0.05              | \n",
       "| 2006-02-11 14:14:37 | 0                   | 0.05                | 130.5               | 00:14:bf:3b:c7:c6   | -62                 | 1.139692e+12        | 135                 | 6.309573e-07        | 0-0.05              | \n",
       "| 2006-02-11 14:14:37 | 0                   | 0.05                | 130.5               | 00:14:bf:b1:97:81   | -58                 | 1.139692e+12        | 135                 | 1.584893e-06        | 0-0.05              | \n",
       "| 2006-02-11 14:14:37 | 0                   | 0.05                | 130.5               | 00:14:bf:b1:97:8d   | -62                 | 1.139692e+12        | 135                 | 6.309573e-07        | 0-0.05              | \n",
       "| 2006-02-11 14:14:37 | 0                   | 0.05                | 130.5               | 00:14:bf:b1:97:90   | -57                 | 1.139692e+12        | 135                 | 1.995262e-06        | 0-0.05              | \n",
       "\n",
       "\n"
      ],
      "text/plain": [
       "  time                posX posY orientation mac               signal\n",
       "1 2006-02-11 14:14:37 0    0.05 130.5       00:14:bf:b1:97:8a -43   \n",
       "2 2006-02-11 14:14:37 0    0.05 130.5       00:0f:a3:39:e1:c0 -52   \n",
       "3 2006-02-11 14:14:37 0    0.05 130.5       00:14:bf:3b:c7:c6 -62   \n",
       "4 2006-02-11 14:14:37 0    0.05 130.5       00:14:bf:b1:97:81 -58   \n",
       "5 2006-02-11 14:14:37 0    0.05 130.5       00:14:bf:b1:97:8d -62   \n",
       "6 2006-02-11 14:14:37 0    0.05 130.5       00:14:bf:b1:97:90 -57   \n",
       "  rawTime      angle power        posXY \n",
       "1 1.139692e+12 135   5.011872e-05 0-0.05\n",
       "2 1.139692e+12 135   6.309573e-06 0-0.05\n",
       "3 1.139692e+12 135   6.309573e-07 0-0.05\n",
       "4 1.139692e+12 135   1.584893e-06 0-0.05\n",
       "5 1.139692e+12 135   6.309573e-07 0-0.05\n",
       "6 1.139692e+12 135   1.995262e-06 0-0.05"
      ]
     },
     "metadata": {},
     "output_type": "display_data"
    },
    {
     "data": {
      "text/html": [
       "<table>\n",
       "<thead><tr><th scope=col>time</th><th scope=col>posX</th><th scope=col>posY</th><th scope=col>orientation</th><th scope=col>mac</th><th scope=col>signal</th><th scope=col>rawTime</th><th scope=col>power</th><th scope=col>angle</th><th scope=col>posXY</th></tr></thead>\n",
       "<tbody>\n",
       "\t<tr><td>2006-02-11 00:31:58</td><td>0                  </td><td>0                  </td><td>0                  </td><td>00:14:bf:b1:97:8a  </td><td>-38                </td><td>1.139643e+12       </td><td>1.584893e-04       </td><td>0                  </td><td>0-0                </td></tr>\n",
       "\t<tr><td>2006-02-11 00:31:58</td><td>0                  </td><td>0                  </td><td>0                  </td><td>00:14:bf:b1:97:90  </td><td>-56                </td><td>1.139643e+12       </td><td>2.511886e-06       </td><td>0                  </td><td>0-0                </td></tr>\n",
       "\t<tr><td>2006-02-11 00:31:58</td><td>0                  </td><td>0                  </td><td>0                  </td><td>00:0f:a3:39:e1:c0  </td><td>-53                </td><td>1.139643e+12       </td><td>5.011872e-06       </td><td>0                  </td><td>0-0                </td></tr>\n",
       "\t<tr><td>2006-02-11 00:31:58</td><td>0                  </td><td>0                  </td><td>0                  </td><td>00:14:bf:b1:97:8d  </td><td>-65                </td><td>1.139643e+12       </td><td>3.162278e-07       </td><td>0                  </td><td>0-0                </td></tr>\n",
       "\t<tr><td>2006-02-11 00:31:58</td><td>0                  </td><td>0                  </td><td>0                  </td><td>00:14:bf:b1:97:81  </td><td>-65                </td><td>1.139643e+12       </td><td>3.162278e-07       </td><td>0                  </td><td>0-0                </td></tr>\n",
       "\t<tr><td>2006-02-11 00:31:58</td><td>0                  </td><td>0                  </td><td>0                  </td><td>00:14:bf:3b:c7:c6  </td><td>-66                </td><td>1.139643e+12       </td><td>2.511886e-07       </td><td>0                  </td><td>0-0                </td></tr>\n",
       "</tbody>\n",
       "</table>\n"
      ],
      "text/latex": [
       "\\begin{tabular}{r|llllllllll}\n",
       " time & posX & posY & orientation & mac & signal & rawTime & power & angle & posXY\\\\\n",
       "\\hline\n",
       "\t 2006-02-11 00:31:58 & 0                   & 0                   & 0                   & 00:14:bf:b1:97:8a   & -38                 & 1.139643e+12        & 1.584893e-04        & 0                   & 0-0                \\\\\n",
       "\t 2006-02-11 00:31:58 & 0                   & 0                   & 0                   & 00:14:bf:b1:97:90   & -56                 & 1.139643e+12        & 2.511886e-06        & 0                   & 0-0                \\\\\n",
       "\t 2006-02-11 00:31:58 & 0                   & 0                   & 0                   & 00:0f:a3:39:e1:c0   & -53                 & 1.139643e+12        & 5.011872e-06        & 0                   & 0-0                \\\\\n",
       "\t 2006-02-11 00:31:58 & 0                   & 0                   & 0                   & 00:14:bf:b1:97:8d   & -65                 & 1.139643e+12        & 3.162278e-07        & 0                   & 0-0                \\\\\n",
       "\t 2006-02-11 00:31:58 & 0                   & 0                   & 0                   & 00:14:bf:b1:97:81   & -65                 & 1.139643e+12        & 3.162278e-07        & 0                   & 0-0                \\\\\n",
       "\t 2006-02-11 00:31:58 & 0                   & 0                   & 0                   & 00:14:bf:3b:c7:c6   & -66                 & 1.139643e+12        & 2.511886e-07        & 0                   & 0-0                \\\\\n",
       "\\end{tabular}\n"
      ],
      "text/markdown": [
       "\n",
       "time | posX | posY | orientation | mac | signal | rawTime | power | angle | posXY | \n",
       "|---|---|---|---|---|---|\n",
       "| 2006-02-11 00:31:58 | 0                   | 0                   | 0                   | 00:14:bf:b1:97:8a   | -38                 | 1.139643e+12        | 1.584893e-04        | 0                   | 0-0                 | \n",
       "| 2006-02-11 00:31:58 | 0                   | 0                   | 0                   | 00:14:bf:b1:97:90   | -56                 | 1.139643e+12        | 2.511886e-06        | 0                   | 0-0                 | \n",
       "| 2006-02-11 00:31:58 | 0                   | 0                   | 0                   | 00:0f:a3:39:e1:c0   | -53                 | 1.139643e+12        | 5.011872e-06        | 0                   | 0-0                 | \n",
       "| 2006-02-11 00:31:58 | 0                   | 0                   | 0                   | 00:14:bf:b1:97:8d   | -65                 | 1.139643e+12        | 3.162278e-07        | 0                   | 0-0                 | \n",
       "| 2006-02-11 00:31:58 | 0                   | 0                   | 0                   | 00:14:bf:b1:97:81   | -65                 | 1.139643e+12        | 3.162278e-07        | 0                   | 0-0                 | \n",
       "| 2006-02-11 00:31:58 | 0                   | 0                   | 0                   | 00:14:bf:3b:c7:c6   | -66                 | 1.139643e+12        | 2.511886e-07        | 0                   | 0-0                 | \n",
       "\n",
       "\n"
      ],
      "text/plain": [
       "  time                posX posY orientation mac               signal\n",
       "1 2006-02-11 00:31:58 0    0    0           00:14:bf:b1:97:8a -38   \n",
       "2 2006-02-11 00:31:58 0    0    0           00:14:bf:b1:97:90 -56   \n",
       "3 2006-02-11 00:31:58 0    0    0           00:0f:a3:39:e1:c0 -53   \n",
       "4 2006-02-11 00:31:58 0    0    0           00:14:bf:b1:97:8d -65   \n",
       "5 2006-02-11 00:31:58 0    0    0           00:14:bf:b1:97:81 -65   \n",
       "6 2006-02-11 00:31:58 0    0    0           00:14:bf:3b:c7:c6 -66   \n",
       "  rawTime      power        angle posXY\n",
       "1 1.139643e+12 1.584893e-04 0     0-0  \n",
       "2 1.139643e+12 2.511886e-06 0     0-0  \n",
       "3 1.139643e+12 5.011872e-06 0     0-0  \n",
       "4 1.139643e+12 3.162278e-07 0     0-0  \n",
       "5 1.139643e+12 3.162278e-07 0     0-0  \n",
       "6 1.139643e+12 2.511886e-07 0     0-0  "
      ]
     },
     "metadata": {},
     "output_type": "display_data"
    }
   ],
   "source": [
    "head(online)\n",
    "head(offline)"
   ]
  },
  {
   "cell_type": "code",
   "execution_count": 72,
   "metadata": {
    "collapsed": false,
    "deletable": true,
    "editable": true
   },
   "outputs": [],
   "source": [
    "keepVars = c(\"posXY\", \"posX\",\"posY\", \"orientation\", \"angle\")\n",
    "byLoc = with(online,\n",
    "             by(online, list(posXY),\n",
    "                function(x) {\n",
    "                  ans = x[1, keepVars]\n",
    "                  avgSS = tapply(x$power, x$mac, mean)\n",
    "                  y = matrix(avgSS, nrow = 1, ncol = 7,\n",
    "                             dimnames = list(ans$posXY, names(avgSS)))\n",
    "                  cbind(ans, y)\n",
    "                }))\n",
    "onlineSummary = do.call(\"rbind\", byLoc)"
   ]
  },
  {
   "cell_type": "code",
   "execution_count": 73,
   "metadata": {
    "collapsed": false,
    "deletable": true,
    "editable": true
   },
   "outputs": [
    {
     "data": {
      "text/html": [
       "<table>\n",
       "<thead><tr><th></th><th scope=col>posXY</th><th scope=col>posX</th><th scope=col>posY</th><th scope=col>orientation</th><th scope=col>angle</th><th scope=col>00:0f:a3:39:dd:cd</th><th scope=col>00:0f:a3:39:e1:c0</th><th scope=col>00:14:bf:3b:c7:c6</th><th scope=col>00:14:bf:b1:97:81</th><th scope=col>00:14:bf:b1:97:8a</th><th scope=col>00:14:bf:b1:97:8d</th><th scope=col>00:14:bf:b1:97:90</th></tr></thead>\n",
       "<tbody>\n",
       "\t<tr><th scope=row>0-0.05</th><td>0-0.05      </td><td>0.00        </td><td> 0.05       </td><td>130.5       </td><td>135         </td><td>5.206564e-07</td><td>6.148352e-06</td><td>6.281008e-07</td><td>8.537159e-07</td><td>1.056944e-04</td><td>5.055273e-07</td><td>4.290161e-06</td></tr>\n",
       "\t<tr><th scope=row>0.15-9.42</th><td>0.15-9.42   </td><td>0.15        </td><td> 9.42       </td><td>112.3       </td><td> 90         </td><td>3.438269e-07</td><td>3.116214e-06</td><td>5.065121e-08</td><td>6.136563e-08</td><td>1.865112e-05</td><td>1.379842e-07</td><td>2.471802e-05</td></tr>\n",
       "\t<tr><th scope=row>0.31-11.09</th><td>0.31-11.09  </td><td>0.31        </td><td>11.09       </td><td>230.1       </td><td>225         </td><td>2.060622e-07</td><td>7.433581e-06</td><td>1.112758e-07</td><td>1.067109e-07</td><td>6.718333e-06</td><td>1.240419e-07</td><td>4.610425e-06</td></tr>\n",
       "\t<tr><th scope=row>0.47-8.2</th><td>0.47-8.2    </td><td>0.47        </td><td> 8.20       </td><td>  5.8       </td><td>  0         </td><td>4.578169e-08</td><td>1.159680e-05</td><td>5.461378e-07</td><td>6.361416e-08</td><td>2.820494e-05</td><td>1.251701e-06</td><td>1.434937e-05</td></tr>\n",
       "\t<tr><th scope=row>0.78-10.94</th><td>0.78-10.94  </td><td>0.78        </td><td>10.94       </td><td>348.3       </td><td>  0         </td><td>8.115464e-08</td><td>4.898680e-06</td><td>2.079669e-07</td><td>2.633076e-07</td><td>1.634676e-05</td><td>3.626180e-07</td><td>4.126858e-06</td></tr>\n",
       "\t<tr><th scope=row>0.93-11.69</th><td>0.93-11.69  </td><td>0.93        </td><td>11.69       </td><td>158.3       </td><td>180         </td><td>1.299995e-07</td><td>1.694790e-06</td><td>1.347951e-07</td><td>1.046762e-07</td><td>4.656828e-05</td><td>3.329184e-07</td><td>2.116836e-05</td></tr>\n",
       "</tbody>\n",
       "</table>\n"
      ],
      "text/latex": [
       "\\begin{tabular}{r|llllllllllll}\n",
       "  & posXY & posX & posY & orientation & angle & 00:0f:a3:39:dd:cd & 00:0f:a3:39:e1:c0 & 00:14:bf:3b:c7:c6 & 00:14:bf:b1:97:81 & 00:14:bf:b1:97:8a & 00:14:bf:b1:97:8d & 00:14:bf:b1:97:90\\\\\n",
       "\\hline\n",
       "\t0-0.05 & 0-0.05       & 0.00         &  0.05        & 130.5        & 135          & 5.206564e-07 & 6.148352e-06 & 6.281008e-07 & 8.537159e-07 & 1.056944e-04 & 5.055273e-07 & 4.290161e-06\\\\\n",
       "\t0.15-9.42 & 0.15-9.42    & 0.15         &  9.42        & 112.3        &  90          & 3.438269e-07 & 3.116214e-06 & 5.065121e-08 & 6.136563e-08 & 1.865112e-05 & 1.379842e-07 & 2.471802e-05\\\\\n",
       "\t0.31-11.09 & 0.31-11.09   & 0.31         & 11.09        & 230.1        & 225          & 2.060622e-07 & 7.433581e-06 & 1.112758e-07 & 1.067109e-07 & 6.718333e-06 & 1.240419e-07 & 4.610425e-06\\\\\n",
       "\t0.47-8.2 & 0.47-8.2     & 0.47         &  8.20        &   5.8        &   0          & 4.578169e-08 & 1.159680e-05 & 5.461378e-07 & 6.361416e-08 & 2.820494e-05 & 1.251701e-06 & 1.434937e-05\\\\\n",
       "\t0.78-10.94 & 0.78-10.94   & 0.78         & 10.94        & 348.3        &   0          & 8.115464e-08 & 4.898680e-06 & 2.079669e-07 & 2.633076e-07 & 1.634676e-05 & 3.626180e-07 & 4.126858e-06\\\\\n",
       "\t0.93-11.69 & 0.93-11.69   & 0.93         & 11.69        & 158.3        & 180          & 1.299995e-07 & 1.694790e-06 & 1.347951e-07 & 1.046762e-07 & 4.656828e-05 & 3.329184e-07 & 2.116836e-05\\\\\n",
       "\\end{tabular}\n"
      ],
      "text/markdown": [
       "\n",
       "| <!--/--> | posXY | posX | posY | orientation | angle | 00:0f:a3:39:dd:cd | 00:0f:a3:39:e1:c0 | 00:14:bf:3b:c7:c6 | 00:14:bf:b1:97:81 | 00:14:bf:b1:97:8a | 00:14:bf:b1:97:8d | 00:14:bf:b1:97:90 | \n",
       "|---|---|---|---|---|---|\n",
       "| 0-0.05 | 0-0.05       | 0.00         |  0.05        | 130.5        | 135          | 5.206564e-07 | 6.148352e-06 | 6.281008e-07 | 8.537159e-07 | 1.056944e-04 | 5.055273e-07 | 4.290161e-06 | \n",
       "| 0.15-9.42 | 0.15-9.42    | 0.15         |  9.42        | 112.3        |  90          | 3.438269e-07 | 3.116214e-06 | 5.065121e-08 | 6.136563e-08 | 1.865112e-05 | 1.379842e-07 | 2.471802e-05 | \n",
       "| 0.31-11.09 | 0.31-11.09   | 0.31         | 11.09        | 230.1        | 225          | 2.060622e-07 | 7.433581e-06 | 1.112758e-07 | 1.067109e-07 | 6.718333e-06 | 1.240419e-07 | 4.610425e-06 | \n",
       "| 0.47-8.2 | 0.47-8.2     | 0.47         |  8.20        |   5.8        |   0          | 4.578169e-08 | 1.159680e-05 | 5.461378e-07 | 6.361416e-08 | 2.820494e-05 | 1.251701e-06 | 1.434937e-05 | \n",
       "| 0.78-10.94 | 0.78-10.94   | 0.78         | 10.94        | 348.3        |   0          | 8.115464e-08 | 4.898680e-06 | 2.079669e-07 | 2.633076e-07 | 1.634676e-05 | 3.626180e-07 | 4.126858e-06 | \n",
       "| 0.93-11.69 | 0.93-11.69   | 0.93         | 11.69        | 158.3        | 180          | 1.299995e-07 | 1.694790e-06 | 1.347951e-07 | 1.046762e-07 | 4.656828e-05 | 3.329184e-07 | 2.116836e-05 | \n",
       "\n",
       "\n"
      ],
      "text/plain": [
       "           posXY      posX posY  orientation angle 00:0f:a3:39:dd:cd\n",
       "0-0.05     0-0.05     0.00  0.05 130.5       135   5.206564e-07     \n",
       "0.15-9.42  0.15-9.42  0.15  9.42 112.3        90   3.438269e-07     \n",
       "0.31-11.09 0.31-11.09 0.31 11.09 230.1       225   2.060622e-07     \n",
       "0.47-8.2   0.47-8.2   0.47  8.20   5.8         0   4.578169e-08     \n",
       "0.78-10.94 0.78-10.94 0.78 10.94 348.3         0   8.115464e-08     \n",
       "0.93-11.69 0.93-11.69 0.93 11.69 158.3       180   1.299995e-07     \n",
       "           00:0f:a3:39:e1:c0 00:14:bf:3b:c7:c6 00:14:bf:b1:97:81\n",
       "0-0.05     6.148352e-06      6.281008e-07      8.537159e-07     \n",
       "0.15-9.42  3.116214e-06      5.065121e-08      6.136563e-08     \n",
       "0.31-11.09 7.433581e-06      1.112758e-07      1.067109e-07     \n",
       "0.47-8.2   1.159680e-05      5.461378e-07      6.361416e-08     \n",
       "0.78-10.94 4.898680e-06      2.079669e-07      2.633076e-07     \n",
       "0.93-11.69 1.694790e-06      1.347951e-07      1.046762e-07     \n",
       "           00:14:bf:b1:97:8a 00:14:bf:b1:97:8d 00:14:bf:b1:97:90\n",
       "0-0.05     1.056944e-04      5.055273e-07      4.290161e-06     \n",
       "0.15-9.42  1.865112e-05      1.379842e-07      2.471802e-05     \n",
       "0.31-11.09 6.718333e-06      1.240419e-07      4.610425e-06     \n",
       "0.47-8.2   2.820494e-05      1.251701e-06      1.434937e-05     \n",
       "0.78-10.94 1.634676e-05      3.626180e-07      4.126858e-06     \n",
       "0.93-11.69 4.656828e-05      3.329184e-07      2.116836e-05     "
      ]
     },
     "metadata": {},
     "output_type": "display_data"
    },
    {
     "data": {
      "text/html": [
       "<table>\n",
       "<thead><tr><th></th><th scope=col>time</th><th scope=col>posX</th><th scope=col>posY</th><th scope=col>orientation</th><th scope=col>mac</th><th scope=col>signal</th><th scope=col>rawTime</th><th scope=col>power</th><th scope=col>angle</th><th scope=col>posXY</th><th scope=col>medSignal</th><th scope=col>avgSignal</th><th scope=col>num</th><th scope=col>sdSignal</th><th scope=col>iqrSignal</th><th scope=col>avgPower</th><th scope=col>medPower</th><th scope=col>sdPower</th><th scope=col>iqrPower</th><th scope=col>dist</th></tr></thead>\n",
       "<tbody>\n",
       "\t<tr><th scope=row>3</th><td>2006-02-11 00:31:58</td><td>0                  </td><td> 0                 </td><td>0.0                </td><td>00:0f:a3:39:e1:c0  </td><td>-53                </td><td>1.139643e+12       </td><td>5.011872e-06       </td><td>0                  </td><td>0-0                </td><td>-51                </td><td>-51.15455          </td><td>110                </td><td>1.408925           </td><td>2.00               </td><td>8.047432e-06       </td><td>7.943282e-06       </td><td>2.399650e-06       </td><td>3.690427e-06       </td><td> 9.794897          </td></tr>\n",
       "\t<tr><th scope=row>24507</th><td>2006-02-11 01:03:44</td><td>0                  </td><td> 1                 </td><td>0.7                </td><td>00:0f:a3:39:e1:c0  </td><td>-49                </td><td>1.139645e+12       </td><td>1.258925e-05       </td><td>0                  </td><td>0-1                </td><td>-51                </td><td>-50.57273          </td><td>110                </td><td>2.198661           </td><td>3.00               </td><td>1.001385e-05       </td><td>7.943282e-06       </td><td>5.590764e-06       </td><td>6.279681e-06       </td><td> 9.183681          </td></tr>\n",
       "\t<tr><th scope=row>221774</th><td>2006-02-11 04:46:02</td><td>0                  </td><td>10                 </td><td>0.9                </td><td>00:0f:a3:39:e1:c0  </td><td>-53                </td><td>1.139658e+12       </td><td>5.011872e-06       </td><td>0                  </td><td>0-10               </td><td>-56                </td><td>-56.20000          </td><td>110                </td><td>1.123559           </td><td>1.00               </td><td>2.481069e-06       </td><td>2.511886e-06       </td><td>6.677418e-07       </td><td>5.166241e-07       </td><td> 8.363014          </td></tr>\n",
       "\t<tr><th scope=row>229185</th><td>2006-02-11 04:54:05</td><td>0                  </td><td>11                 </td><td>0.4                </td><td>00:0f:a3:39:e1:c0  </td><td>-53                </td><td>1.139659e+12       </td><td>5.011872e-06       </td><td>0                  </td><td>0-11               </td><td>-53                </td><td>-54.68182          </td><td>110                </td><td>3.421282           </td><td>7.00               </td><td>4.495998e-06       </td><td>5.011872e-06       </td><td>2.996674e-06       </td><td>6.358389e-06       </td><td> 8.850989          </td></tr>\n",
       "\t<tr><th scope=row>236489</th><td>2006-02-11 05:02:32</td><td>0                  </td><td>12                 </td><td>0.2                </td><td>00:0f:a3:39:e1:c0  </td><td>-54                </td><td>1.139659e+12       </td><td>3.981072e-06       </td><td>0                  </td><td>0-12               </td><td>-55                </td><td>-56.60000          </td><td>110                </td><td>3.561259           </td><td>7.75               </td><td>2.896794e-06       </td><td>3.162278e-06       </td><td>1.829521e-06       </td><td>3.959844e-06       </td><td> 9.420191          </td></tr>\n",
       "\t<tr><th scope=row>243539</th><td>2006-02-11 05:14:12</td><td>0                  </td><td>13                 </td><td>0.1                </td><td>00:0f:a3:39:e1:c0  </td><td>-57                </td><td>1.139660e+12       </td><td>1.995262e-06       </td><td>0                  </td><td>0-13               </td><td>-57                </td><td>-56.83636          </td><td>110                </td><td>1.424087           </td><td>1.00               </td><td>2.165871e-06       </td><td>1.995262e-06       </td><td>5.958567e-07       </td><td>5.166241e-07       </td><td>10.056838          </td></tr>\n",
       "</tbody>\n",
       "</table>\n"
      ],
      "text/latex": [
       "\\begin{tabular}{r|llllllllllllllllllll}\n",
       "  & time & posX & posY & orientation & mac & signal & rawTime & power & angle & posXY & medSignal & avgSignal & num & sdSignal & iqrSignal & avgPower & medPower & sdPower & iqrPower & dist\\\\\n",
       "\\hline\n",
       "\t3 & 2006-02-11 00:31:58 & 0                   &  0                  & 0.0                 & 00:0f:a3:39:e1:c0   & -53                 & 1.139643e+12        & 5.011872e-06        & 0                   & 0-0                 & -51                 & -51.15455           & 110                 & 1.408925            & 2.00                & 8.047432e-06        & 7.943282e-06        & 2.399650e-06        & 3.690427e-06        &  9.794897          \\\\\n",
       "\t24507 & 2006-02-11 01:03:44 & 0                   &  1                  & 0.7                 & 00:0f:a3:39:e1:c0   & -49                 & 1.139645e+12        & 1.258925e-05        & 0                   & 0-1                 & -51                 & -50.57273           & 110                 & 2.198661            & 3.00                & 1.001385e-05        & 7.943282e-06        & 5.590764e-06        & 6.279681e-06        &  9.183681          \\\\\n",
       "\t221774 & 2006-02-11 04:46:02 & 0                   & 10                  & 0.9                 & 00:0f:a3:39:e1:c0   & -53                 & 1.139658e+12        & 5.011872e-06        & 0                   & 0-10                & -56                 & -56.20000           & 110                 & 1.123559            & 1.00                & 2.481069e-06        & 2.511886e-06        & 6.677418e-07        & 5.166241e-07        &  8.363014          \\\\\n",
       "\t229185 & 2006-02-11 04:54:05 & 0                   & 11                  & 0.4                 & 00:0f:a3:39:e1:c0   & -53                 & 1.139659e+12        & 5.011872e-06        & 0                   & 0-11                & -53                 & -54.68182           & 110                 & 3.421282            & 7.00                & 4.495998e-06        & 5.011872e-06        & 2.996674e-06        & 6.358389e-06        &  8.850989          \\\\\n",
       "\t236489 & 2006-02-11 05:02:32 & 0                   & 12                  & 0.2                 & 00:0f:a3:39:e1:c0   & -54                 & 1.139659e+12        & 3.981072e-06        & 0                   & 0-12                & -55                 & -56.60000           & 110                 & 3.561259            & 7.75                & 2.896794e-06        & 3.162278e-06        & 1.829521e-06        & 3.959844e-06        &  9.420191          \\\\\n",
       "\t243539 & 2006-02-11 05:14:12 & 0                   & 13                  & 0.1                 & 00:0f:a3:39:e1:c0   & -57                 & 1.139660e+12        & 1.995262e-06        & 0                   & 0-13                & -57                 & -56.83636           & 110                 & 1.424087            & 1.00                & 2.165871e-06        & 1.995262e-06        & 5.958567e-07        & 5.166241e-07        & 10.056838          \\\\\n",
       "\\end{tabular}\n"
      ],
      "text/markdown": [
       "\n",
       "| <!--/--> | time | posX | posY | orientation | mac | signal | rawTime | power | angle | posXY | medSignal | avgSignal | num | sdSignal | iqrSignal | avgPower | medPower | sdPower | iqrPower | dist | \n",
       "|---|---|---|---|---|---|\n",
       "| 3 | 2006-02-11 00:31:58 | 0                   |  0                  | 0.0                 | 00:0f:a3:39:e1:c0   | -53                 | 1.139643e+12        | 5.011872e-06        | 0                   | 0-0                 | -51                 | -51.15455           | 110                 | 1.408925            | 2.00                | 8.047432e-06        | 7.943282e-06        | 2.399650e-06        | 3.690427e-06        |  9.794897           | \n",
       "| 24507 | 2006-02-11 01:03:44 | 0                   |  1                  | 0.7                 | 00:0f:a3:39:e1:c0   | -49                 | 1.139645e+12        | 1.258925e-05        | 0                   | 0-1                 | -51                 | -50.57273           | 110                 | 2.198661            | 3.00                | 1.001385e-05        | 7.943282e-06        | 5.590764e-06        | 6.279681e-06        |  9.183681           | \n",
       "| 221774 | 2006-02-11 04:46:02 | 0                   | 10                  | 0.9                 | 00:0f:a3:39:e1:c0   | -53                 | 1.139658e+12        | 5.011872e-06        | 0                   | 0-10                | -56                 | -56.20000           | 110                 | 1.123559            | 1.00                | 2.481069e-06        | 2.511886e-06        | 6.677418e-07        | 5.166241e-07        |  8.363014           | \n",
       "| 229185 | 2006-02-11 04:54:05 | 0                   | 11                  | 0.4                 | 00:0f:a3:39:e1:c0   | -53                 | 1.139659e+12        | 5.011872e-06        | 0                   | 0-11                | -53                 | -54.68182           | 110                 | 3.421282            | 7.00                | 4.495998e-06        | 5.011872e-06        | 2.996674e-06        | 6.358389e-06        |  8.850989           | \n",
       "| 236489 | 2006-02-11 05:02:32 | 0                   | 12                  | 0.2                 | 00:0f:a3:39:e1:c0   | -54                 | 1.139659e+12        | 3.981072e-06        | 0                   | 0-12                | -55                 | -56.60000           | 110                 | 3.561259            | 7.75                | 2.896794e-06        | 3.162278e-06        | 1.829521e-06        | 3.959844e-06        |  9.420191           | \n",
       "| 243539 | 2006-02-11 05:14:12 | 0                   | 13                  | 0.1                 | 00:0f:a3:39:e1:c0   | -57                 | 1.139660e+12        | 1.995262e-06        | 0                   | 0-13                | -57                 | -56.83636           | 110                 | 1.424087            | 1.00                | 2.165871e-06        | 1.995262e-06        | 5.958567e-07        | 5.166241e-07        | 10.056838           | \n",
       "\n",
       "\n"
      ],
      "text/plain": [
       "       time                posX posY orientation mac               signal\n",
       "3      2006-02-11 00:31:58 0     0   0.0         00:0f:a3:39:e1:c0 -53   \n",
       "24507  2006-02-11 01:03:44 0     1   0.7         00:0f:a3:39:e1:c0 -49   \n",
       "221774 2006-02-11 04:46:02 0    10   0.9         00:0f:a3:39:e1:c0 -53   \n",
       "229185 2006-02-11 04:54:05 0    11   0.4         00:0f:a3:39:e1:c0 -53   \n",
       "236489 2006-02-11 05:02:32 0    12   0.2         00:0f:a3:39:e1:c0 -54   \n",
       "243539 2006-02-11 05:14:12 0    13   0.1         00:0f:a3:39:e1:c0 -57   \n",
       "       rawTime      power        angle posXY medSignal avgSignal num sdSignal\n",
       "3      1.139643e+12 5.011872e-06 0     0-0   -51       -51.15455 110 1.408925\n",
       "24507  1.139645e+12 1.258925e-05 0     0-1   -51       -50.57273 110 2.198661\n",
       "221774 1.139658e+12 5.011872e-06 0     0-10  -56       -56.20000 110 1.123559\n",
       "229185 1.139659e+12 5.011872e-06 0     0-11  -53       -54.68182 110 3.421282\n",
       "236489 1.139659e+12 3.981072e-06 0     0-12  -55       -56.60000 110 3.561259\n",
       "243539 1.139660e+12 1.995262e-06 0     0-13  -57       -56.83636 110 1.424087\n",
       "       iqrSignal avgPower     medPower     sdPower      iqrPower     dist     \n",
       "3      2.00      8.047432e-06 7.943282e-06 2.399650e-06 3.690427e-06  9.794897\n",
       "24507  3.00      1.001385e-05 7.943282e-06 5.590764e-06 6.279681e-06  9.183681\n",
       "221774 1.00      2.481069e-06 2.511886e-06 6.677418e-07 5.166241e-07  8.363014\n",
       "229185 7.00      4.495998e-06 5.011872e-06 2.996674e-06 6.358389e-06  8.850989\n",
       "236489 7.75      2.896794e-06 3.162278e-06 1.829521e-06 3.959844e-06  9.420191\n",
       "243539 1.00      2.165871e-06 1.995262e-06 5.958567e-07 5.166241e-07 10.056838"
      ]
     },
     "metadata": {},
     "output_type": "display_data"
    }
   ],
   "source": [
    "head(onlineSummary)\n",
    "head(offlineSummary)"
   ]
  },
  {
   "cell_type": "code",
   "execution_count": 74,
   "metadata": {
    "collapsed": false,
    "deletable": true,
    "editable": true
   },
   "outputs": [
    {
     "data": {
      "text/html": [
       "<ol class=list-inline>\n",
       "\t<li>60</li>\n",
       "\t<li>12</li>\n",
       "</ol>\n"
      ],
      "text/latex": [
       "\\begin{enumerate*}\n",
       "\\item 60\n",
       "\\item 12\n",
       "\\end{enumerate*}\n"
      ],
      "text/markdown": [
       "1. 60\n",
       "2. 12\n",
       "\n",
       "\n"
      ],
      "text/plain": [
       "[1] 60 12"
      ]
     },
     "metadata": {},
     "output_type": "display_data"
    },
    {
     "data": {
      "text/html": [
       "<ol class=list-inline>\n",
       "\t<li>'posXY'</li>\n",
       "\t<li>'posX'</li>\n",
       "\t<li>'posY'</li>\n",
       "\t<li>'orientation'</li>\n",
       "\t<li>'angle'</li>\n",
       "\t<li>'00:0f:a3:39:dd:cd'</li>\n",
       "\t<li>'00:0f:a3:39:e1:c0'</li>\n",
       "\t<li>'00:14:bf:3b:c7:c6'</li>\n",
       "\t<li>'00:14:bf:b1:97:81'</li>\n",
       "\t<li>'00:14:bf:b1:97:8a'</li>\n",
       "\t<li>'00:14:bf:b1:97:8d'</li>\n",
       "\t<li>'00:14:bf:b1:97:90'</li>\n",
       "</ol>\n"
      ],
      "text/latex": [
       "\\begin{enumerate*}\n",
       "\\item 'posXY'\n",
       "\\item 'posX'\n",
       "\\item 'posY'\n",
       "\\item 'orientation'\n",
       "\\item 'angle'\n",
       "\\item '00:0f:a3:39:dd:cd'\n",
       "\\item '00:0f:a3:39:e1:c0'\n",
       "\\item '00:14:bf:3b:c7:c6'\n",
       "\\item '00:14:bf:b1:97:81'\n",
       "\\item '00:14:bf:b1:97:8a'\n",
       "\\item '00:14:bf:b1:97:8d'\n",
       "\\item '00:14:bf:b1:97:90'\n",
       "\\end{enumerate*}\n"
      ],
      "text/markdown": [
       "1. 'posXY'\n",
       "2. 'posX'\n",
       "3. 'posY'\n",
       "4. 'orientation'\n",
       "5. 'angle'\n",
       "6. '00:0f:a3:39:dd:cd'\n",
       "7. '00:0f:a3:39:e1:c0'\n",
       "8. '00:14:bf:3b:c7:c6'\n",
       "9. '00:14:bf:b1:97:81'\n",
       "10. '00:14:bf:b1:97:8a'\n",
       "11. '00:14:bf:b1:97:8d'\n",
       "12. '00:14:bf:b1:97:90'\n",
       "\n",
       "\n"
      ],
      "text/plain": [
       " [1] \"posXY\"             \"posX\"              \"posY\"             \n",
       " [4] \"orientation\"       \"angle\"             \"00:0f:a3:39:dd:cd\"\n",
       " [7] \"00:0f:a3:39:e1:c0\" \"00:14:bf:3b:c7:c6\" \"00:14:bf:b1:97:81\"\n",
       "[10] \"00:14:bf:b1:97:8a\" \"00:14:bf:b1:97:8d\" \"00:14:bf:b1:97:90\""
      ]
     },
     "metadata": {},
     "output_type": "display_data"
    }
   ],
   "source": [
    "dim(onlineSummary)\n",
    "names(onlineSummary)"
   ]
  },
  {
   "cell_type": "code",
   "execution_count": 75,
   "metadata": {
    "collapsed": true,
    "deletable": true,
    "editable": true
   },
   "outputs": [],
   "source": [
    "m = 3; angleNewObs = 230\n",
    "refs = seq(0, by = 45, length  = 8)\n",
    "nearestAngle = roundOrientation(angleNewObs)\n",
    "if (m %% 2 == 1) {\n",
    "  angles = seq(-45 * (m - 1) /2, 45 * (m - 1) /2, length = m)\n",
    "} else {\n",
    "  m = m + 1\n",
    "  angles = seq(-45 * (m - 1) /2, 45 * (m - 1) /2, length = m)\n",
    "  if (sign(angleNewObs - nearestAngle) > -1)\n",
    "    angles = angles[ -1 ]\n",
    "  else\n",
    "    angles = angles[ -m ]\n",
    "}\n",
    "angles = angles + nearestAngle\n",
    "angles[angles < 0] = angles[ angles < 0 ] + 360\n",
    "angles[angles > 360] = angles[ angles > 360 ] - 360\n",
    "offlineSubset = offlineSummary[ offlineSummary$angle %in% angles, ]"
   ]
  },
  {
   "cell_type": "code",
   "execution_count": 108,
   "metadata": {
    "collapsed": true,
    "deletable": true,
    "editable": true
   },
   "outputs": [],
   "source": [
    "reshapeSS = function(data,\n",
    "                     varPower = \"power\",\n",
    "                     keepVars = c(\"posXY\", \"posX\", \"posY\")) {\n",
    "  byLocation = with(data, by(data, list(posXY),\n",
    "                             function(x) {\n",
    "                               ans = x[1, keepVars]\n",
    "                               avgSS = tapply(x[, varPower], x$mac, mean)\n",
    "                               y = matrix(avgSS, nrow = 1, ncol = 6, dimnames = list(ans$posXY, names(avgSS)))\n",
    "                               cbind(ans, y)\n",
    "                             }))\n",
    "  newDataSS = do.call(\"rbind\", byLocation)\n",
    "  return(newDataSS)\n",
    "}"
   ]
  },
  {
   "cell_type": "code",
   "execution_count": 77,
   "metadata": {
    "collapsed": false,
    "deletable": true,
    "editable": true
   },
   "outputs": [
    {
     "data": {
      "text/html": [
       "<table>\n",
       "<thead><tr><th></th><th scope=col>time</th><th scope=col>posX</th><th scope=col>posY</th><th scope=col>orientation</th><th scope=col>mac</th><th scope=col>signal</th><th scope=col>rawTime</th><th scope=col>power</th><th scope=col>angle</th><th scope=col>posXY</th><th scope=col>medSignal</th><th scope=col>avgSignal</th><th scope=col>num</th><th scope=col>sdSignal</th><th scope=col>iqrSignal</th><th scope=col>avgPower</th><th scope=col>medPower</th><th scope=col>sdPower</th><th scope=col>iqrPower</th><th scope=col>dist</th></tr></thead>\n",
       "<tbody>\n",
       "\t<tr><th scope=row>4136</th><td>2006-02-11 00:37:36</td><td>0                  </td><td> 0                 </td><td>180.3              </td><td>00:0f:a3:39:e1:c0  </td><td>-87                </td><td>1.139643e+12       </td><td>1.995262e-09       </td><td>180                </td><td>0-0                </td><td>-53                </td><td>-55.02727          </td><td>110                </td><td>6.241999           </td><td> 2.00              </td><td>4.537749e-06       </td><td>5.011872e-06       </td><td>2.329283e-06       </td><td>1.849595e-06       </td><td> 9.794897          </td></tr>\n",
       "\t<tr><th scope=row>28624</th><td>2006-02-11 01:07:32</td><td>0                  </td><td> 1                 </td><td>180.1              </td><td>00:0f:a3:39:e1:c0  </td><td>-46                </td><td>1.139645e+12       </td><td>2.511886e-05       </td><td>180                </td><td>0-1                </td><td>-47                </td><td>-50.14545          </td><td>110                </td><td>5.844838           </td><td>10.00              </td><td>1.648236e-05       </td><td>1.995262e-05       </td><td>1.107440e-05       </td><td>2.260698e-05       </td><td> 9.183681          </td></tr>\n",
       "\t<tr><th scope=row>225432</th><td>2006-02-11 04:49:15</td><td>0                  </td><td>10                 </td><td>179.4              </td><td>00:0f:a3:39:e1:c0  </td><td>-57                </td><td>1.139659e+12       </td><td>1.995262e-06       </td><td>180                </td><td>0-10               </td><td>-54                </td><td>-54.72727          </td><td>110                </td><td>3.073739           </td><td> 5.00              </td><td>4.117202e-06       </td><td>3.981072e-06       </td><td>2.200568e-06       </td><td>4.314311e-06       </td><td> 8.363014          </td></tr>\n",
       "\t<tr><th scope=row>232691</th><td>2006-02-11 04:57:34</td><td>0                  </td><td>11                 </td><td>180.4              </td><td>00:0f:a3:39:e1:c0  </td><td>-65                </td><td>1.139659e+12       </td><td>3.162278e-07       </td><td>180                </td><td>0-11               </td><td>-57                </td><td>-57.28440          </td><td>109                </td><td>3.040138           </td><td> 4.00              </td><td>2.327511e-06       </td><td>1.995262e-06       </td><td>1.470781e-06       </td><td>1.903352e-06       </td><td> 8.850989          </td></tr>\n",
       "\t<tr><th scope=row>240031</th><td>2006-02-11 05:08:11</td><td>0                  </td><td>12                 </td><td>180.5              </td><td>00:0f:a3:39:e1:c0  </td><td>-55                </td><td>1.139660e+12       </td><td>3.162278e-06       </td><td>180                </td><td>0-12               </td><td>-57                </td><td>-57.70909          </td><td>110                </td><td>3.280035           </td><td> 3.00              </td><td>2.064890e-06       </td><td>1.995262e-06       </td><td>1.344754e-06       </td><td>1.252961e-06       </td><td> 9.420191          </td></tr>\n",
       "\t<tr><th scope=row>247083</th><td>2006-02-11 05:20:19</td><td>0                  </td><td>13                 </td><td>180.3              </td><td>00:0f:a3:39:e1:c0  </td><td>-55                </td><td>1.139660e+12       </td><td>3.162278e-06       </td><td>180                </td><td>0-13               </td><td>-53                </td><td>-55.68182          </td><td>110                </td><td>3.845483           </td><td> 7.75              </td><td>3.806420e-06       </td><td>5.011872e-06       </td><td>2.701723e-06       </td><td>5.244842e-06       </td><td>10.056838          </td></tr>\n",
       "</tbody>\n",
       "</table>\n"
      ],
      "text/latex": [
       "\\begin{tabular}{r|llllllllllllllllllll}\n",
       "  & time & posX & posY & orientation & mac & signal & rawTime & power & angle & posXY & medSignal & avgSignal & num & sdSignal & iqrSignal & avgPower & medPower & sdPower & iqrPower & dist\\\\\n",
       "\\hline\n",
       "\t4136 & 2006-02-11 00:37:36 & 0                   &  0                  & 180.3               & 00:0f:a3:39:e1:c0   & -87                 & 1.139643e+12        & 1.995262e-09        & 180                 & 0-0                 & -53                 & -55.02727           & 110                 & 6.241999            &  2.00               & 4.537749e-06        & 5.011872e-06        & 2.329283e-06        & 1.849595e-06        &  9.794897          \\\\\n",
       "\t28624 & 2006-02-11 01:07:32 & 0                   &  1                  & 180.1               & 00:0f:a3:39:e1:c0   & -46                 & 1.139645e+12        & 2.511886e-05        & 180                 & 0-1                 & -47                 & -50.14545           & 110                 & 5.844838            & 10.00               & 1.648236e-05        & 1.995262e-05        & 1.107440e-05        & 2.260698e-05        &  9.183681          \\\\\n",
       "\t225432 & 2006-02-11 04:49:15 & 0                   & 10                  & 179.4               & 00:0f:a3:39:e1:c0   & -57                 & 1.139659e+12        & 1.995262e-06        & 180                 & 0-10                & -54                 & -54.72727           & 110                 & 3.073739            &  5.00               & 4.117202e-06        & 3.981072e-06        & 2.200568e-06        & 4.314311e-06        &  8.363014          \\\\\n",
       "\t232691 & 2006-02-11 04:57:34 & 0                   & 11                  & 180.4               & 00:0f:a3:39:e1:c0   & -65                 & 1.139659e+12        & 3.162278e-07        & 180                 & 0-11                & -57                 & -57.28440           & 109                 & 3.040138            &  4.00               & 2.327511e-06        & 1.995262e-06        & 1.470781e-06        & 1.903352e-06        &  8.850989          \\\\\n",
       "\t240031 & 2006-02-11 05:08:11 & 0                   & 12                  & 180.5               & 00:0f:a3:39:e1:c0   & -55                 & 1.139660e+12        & 3.162278e-06        & 180                 & 0-12                & -57                 & -57.70909           & 110                 & 3.280035            &  3.00               & 2.064890e-06        & 1.995262e-06        & 1.344754e-06        & 1.252961e-06        &  9.420191          \\\\\n",
       "\t247083 & 2006-02-11 05:20:19 & 0                   & 13                  & 180.3               & 00:0f:a3:39:e1:c0   & -55                 & 1.139660e+12        & 3.162278e-06        & 180                 & 0-13                & -53                 & -55.68182           & 110                 & 3.845483            &  7.75               & 3.806420e-06        & 5.011872e-06        & 2.701723e-06        & 5.244842e-06        & 10.056838          \\\\\n",
       "\\end{tabular}\n"
      ],
      "text/markdown": [
       "\n",
       "| <!--/--> | time | posX | posY | orientation | mac | signal | rawTime | power | angle | posXY | medSignal | avgSignal | num | sdSignal | iqrSignal | avgPower | medPower | sdPower | iqrPower | dist | \n",
       "|---|---|---|---|---|---|\n",
       "| 4136 | 2006-02-11 00:37:36 | 0                   |  0                  | 180.3               | 00:0f:a3:39:e1:c0   | -87                 | 1.139643e+12        | 1.995262e-09        | 180                 | 0-0                 | -53                 | -55.02727           | 110                 | 6.241999            |  2.00               | 4.537749e-06        | 5.011872e-06        | 2.329283e-06        | 1.849595e-06        |  9.794897           | \n",
       "| 28624 | 2006-02-11 01:07:32 | 0                   |  1                  | 180.1               | 00:0f:a3:39:e1:c0   | -46                 | 1.139645e+12        | 2.511886e-05        | 180                 | 0-1                 | -47                 | -50.14545           | 110                 | 5.844838            | 10.00               | 1.648236e-05        | 1.995262e-05        | 1.107440e-05        | 2.260698e-05        |  9.183681           | \n",
       "| 225432 | 2006-02-11 04:49:15 | 0                   | 10                  | 179.4               | 00:0f:a3:39:e1:c0   | -57                 | 1.139659e+12        | 1.995262e-06        | 180                 | 0-10                | -54                 | -54.72727           | 110                 | 3.073739            |  5.00               | 4.117202e-06        | 3.981072e-06        | 2.200568e-06        | 4.314311e-06        |  8.363014           | \n",
       "| 232691 | 2006-02-11 04:57:34 | 0                   | 11                  | 180.4               | 00:0f:a3:39:e1:c0   | -65                 | 1.139659e+12        | 3.162278e-07        | 180                 | 0-11                | -57                 | -57.28440           | 109                 | 3.040138            |  4.00               | 2.327511e-06        | 1.995262e-06        | 1.470781e-06        | 1.903352e-06        |  8.850989           | \n",
       "| 240031 | 2006-02-11 05:08:11 | 0                   | 12                  | 180.5               | 00:0f:a3:39:e1:c0   | -55                 | 1.139660e+12        | 3.162278e-06        | 180                 | 0-12                | -57                 | -57.70909           | 110                 | 3.280035            |  3.00               | 2.064890e-06        | 1.995262e-06        | 1.344754e-06        | 1.252961e-06        |  9.420191           | \n",
       "| 247083 | 2006-02-11 05:20:19 | 0                   | 13                  | 180.3               | 00:0f:a3:39:e1:c0   | -55                 | 1.139660e+12        | 3.162278e-06        | 180                 | 0-13                | -53                 | -55.68182           | 110                 | 3.845483            |  7.75               | 3.806420e-06        | 5.011872e-06        | 2.701723e-06        | 5.244842e-06        | 10.056838           | \n",
       "\n",
       "\n"
      ],
      "text/plain": [
       "       time                posX posY orientation mac               signal\n",
       "4136   2006-02-11 00:37:36 0     0   180.3       00:0f:a3:39:e1:c0 -87   \n",
       "28624  2006-02-11 01:07:32 0     1   180.1       00:0f:a3:39:e1:c0 -46   \n",
       "225432 2006-02-11 04:49:15 0    10   179.4       00:0f:a3:39:e1:c0 -57   \n",
       "232691 2006-02-11 04:57:34 0    11   180.4       00:0f:a3:39:e1:c0 -65   \n",
       "240031 2006-02-11 05:08:11 0    12   180.5       00:0f:a3:39:e1:c0 -55   \n",
       "247083 2006-02-11 05:20:19 0    13   180.3       00:0f:a3:39:e1:c0 -55   \n",
       "       rawTime      power        angle posXY medSignal avgSignal num sdSignal\n",
       "4136   1.139643e+12 1.995262e-09 180   0-0   -53       -55.02727 110 6.241999\n",
       "28624  1.139645e+12 2.511886e-05 180   0-1   -47       -50.14545 110 5.844838\n",
       "225432 1.139659e+12 1.995262e-06 180   0-10  -54       -54.72727 110 3.073739\n",
       "232691 1.139659e+12 3.162278e-07 180   0-11  -57       -57.28440 109 3.040138\n",
       "240031 1.139660e+12 3.162278e-06 180   0-12  -57       -57.70909 110 3.280035\n",
       "247083 1.139660e+12 3.162278e-06 180   0-13  -53       -55.68182 110 3.845483\n",
       "       iqrSignal avgPower     medPower     sdPower      iqrPower     dist     \n",
       "4136    2.00     4.537749e-06 5.011872e-06 2.329283e-06 1.849595e-06  9.794897\n",
       "28624  10.00     1.648236e-05 1.995262e-05 1.107440e-05 2.260698e-05  9.183681\n",
       "225432  5.00     4.117202e-06 3.981072e-06 2.200568e-06 4.314311e-06  8.363014\n",
       "232691  4.00     2.327511e-06 1.995262e-06 1.470781e-06 1.903352e-06  8.850989\n",
       "240031  3.00     2.064890e-06 1.995262e-06 1.344754e-06 1.252961e-06  9.420191\n",
       "247083  7.75     3.806420e-06 5.011872e-06 2.701723e-06 5.244842e-06 10.056838"
      ]
     },
     "metadata": {},
     "output_type": "display_data"
    }
   ],
   "source": [
    "head(offlineSubset)"
   ]
  },
  {
   "cell_type": "code",
   "execution_count": 78,
   "metadata": {
    "collapsed": false,
    "deletable": true,
    "editable": true
   },
   "outputs": [
    {
     "data": {
      "text/html": [
       "<table>\n",
       "<thead><tr><th></th><th scope=col>posXY</th><th scope=col>posX</th><th scope=col>posY</th><th scope=col>00:0f:a3:39:e1:c0</th><th scope=col>00:14:bf:3b:c7:c6</th><th scope=col>00:14:bf:b1:97:81</th><th scope=col>00:14:bf:b1:97:8a</th><th scope=col>00:14:bf:b1:97:8d</th><th scope=col>00:14:bf:b1:97:90</th></tr></thead>\n",
       "<tbody>\n",
       "\t<tr><th scope=row>0-0</th><td>0-0         </td><td>0           </td><td> 0          </td><td>2.725382e-06</td><td>2.497653e-07</td><td>7.651718e-07</td><td>4.051741e-04</td><td>4.178544e-07</td><td>1.995262e-06</td></tr>\n",
       "\t<tr><th scope=row>0-1</th><td>0-1         </td><td>0           </td><td> 1          </td><td>1.168580e-05</td><td>5.416039e-07</td><td>3.182346e-07</td><td>1.584893e-04</td><td>2.669045e-07</td><td>1.340667e-06</td></tr>\n",
       "\t<tr><th scope=row>0-10</th><td>0-10        </td><td>0           </td><td>10          </td><td>4.526719e-06</td><td>5.841253e-07</td><td>1.017751e-07</td><td>2.841253e-05</td><td>2.864009e-07</td><td>7.580738e-06</td></tr>\n",
       "\t<tr><th scope=row>0-11</th><td>0-11        </td><td>0           </td><td>11          </td><td>1.369821e-06</td><td>3.051131e-07</td><td>1.189298e-07</td><td>4.983472e-06</td><td>3.778809e-07</td><td>3.994579e-06</td></tr>\n",
       "\t<tr><th scope=row>0-12</th><td>0-12        </td><td>0           </td><td>12          </td><td>5.334240e-06</td><td>4.734680e-07</td><td>7.937025e-08</td><td>2.591436e-05</td><td>9.056793e-08</td><td>4.281273e-06</td></tr>\n",
       "\t<tr><th scope=row>0-13</th><td>0-13        </td><td>0           </td><td>13          </td><td>7.174365e-06</td><td>9.491940e-08</td><td>1.126407e-07</td><td>3.001615e-05</td><td>7.107149e-08</td><td>8.649644e-07</td></tr>\n",
       "</tbody>\n",
       "</table>\n"
      ],
      "text/latex": [
       "\\begin{tabular}{r|lllllllll}\n",
       "  & posXY & posX & posY & 00:0f:a3:39:e1:c0 & 00:14:bf:3b:c7:c6 & 00:14:bf:b1:97:81 & 00:14:bf:b1:97:8a & 00:14:bf:b1:97:8d & 00:14:bf:b1:97:90\\\\\n",
       "\\hline\n",
       "\t0-0 & 0-0          & 0            &  0           & 2.725382e-06 & 2.497653e-07 & 7.651718e-07 & 4.051741e-04 & 4.178544e-07 & 1.995262e-06\\\\\n",
       "\t0-1 & 0-1          & 0            &  1           & 1.168580e-05 & 5.416039e-07 & 3.182346e-07 & 1.584893e-04 & 2.669045e-07 & 1.340667e-06\\\\\n",
       "\t0-10 & 0-10         & 0            & 10           & 4.526719e-06 & 5.841253e-07 & 1.017751e-07 & 2.841253e-05 & 2.864009e-07 & 7.580738e-06\\\\\n",
       "\t0-11 & 0-11         & 0            & 11           & 1.369821e-06 & 3.051131e-07 & 1.189298e-07 & 4.983472e-06 & 3.778809e-07 & 3.994579e-06\\\\\n",
       "\t0-12 & 0-12         & 0            & 12           & 5.334240e-06 & 4.734680e-07 & 7.937025e-08 & 2.591436e-05 & 9.056793e-08 & 4.281273e-06\\\\\n",
       "\t0-13 & 0-13         & 0            & 13           & 7.174365e-06 & 9.491940e-08 & 1.126407e-07 & 3.001615e-05 & 7.107149e-08 & 8.649644e-07\\\\\n",
       "\\end{tabular}\n"
      ],
      "text/markdown": [
       "\n",
       "| <!--/--> | posXY | posX | posY | 00:0f:a3:39:e1:c0 | 00:14:bf:3b:c7:c6 | 00:14:bf:b1:97:81 | 00:14:bf:b1:97:8a | 00:14:bf:b1:97:8d | 00:14:bf:b1:97:90 | \n",
       "|---|---|---|---|---|---|\n",
       "| 0-0 | 0-0          | 0            |  0           | 2.725382e-06 | 2.497653e-07 | 7.651718e-07 | 4.051741e-04 | 4.178544e-07 | 1.995262e-06 | \n",
       "| 0-1 | 0-1          | 0            |  1           | 1.168580e-05 | 5.416039e-07 | 3.182346e-07 | 1.584893e-04 | 2.669045e-07 | 1.340667e-06 | \n",
       "| 0-10 | 0-10         | 0            | 10           | 4.526719e-06 | 5.841253e-07 | 1.017751e-07 | 2.841253e-05 | 2.864009e-07 | 7.580738e-06 | \n",
       "| 0-11 | 0-11         | 0            | 11           | 1.369821e-06 | 3.051131e-07 | 1.189298e-07 | 4.983472e-06 | 3.778809e-07 | 3.994579e-06 | \n",
       "| 0-12 | 0-12         | 0            | 12           | 5.334240e-06 | 4.734680e-07 | 7.937025e-08 | 2.591436e-05 | 9.056793e-08 | 4.281273e-06 | \n",
       "| 0-13 | 0-13         | 0            | 13           | 7.174365e-06 | 9.491940e-08 | 1.126407e-07 | 3.001615e-05 | 7.107149e-08 | 8.649644e-07 | \n",
       "\n",
       "\n"
      ],
      "text/plain": [
       "     posXY posX posY 00:0f:a3:39:e1:c0 00:14:bf:3b:c7:c6 00:14:bf:b1:97:81\n",
       "0-0  0-0   0     0   2.725382e-06      2.497653e-07      7.651718e-07     \n",
       "0-1  0-1   0     1   1.168580e-05      5.416039e-07      3.182346e-07     \n",
       "0-10 0-10  0    10   4.526719e-06      5.841253e-07      1.017751e-07     \n",
       "0-11 0-11  0    11   1.369821e-06      3.051131e-07      1.189298e-07     \n",
       "0-12 0-12  0    12   5.334240e-06      4.734680e-07      7.937025e-08     \n",
       "0-13 0-13  0    13   7.174365e-06      9.491940e-08      1.126407e-07     \n",
       "     00:14:bf:b1:97:8a 00:14:bf:b1:97:8d 00:14:bf:b1:97:90\n",
       "0-0  4.051741e-04      4.178544e-07      1.995262e-06     \n",
       "0-1  1.584893e-04      2.669045e-07      1.340667e-06     \n",
       "0-10 2.841253e-05      2.864009e-07      7.580738e-06     \n",
       "0-11 4.983472e-06      3.778809e-07      3.994579e-06     \n",
       "0-12 2.591436e-05      9.056793e-08      4.281273e-06     \n",
       "0-13 3.001615e-05      7.107149e-08      8.649644e-07     "
      ]
     },
     "metadata": {},
     "output_type": "display_data"
    }
   ],
   "source": [
    "trainSS = reshapeSS(offlineSubset, varPower = \"power\")\n",
    "head(trainSS)"
   ]
  },
  {
   "cell_type": "code",
   "execution_count": 79,
   "metadata": {
    "collapsed": true,
    "deletable": true,
    "editable": true
   },
   "outputs": [],
   "source": [
    "selectTrain = function(angleNewObs, signals = NULL, m = 1){\n",
    "      refs = seq(0, by = 45, length  = 8)\n",
    "  nearestAngle = roundOrientation(angleNewObs)\n",
    "  if (m %% 2 == 1)\n",
    "    angles = seq(-45 * (m - 1) /2, 45 * (m - 1) /2, length = m)\n",
    "  else {\n",
    "    m = m + 1\n",
    "    angles = seq(-45 * (m - 1) /2, 45 * (m - 1) /2, length = m)\n",
    "    if (sign(angleNewObs - nearestAngle) > -1)\n",
    "      angles = angles[ -1 ]\n",
    "    else\n",
    "      angles = angles[ -m ]\n",
    "  }\n",
    "  angles = angles + nearestAngle\n",
    "  angles[angles < 0] = angles[ angles < 0 ] + 360\n",
    "  angles[angles > 360] = angles[ angles > 360 ] - 360\n",
    "  angles = sort(angles)\n",
    "  offlineSubset = signals[ signals$angle %in% angles, ]\n",
    "  reshapeSS(offlineSubset, varPower = \"power\")\n",
    "}"
   ]
  },
  {
   "cell_type": "code",
   "execution_count": 80,
   "metadata": {
    "collapsed": false,
    "deletable": true,
    "editable": true
   },
   "outputs": [
    {
     "data": {
      "text/html": [
       "<table>\n",
       "<thead><tr><th></th><th scope=col>posXY</th><th scope=col>posX</th><th scope=col>posY</th><th scope=col>00:0f:a3:39:e1:c0</th><th scope=col>00:14:bf:3b:c7:c6</th><th scope=col>00:14:bf:b1:97:81</th><th scope=col>00:14:bf:b1:97:8a</th><th scope=col>00:14:bf:b1:97:8d</th><th scope=col>00:14:bf:b1:97:90</th></tr></thead>\n",
       "<tbody>\n",
       "\t<tr><th scope=row>0-0</th><td>0-0         </td><td>0           </td><td> 0          </td><td>2.725382e-06</td><td>5.453355e-07</td><td>6.400736e-07</td><td>2.645893e-04</td><td>5.645409e-07</td><td>3.319135e-06</td></tr>\n",
       "\t<tr><th scope=row>0-1</th><td>0-1         </td><td>0           </td><td> 1          </td><td>1.223459e-05</td><td>6.854143e-07</td><td>5.325445e-07</td><td>1.326088e-04</td><td>4.651718e-07</td><td>1.366848e-06</td></tr>\n",
       "\t<tr><th scope=row>0-10</th><td>0-10        </td><td>0           </td><td>10          </td><td>1.263197e-06</td><td>1.669445e-07</td><td>2.532255e-07</td><td>3.605574e-05</td><td>2.110688e-07</td><td>1.251792e-05</td></tr>\n",
       "\t<tr><th scope=row>0-11</th><td>0-11        </td><td>0           </td><td>11          </td><td>2.736898e-06</td><td>3.562917e-07</td><td>8.713192e-08</td><td>1.424000e-05</td><td>3.000799e-07</td><td>2.030681e-06</td></tr>\n",
       "\t<tr><th scope=row>0-12</th><td>0-12        </td><td>0           </td><td>12          </td><td>6.304603e-06</td><td>1.071950e-07</td><td>6.330981e-08</td><td>4.185104e-05</td><td>1.321372e-07</td><td>7.844260e-06</td></tr>\n",
       "\t<tr><th scope=row>0-13</th><td>0-13        </td><td>0           </td><td>13          </td><td>3.253014e-06</td><td>7.970233e-08</td><td>6.763548e-08</td><td>4.267511e-05</td><td>1.000000e-07</td><td>5.526775e-06</td></tr>\n",
       "</tbody>\n",
       "</table>\n"
      ],
      "text/latex": [
       "\\begin{tabular}{r|lllllllll}\n",
       "  & posXY & posX & posY & 00:0f:a3:39:e1:c0 & 00:14:bf:3b:c7:c6 & 00:14:bf:b1:97:81 & 00:14:bf:b1:97:8a & 00:14:bf:b1:97:8d & 00:14:bf:b1:97:90\\\\\n",
       "\\hline\n",
       "\t0-0 & 0-0          & 0            &  0           & 2.725382e-06 & 5.453355e-07 & 6.400736e-07 & 2.645893e-04 & 5.645409e-07 & 3.319135e-06\\\\\n",
       "\t0-1 & 0-1          & 0            &  1           & 1.223459e-05 & 6.854143e-07 & 5.325445e-07 & 1.326088e-04 & 4.651718e-07 & 1.366848e-06\\\\\n",
       "\t0-10 & 0-10         & 0            & 10           & 1.263197e-06 & 1.669445e-07 & 2.532255e-07 & 3.605574e-05 & 2.110688e-07 & 1.251792e-05\\\\\n",
       "\t0-11 & 0-11         & 0            & 11           & 2.736898e-06 & 3.562917e-07 & 8.713192e-08 & 1.424000e-05 & 3.000799e-07 & 2.030681e-06\\\\\n",
       "\t0-12 & 0-12         & 0            & 12           & 6.304603e-06 & 1.071950e-07 & 6.330981e-08 & 4.185104e-05 & 1.321372e-07 & 7.844260e-06\\\\\n",
       "\t0-13 & 0-13         & 0            & 13           & 3.253014e-06 & 7.970233e-08 & 6.763548e-08 & 4.267511e-05 & 1.000000e-07 & 5.526775e-06\\\\\n",
       "\\end{tabular}\n"
      ],
      "text/markdown": [
       "\n",
       "| <!--/--> | posXY | posX | posY | 00:0f:a3:39:e1:c0 | 00:14:bf:3b:c7:c6 | 00:14:bf:b1:97:81 | 00:14:bf:b1:97:8a | 00:14:bf:b1:97:8d | 00:14:bf:b1:97:90 | \n",
       "|---|---|---|---|---|---|\n",
       "| 0-0 | 0-0          | 0            |  0           | 2.725382e-06 | 5.453355e-07 | 6.400736e-07 | 2.645893e-04 | 5.645409e-07 | 3.319135e-06 | \n",
       "| 0-1 | 0-1          | 0            |  1           | 1.223459e-05 | 6.854143e-07 | 5.325445e-07 | 1.326088e-04 | 4.651718e-07 | 1.366848e-06 | \n",
       "| 0-10 | 0-10         | 0            | 10           | 1.263197e-06 | 1.669445e-07 | 2.532255e-07 | 3.605574e-05 | 2.110688e-07 | 1.251792e-05 | \n",
       "| 0-11 | 0-11         | 0            | 11           | 2.736898e-06 | 3.562917e-07 | 8.713192e-08 | 1.424000e-05 | 3.000799e-07 | 2.030681e-06 | \n",
       "| 0-12 | 0-12         | 0            | 12           | 6.304603e-06 | 1.071950e-07 | 6.330981e-08 | 4.185104e-05 | 1.321372e-07 | 7.844260e-06 | \n",
       "| 0-13 | 0-13         | 0            | 13           | 3.253014e-06 | 7.970233e-08 | 6.763548e-08 | 4.267511e-05 | 1.000000e-07 | 5.526775e-06 | \n",
       "\n",
       "\n"
      ],
      "text/plain": [
       "     posXY posX posY 00:0f:a3:39:e1:c0 00:14:bf:3b:c7:c6 00:14:bf:b1:97:81\n",
       "0-0  0-0   0     0   2.725382e-06      5.453355e-07      6.400736e-07     \n",
       "0-1  0-1   0     1   1.223459e-05      6.854143e-07      5.325445e-07     \n",
       "0-10 0-10  0    10   1.263197e-06      1.669445e-07      2.532255e-07     \n",
       "0-11 0-11  0    11   2.736898e-06      3.562917e-07      8.713192e-08     \n",
       "0-12 0-12  0    12   6.304603e-06      1.071950e-07      6.330981e-08     \n",
       "0-13 0-13  0    13   3.253014e-06      7.970233e-08      6.763548e-08     \n",
       "     00:14:bf:b1:97:8a 00:14:bf:b1:97:8d 00:14:bf:b1:97:90\n",
       "0-0  2.645893e-04      5.645409e-07      3.319135e-06     \n",
       "0-1  1.326088e-04      4.651718e-07      1.366848e-06     \n",
       "0-10 3.605574e-05      2.110688e-07      1.251792e-05     \n",
       "0-11 1.424000e-05      3.000799e-07      2.030681e-06     \n",
       "0-12 4.185104e-05      1.321372e-07      7.844260e-06     \n",
       "0-13 4.267511e-05      1.000000e-07      5.526775e-06     "
      ]
     },
     "metadata": {},
     "output_type": "display_data"
    }
   ],
   "source": [
    "train130 = selectTrain(130, offlineSummary, m = 3)\n",
    "head(train130)"
   ]
  },
  {
   "cell_type": "code",
   "execution_count": 81,
   "metadata": {
    "collapsed": false,
    "deletable": true,
    "editable": true
   },
   "outputs": [
    {
     "data": {
      "text/html": [
       "166"
      ],
      "text/latex": [
       "166"
      ],
      "text/markdown": [
       "166"
      ],
      "text/plain": [
       "[1] 166"
      ]
     },
     "metadata": {},
     "output_type": "display_data"
    }
   ],
   "source": [
    "length(train130[[1]])"
   ]
  },
  {
   "cell_type": "code",
   "execution_count": 82,
   "metadata": {
    "collapsed": true,
    "deletable": true,
    "editable": true
   },
   "outputs": [],
   "source": [
    "findNN = function(newSignal, trainSubset) {\n",
    "  diffs = apply(trainSubset[ , 4:9], 1, function(x) x - newSignal)\n",
    "  dists = apply(diffs, 2, function(x) sqrt(sum(x^2)) )\n",
    "  closest = order(dists)\n",
    "  return(trainSubset[closest, 1:3 ])\n",
    "}"
   ]
  },
  {
   "cell_type": "code",
   "execution_count": 83,
   "metadata": {
    "collapsed": true,
    "deletable": true,
    "editable": true
   },
   "outputs": [],
   "source": [
    "predXY = function(newSignals, newAngles, trainData, numAngles = 1, k = 3){\n",
    "  closeXY = list(length = nrow(newSignals))\n",
    "\n",
    "  for (i in 1:nrow(newSignals)) {\n",
    "    trainSS = selectTrain(newAngles[i], trainData, m = numAngles)\n",
    "    closeXY[[i]] = findNN(newSignal = as.numeric(newSignals[i, ]), trainSS)\n",
    "  }\n",
    "  # for some k of nearest neighbors, simply average the first k locations\n",
    "  # could have used weights in the average that are inversely proportional to the distance in signal strength\n",
    "  # from the test observation. will need to call findNN() to get distance to point. the weights\n",
    "  # are 1/d / sum(1/d).\n",
    "  # could also use a different metric besides Euclidean like Manhattan.\n",
    "  # could use medians instead of averages when combining neighbors if the distribution of values are quite skewed.\n",
    "  estXY = lapply(closeXY, function(x) sapply(x[ , 2:3], function(x) mean(x[1:k])))\n",
    "  estXY = do.call(\"rbind\", estXY)\n",
    "  return(estXY)\n",
    "}"
   ]
  },
  {
   "cell_type": "code",
   "execution_count": 84,
   "metadata": {
    "collapsed": true,
    "deletable": true,
    "editable": true
   },
   "outputs": [],
   "source": [
    "estXYk3 = predXY(newSignals = onlineSummary[ , 7:12],\n",
    "                 newAngles = onlineSummary[ , 4],\n",
    "                 offlineSummary, numAngles = 3, k = 3)"
   ]
  },
  {
   "cell_type": "code",
   "execution_count": 85,
   "metadata": {
    "collapsed": true,
    "deletable": true,
    "editable": true
   },
   "outputs": [],
   "source": [
    "estXYk1 = predXY(newSignals = onlineSummary[ , 7:12],\n",
    "                 newAngles = onlineSummary[ , 4],\n",
    "                 offlineSummary, numAngles = 3, k = 1)"
   ]
  },
  {
   "cell_type": "code",
   "execution_count": 101,
   "metadata": {
    "collapsed": false
   },
   "outputs": [],
   "source": [
    "estXYk5 = predXY(newSignals = onlineSummary[ , 7:12],\n",
    "                 newAngles = onlineSummary[ , 4],\n",
    "                 offlineSummary, numAngles = 3, k = 5)"
   ]
  },
  {
   "cell_type": "code",
   "execution_count": 104,
   "metadata": {
    "collapsed": true
   },
   "outputs": [],
   "source": [
    "estXYk4 = predXY(newSignals = onlineSummary[ , 7:12],\n",
    "                 newAngles = onlineSummary[ , 4],\n",
    "                 offlineSummary, numAngles = 3, k = 4)"
   ]
  },
  {
   "cell_type": "code",
   "execution_count": 86,
   "metadata": {
    "collapsed": true,
    "deletable": true,
    "editable": true
   },
   "outputs": [],
   "source": [
    "floorErrorMap = function(estXY, actualXY, trainPoints = NULL, AP = NULL){\n",
    "    plot(0, 0, xlim = c(0, 35), ylim = c(-3, 15), type = \"n\", xlab = \"\", ylab = \"\", axes = FALSE)\n",
    "    box()\n",
    "    # plot AP\n",
    "    if ( !is.null(AP) ) points(AP, pch = 15)\n",
    "    # plot training points\n",
    "    if ( !is.null(trainPoints) )\n",
    "      points(trainPoints, pch = 19, col=\"grey\", cex = 0.6)\n",
    "    # plot actual point (black dot)\n",
    "    points(x = actualXY[, 1], y = actualXY[, 2], pch = 19, cex = 0.8 )\n",
    "    # plot predicted point (asterisk)\n",
    "    points(x = estXY[, 1], y = estXY[, 2], pch = 8, cex = 0.8 )\n",
    "    # redline from actual to predicted\n",
    "    segments(x0 = estXY[, 1], y0 = estXY[, 2], x1 = actualXY[, 1], y1 = actualXY[ , 2], lwd = 2, col = \"red\")\n",
    "}"
   ]
  },
  {
   "cell_type": "code",
   "execution_count": 87,
   "metadata": {
    "collapsed": true,
    "deletable": true,
    "editable": true
   },
   "outputs": [],
   "source": [
    "trainPoints = offlineSummary[ offlineSummary$angle == 0 & offlineSummary$mac == \"00:0f:a3:39:e1:c0\",\n",
    "                              c(\"posX\", \"posY\")]"
   ]
  },
  {
   "cell_type": "code",
   "execution_count": 88,
   "metadata": {
    "collapsed": false,
    "deletable": true,
    "editable": true
   },
   "outputs": [
    {
     "data": {
      "image/png": "[encoded data removed]",
      "text/plain": [
       "plot without title"
      ]
     },
     "metadata": {},
     "output_type": "display_data"
    }
   ],
   "source": [
    "floorErrorMap(estXYk3, onlineSummary[ , c(\"posX\",\"posY\")], trainPoints = trainPoints, AP = AP)"
   ]
  },
  {
   "cell_type": "code",
   "execution_count": 89,
   "metadata": {
    "collapsed": false,
    "deletable": true,
    "editable": true
   },
   "outputs": [
    {
     "data": {
      "image/png": "[encoded data removed]",
      "text/plain": [
       "plot without title"
      ]
     },
     "metadata": {},
     "output_type": "display_data"
    }
   ],
   "source": [
    "floorErrorMap(estXYk1, onlineSummary[ , c(\"posX\",\"posY\")], trainPoints = trainPoints, AP = AP)"
   ]
  },
  {
   "cell_type": "code",
   "execution_count": 102,
   "metadata": {
    "collapsed": false
   },
   "outputs": [
    {
     "data": {
      "image/png": "[encoded data removed]",
      "text/plain": [
       "plot without title"
      ]
     },
     "metadata": {},
     "output_type": "display_data"
    }
   ],
   "source": [
    "floorErrorMap(estXYk5, onlineSummary[ , c(\"posX\",\"posY\")], trainPoints = trainPoints, AP = AP)"
   ]
  },
  {
   "cell_type": "code",
   "execution_count": 105,
   "metadata": {
    "collapsed": false
   },
   "outputs": [
    {
     "data": {
      "image/png": "[encoded data removed]",
      "text/plain": [
       "plot without title"
      ]
     },
     "metadata": {},
     "output_type": "display_data"
    }
   ],
   "source": [
    "floorErrorMap(estXYk4, onlineSummary[ , c(\"posX\",\"posY\")], trainPoints = trainPoints, AP = AP)"
   ]
  },
  {
   "cell_type": "code",
   "execution_count": 90,
   "metadata": {
    "collapsed": true
   },
   "outputs": [],
   "source": [
    "calcError = function(estXY, actualXY) {\n",
    "  sum(rowSums((estXY - actualXY) ^ 2))\n",
    "}"
   ]
  },
  {
   "cell_type": "code",
   "execution_count": 91,
   "metadata": {
    "collapsed": true
   },
   "outputs": [],
   "source": [
    "actualXY = onlineSummary[ , c(\"posX\", \"posY\")]"
   ]
  },
  {
   "cell_type": "code",
   "execution_count": 106,
   "metadata": {
    "collapsed": false
   },
   "outputs": [
    {
     "data": {
      "text/html": [
       "<ol class=list-inline>\n",
       "\t<li>779.8603</li>\n",
       "\t<li>598.886966666667</li>\n",
       "\t<li>546.8603</li>\n",
       "\t<li>640.8003</li>\n",
       "</ol>\n"
      ],
      "text/latex": [
       "\\begin{enumerate*}\n",
       "\\item 779.8603\n",
       "\\item 598.886966666667\n",
       "\\item 546.8603\n",
       "\\item 640.8003\n",
       "\\end{enumerate*}\n"
      ],
      "text/markdown": [
       "1. 779.8603\n",
       "2. 598.886966666667\n",
       "3. 546.8603\n",
       "4. 640.8003\n",
       "\n",
       "\n"
      ],
      "text/plain": [
       "[1] 779.8603 598.8870 546.8603 640.8003"
      ]
     },
     "metadata": {},
     "output_type": "display_data"
    }
   ],
   "source": [
    "sapply(list(estXYk1, estXYk3, estXYk4, estXYk5), calcError, actualXY)"
   ]
  },
  {
   "cell_type": "code",
   "execution_count": 93,
   "metadata": {
    "collapsed": false
   },
   "outputs": [
    {
     "name": "stderr",
     "output_type": "stream",
     "text": [
      "Warning message in matrix(permuteLocs, ncol = v, nrow = floor(length(permuteLocs)/v)):\n",
      "\"data length [166] is not a sub-multiple or multiple of the number of rows [15]\""
     ]
    }
   ],
   "source": [
    "v = 11\n",
    "permuteLocs = sample(unique(offlineSummary$posXY))\n",
    "permuteLocs = matrix(permuteLocs, ncol = v, nrow = floor(length(permuteLocs)/v))\n",
    "onlineFold = subset(offlineSummary, posXY %in% permuteLocs[ , 1])"
   ]
  },
  {
   "cell_type": "code",
   "execution_count": 114,
   "metadata": {
    "collapsed": false
   },
   "outputs": [
    {
     "data": {
      "text/html": [
       "<ol class=list-inline>\n",
       "\t<li>'22-5'</li>\n",
       "\t<li>'2-6'</li>\n",
       "\t<li>'0-4'</li>\n",
       "\t<li>'8-7'</li>\n",
       "\t<li>'2-4'</li>\n",
       "\t<li>'1-10'</li>\n",
       "\t<li>'25-7'</li>\n",
       "\t<li>'0-8'</li>\n",
       "\t<li>'2-5'</li>\n",
       "\t<li>'1-3'</li>\n",
       "\t<li>'7-7'</li>\n",
       "\t<li>'12-7'</li>\n",
       "\t<li>'25-4'</li>\n",
       "\t<li>'31-7'</li>\n",
       "\t<li>'18-8'</li>\n",
       "\t<li>'23-5'</li>\n",
       "\t<li>'24-6'</li>\n",
       "\t<li>'22-8'</li>\n",
       "\t<li>'24-7'</li>\n",
       "\t<li>'18-3'</li>\n",
       "\t<li>'1-4'</li>\n",
       "\t<li>'32-7'</li>\n",
       "\t<li>'0-3'</li>\n",
       "\t<li>'22-6'</li>\n",
       "\t<li>'19-7'</li>\n",
       "\t<li>'5-7'</li>\n",
       "\t<li>'0-11'</li>\n",
       "\t<li>'4-3'</li>\n",
       "\t<li>'0-2'</li>\n",
       "\t<li>'28-8'</li>\n",
       "\t<li>'24-4'</li>\n",
       "\t<li>'21-5'</li>\n",
       "\t<li>'0-9'</li>\n",
       "\t<li>'18-7'</li>\n",
       "\t<li>'10-7'</li>\n",
       "\t<li>'16-8'</li>\n",
       "\t<li>'10-6'</li>\n",
       "\t<li>'16-3'</li>\n",
       "\t<li>'1-1'</li>\n",
       "\t<li>'3-7'</li>\n",
       "\t<li>'9-3'</li>\n",
       "\t<li>'2-7'</li>\n",
       "\t<li>'26-7'</li>\n",
       "\t<li>'22-4'</li>\n",
       "\t<li>'9-8'</li>\n",
       "\t<li>'1-9'</li>\n",
       "\t<li>'9-4'</li>\n",
       "\t<li>'31-8'</li>\n",
       "\t<li>'11-3'</li>\n",
       "\t<li>'25-8'</li>\n",
       "\t<li>'23-8'</li>\n",
       "\t<li>'1-2'</li>\n",
       "\t<li>'22-3'</li>\n",
       "\t<li>'6-8'</li>\n",
       "\t<li>'20-7'</li>\n",
       "\t<li>'24-3'</li>\n",
       "\t<li>'2-8'</li>\n",
       "\t<li>'19-3'</li>\n",
       "\t<li>'19-8'</li>\n",
       "\t<li>'1-7'</li>\n",
       "\t<li>'2-13'</li>\n",
       "\t<li>'0-0'</li>\n",
       "\t<li>'24-5'</li>\n",
       "\t<li>'32-8'</li>\n",
       "\t<li>'14-3'</li>\n",
       "\t<li>'2-3'</li>\n",
       "\t<li>'2-12'</li>\n",
       "\t<li>'17-8'</li>\n",
       "\t<li>'20-3'</li>\n",
       "\t<li>'10-8'</li>\n",
       "\t<li>'12-6'</li>\n",
       "\t<li>'15-3'</li>\n",
       "\t<li>'0-7'</li>\n",
       "\t<li>'6-3'</li>\n",
       "\t<li>'20-8'</li>\n",
       "\t<li>'13-8'</li>\n",
       "\t<li>'3-8'</li>\n",
       "\t<li>'23-6'</li>\n",
       "\t<li>'1-0'</li>\n",
       "\t<li>'23-4'</li>\n",
       "\t<li>'11-7'</li>\n",
       "\t<li>'32-5'</li>\n",
       "\t<li>'32-3'</li>\n",
       "\t<li>'33-3'</li>\n",
       "\t<li>'27-8'</li>\n",
       "\t<li>'28-7'</li>\n",
       "\t<li>'30-7'</li>\n",
       "\t<li>'2-2'</li>\n",
       "\t<li>'23-7'</li>\n",
       "\t<li>'5-8'</li>\n",
       "\t<li>'13-6'</li>\n",
       "\t<li>'11-5'</li>\n",
       "\t<li>'7-3'</li>\n",
       "\t<li>'1-12'</li>\n",
       "\t<li>'2-9'</li>\n",
       "\t<li>'26-5'</li>\n",
       "\t<li>'11-8'</li>\n",
       "\t<li>'27-7'</li>\n",
       "\t<li>'21-3'</li>\n",
       "\t<li>'17-3'</li>\n",
       "\t<li>'2-11'</li>\n",
       "\t<li>'30-3'</li>\n",
       "\t<li>'10-5'</li>\n",
       "\t<li>'33-7'</li>\n",
       "\t<li>'1-11'</li>\n",
       "\t<li>'21-6'</li>\n",
       "\t<li>'2-0'</li>\n",
       "\t<li>'13-7'</li>\n",
       "\t<li>'1-13'</li>\n",
       "\t<li>'11-4'</li>\n",
       "\t<li>'5-3'</li>\n",
       "\t<li>'1-6'</li>\n",
       "\t<li>'31-3'</li>\n",
       "\t<li>'14-7'</li>\n",
       "\t<li>'33-8'</li>\n",
       "\t<li>'0-12'</li>\n",
       "\t<li>'28-3'</li>\n",
       "\t<li>'29-8'</li>\n",
       "\t<li>'33-4'</li>\n",
       "\t<li>'22-7'</li>\n",
       "\t<li>'4-7'</li>\n",
       "\t<li>'1-5'</li>\n",
       "\t<li>'7-8'</li>\n",
       "\t<li>'24-8'</li>\n",
       "\t<li>'0-10'</li>\n",
       "\t<li>'13-4'</li>\n",
       "\t<li>'32-4'</li>\n",
       "\t<li>'6-7'</li>\n",
       "\t<li>'16-7'</li>\n",
       "\t<li>'8-3'</li>\n",
       "\t<li>'12-3'</li>\n",
       "\t<li>'21-7'</li>\n",
       "\t<li>'2-10'</li>\n",
       "\t<li>'26-6'</li>\n",
       "\t<li>'12-5'</li>\n",
       "\t<li>'26-8'</li>\n",
       "\t<li>'0-1'</li>\n",
       "\t<li>'0-13'</li>\n",
       "\t<li>'1-8'</li>\n",
       "\t<li>'11-6'</li>\n",
       "\t<li>'13-3'</li>\n",
       "\t<li>'26-3'</li>\n",
       "\t<li>'30-8'</li>\n",
       "\t<li>'2-1'</li>\n",
       "\t<li>'10-3'</li>\n",
       "\t<li>'32-6'</li>\n",
       "\t<li>'14-8'</li>\n",
       "\t<li>'10-4'</li>\n",
       "\t<li>'26-4'</li>\n",
       "\t<li>'15-7'</li>\n",
       "\t<li>'3-3'</li>\n",
       "\t<li>'13-5'</li>\n",
       "\t<li>'23-3'</li>\n",
       "\t<li>'29-3'</li>\n",
       "\t<li>'8-8'</li>\n",
       "\t<li>'27-3'</li>\n",
       "\t<li>'9-7'</li>\n",
       "\t<li>'21-8'</li>\n",
       "\t<li>'15-8'</li>\n",
       "\t<li>'12-4'</li>\n",
       "\t<li>'29-7'</li>\n",
       "\t<li>'17-7'</li>\n",
       "\t<li>'12-8'</li>\n",
       "\t<li>'21-4'</li>\n",
       "\t<li>'4-8'</li>\n",
       "\t<li>'25-3'</li>\n",
       "</ol>\n"
      ],
      "text/latex": [
       "\\begin{enumerate*}\n",
       "\\item '22-5'\n",
       "\\item '2-6'\n",
       "\\item '0-4'\n",
       "\\item '8-7'\n",
       "\\item '2-4'\n",
       "\\item '1-10'\n",
       "\\item '25-7'\n",
       "\\item '0-8'\n",
       "\\item '2-5'\n",
       "\\item '1-3'\n",
       "\\item '7-7'\n",
       "\\item '12-7'\n",
       "\\item '25-4'\n",
       "\\item '31-7'\n",
       "\\item '18-8'\n",
       "\\item '23-5'\n",
       "\\item '24-6'\n",
       "\\item '22-8'\n",
       "\\item '24-7'\n",
       "\\item '18-3'\n",
       "\\item '1-4'\n",
       "\\item '32-7'\n",
       "\\item '0-3'\n",
       "\\item '22-6'\n",
       "\\item '19-7'\n",
       "\\item '5-7'\n",
       "\\item '0-11'\n",
       "\\item '4-3'\n",
       "\\item '0-2'\n",
       "\\item '28-8'\n",
       "\\item '24-4'\n",
       "\\item '21-5'\n",
       "\\item '0-9'\n",
       "\\item '18-7'\n",
       "\\item '10-7'\n",
       "\\item '16-8'\n",
       "\\item '10-6'\n",
       "\\item '16-3'\n",
       "\\item '1-1'\n",
       "\\item '3-7'\n",
       "\\item '9-3'\n",
       "\\item '2-7'\n",
       "\\item '26-7'\n",
       "\\item '22-4'\n",
       "\\item '9-8'\n",
       "\\item '1-9'\n",
       "\\item '9-4'\n",
       "\\item '31-8'\n",
       "\\item '11-3'\n",
       "\\item '25-8'\n",
       "\\item '23-8'\n",
       "\\item '1-2'\n",
       "\\item '22-3'\n",
       "\\item '6-8'\n",
       "\\item '20-7'\n",
       "\\item '24-3'\n",
       "\\item '2-8'\n",
       "\\item '19-3'\n",
       "\\item '19-8'\n",
       "\\item '1-7'\n",
       "\\item '2-13'\n",
       "\\item '0-0'\n",
       "\\item '24-5'\n",
       "\\item '32-8'\n",
       "\\item '14-3'\n",
       "\\item '2-3'\n",
       "\\item '2-12'\n",
       "\\item '17-8'\n",
       "\\item '20-3'\n",
       "\\item '10-8'\n",
       "\\item '12-6'\n",
       "\\item '15-3'\n",
       "\\item '0-7'\n",
       "\\item '6-3'\n",
       "\\item '20-8'\n",
       "\\item '13-8'\n",
       "\\item '3-8'\n",
       "\\item '23-6'\n",
       "\\item '1-0'\n",
       "\\item '23-4'\n",
       "\\item '11-7'\n",
       "\\item '32-5'\n",
       "\\item '32-3'\n",
       "\\item '33-3'\n",
       "\\item '27-8'\n",
       "\\item '28-7'\n",
       "\\item '30-7'\n",
       "\\item '2-2'\n",
       "\\item '23-7'\n",
       "\\item '5-8'\n",
       "\\item '13-6'\n",
       "\\item '11-5'\n",
       "\\item '7-3'\n",
       "\\item '1-12'\n",
       "\\item '2-9'\n",
       "\\item '26-5'\n",
       "\\item '11-8'\n",
       "\\item '27-7'\n",
       "\\item '21-3'\n",
       "\\item '17-3'\n",
       "\\item '2-11'\n",
       "\\item '30-3'\n",
       "\\item '10-5'\n",
       "\\item '33-7'\n",
       "\\item '1-11'\n",
       "\\item '21-6'\n",
       "\\item '2-0'\n",
       "\\item '13-7'\n",
       "\\item '1-13'\n",
       "\\item '11-4'\n",
       "\\item '5-3'\n",
       "\\item '1-6'\n",
       "\\item '31-3'\n",
       "\\item '14-7'\n",
       "\\item '33-8'\n",
       "\\item '0-12'\n",
       "\\item '28-3'\n",
       "\\item '29-8'\n",
       "\\item '33-4'\n",
       "\\item '22-7'\n",
       "\\item '4-7'\n",
       "\\item '1-5'\n",
       "\\item '7-8'\n",
       "\\item '24-8'\n",
       "\\item '0-10'\n",
       "\\item '13-4'\n",
       "\\item '32-4'\n",
       "\\item '6-7'\n",
       "\\item '16-7'\n",
       "\\item '8-3'\n",
       "\\item '12-3'\n",
       "\\item '21-7'\n",
       "\\item '2-10'\n",
       "\\item '26-6'\n",
       "\\item '12-5'\n",
       "\\item '26-8'\n",
       "\\item '0-1'\n",
       "\\item '0-13'\n",
       "\\item '1-8'\n",
       "\\item '11-6'\n",
       "\\item '13-3'\n",
       "\\item '26-3'\n",
       "\\item '30-8'\n",
       "\\item '2-1'\n",
       "\\item '10-3'\n",
       "\\item '32-6'\n",
       "\\item '14-8'\n",
       "\\item '10-4'\n",
       "\\item '26-4'\n",
       "\\item '15-7'\n",
       "\\item '3-3'\n",
       "\\item '13-5'\n",
       "\\item '23-3'\n",
       "\\item '29-3'\n",
       "\\item '8-8'\n",
       "\\item '27-3'\n",
       "\\item '9-7'\n",
       "\\item '21-8'\n",
       "\\item '15-8'\n",
       "\\item '12-4'\n",
       "\\item '29-7'\n",
       "\\item '17-7'\n",
       "\\item '12-8'\n",
       "\\item '21-4'\n",
       "\\item '4-8'\n",
       "\\item '25-3'\n",
       "\\end{enumerate*}\n"
      ],
      "text/markdown": [
       "1. '22-5'\n",
       "2. '2-6'\n",
       "3. '0-4'\n",
       "4. '8-7'\n",
       "5. '2-4'\n",
       "6. '1-10'\n",
       "7. '25-7'\n",
       "8. '0-8'\n",
       "9. '2-5'\n",
       "10. '1-3'\n",
       "11. '7-7'\n",
       "12. '12-7'\n",
       "13. '25-4'\n",
       "14. '31-7'\n",
       "15. '18-8'\n",
       "16. '23-5'\n",
       "17. '24-6'\n",
       "18. '22-8'\n",
       "19. '24-7'\n",
       "20. '18-3'\n",
       "21. '1-4'\n",
       "22. '32-7'\n",
       "23. '0-3'\n",
       "24. '22-6'\n",
       "25. '19-7'\n",
       "26. '5-7'\n",
       "27. '0-11'\n",
       "28. '4-3'\n",
       "29. '0-2'\n",
       "30. '28-8'\n",
       "31. '24-4'\n",
       "32. '21-5'\n",
       "33. '0-9'\n",
       "34. '18-7'\n",
       "35. '10-7'\n",
       "36. '16-8'\n",
       "37. '10-6'\n",
       "38. '16-3'\n",
       "39. '1-1'\n",
       "40. '3-7'\n",
       "41. '9-3'\n",
       "42. '2-7'\n",
       "43. '26-7'\n",
       "44. '22-4'\n",
       "45. '9-8'\n",
       "46. '1-9'\n",
       "47. '9-4'\n",
       "48. '31-8'\n",
       "49. '11-3'\n",
       "50. '25-8'\n",
       "51. '23-8'\n",
       "52. '1-2'\n",
       "53. '22-3'\n",
       "54. '6-8'\n",
       "55. '20-7'\n",
       "56. '24-3'\n",
       "57. '2-8'\n",
       "58. '19-3'\n",
       "59. '19-8'\n",
       "60. '1-7'\n",
       "61. '2-13'\n",
       "62. '0-0'\n",
       "63. '24-5'\n",
       "64. '32-8'\n",
       "65. '14-3'\n",
       "66. '2-3'\n",
       "67. '2-12'\n",
       "68. '17-8'\n",
       "69. '20-3'\n",
       "70. '10-8'\n",
       "71. '12-6'\n",
       "72. '15-3'\n",
       "73. '0-7'\n",
       "74. '6-3'\n",
       "75. '20-8'\n",
       "76. '13-8'\n",
       "77. '3-8'\n",
       "78. '23-6'\n",
       "79. '1-0'\n",
       "80. '23-4'\n",
       "81. '11-7'\n",
       "82. '32-5'\n",
       "83. '32-3'\n",
       "84. '33-3'\n",
       "85. '27-8'\n",
       "86. '28-7'\n",
       "87. '30-7'\n",
       "88. '2-2'\n",
       "89. '23-7'\n",
       "90. '5-8'\n",
       "91. '13-6'\n",
       "92. '11-5'\n",
       "93. '7-3'\n",
       "94. '1-12'\n",
       "95. '2-9'\n",
       "96. '26-5'\n",
       "97. '11-8'\n",
       "98. '27-7'\n",
       "99. '21-3'\n",
       "100. '17-3'\n",
       "101. '2-11'\n",
       "102. '30-3'\n",
       "103. '10-5'\n",
       "104. '33-7'\n",
       "105. '1-11'\n",
       "106. '21-6'\n",
       "107. '2-0'\n",
       "108. '13-7'\n",
       "109. '1-13'\n",
       "110. '11-4'\n",
       "111. '5-3'\n",
       "112. '1-6'\n",
       "113. '31-3'\n",
       "114. '14-7'\n",
       "115. '33-8'\n",
       "116. '0-12'\n",
       "117. '28-3'\n",
       "118. '29-8'\n",
       "119. '33-4'\n",
       "120. '22-7'\n",
       "121. '4-7'\n",
       "122. '1-5'\n",
       "123. '7-8'\n",
       "124. '24-8'\n",
       "125. '0-10'\n",
       "126. '13-4'\n",
       "127. '32-4'\n",
       "128. '6-7'\n",
       "129. '16-7'\n",
       "130. '8-3'\n",
       "131. '12-3'\n",
       "132. '21-7'\n",
       "133. '2-10'\n",
       "134. '26-6'\n",
       "135. '12-5'\n",
       "136. '26-8'\n",
       "137. '0-1'\n",
       "138. '0-13'\n",
       "139. '1-8'\n",
       "140. '11-6'\n",
       "141. '13-3'\n",
       "142. '26-3'\n",
       "143. '30-8'\n",
       "144. '2-1'\n",
       "145. '10-3'\n",
       "146. '32-6'\n",
       "147. '14-8'\n",
       "148. '10-4'\n",
       "149. '26-4'\n",
       "150. '15-7'\n",
       "151. '3-3'\n",
       "152. '13-5'\n",
       "153. '23-3'\n",
       "154. '29-3'\n",
       "155. '8-8'\n",
       "156. '27-3'\n",
       "157. '9-7'\n",
       "158. '21-8'\n",
       "159. '15-8'\n",
       "160. '12-4'\n",
       "161. '29-7'\n",
       "162. '17-7'\n",
       "163. '12-8'\n",
       "164. '21-4'\n",
       "165. '4-8'\n",
       "166. '25-3'\n",
       "\n",
       "\n"
      ],
      "text/plain": [
       "  [1] \"22-5\" \"2-6\"  \"0-4\"  \"8-7\"  \"2-4\"  \"1-10\" \"25-7\" \"0-8\"  \"2-5\"  \"1-3\" \n",
       " [11] \"7-7\"  \"12-7\" \"25-4\" \"31-7\" \"18-8\" \"23-5\" \"24-6\" \"22-8\" \"24-7\" \"18-3\"\n",
       " [21] \"1-4\"  \"32-7\" \"0-3\"  \"22-6\" \"19-7\" \"5-7\"  \"0-11\" \"4-3\"  \"0-2\"  \"28-8\"\n",
       " [31] \"24-4\" \"21-5\" \"0-9\"  \"18-7\" \"10-7\" \"16-8\" \"10-6\" \"16-3\" \"1-1\"  \"3-7\" \n",
       " [41] \"9-3\"  \"2-7\"  \"26-7\" \"22-4\" \"9-8\"  \"1-9\"  \"9-4\"  \"31-8\" \"11-3\" \"25-8\"\n",
       " [51] \"23-8\" \"1-2\"  \"22-3\" \"6-8\"  \"20-7\" \"24-3\" \"2-8\"  \"19-3\" \"19-8\" \"1-7\" \n",
       " [61] \"2-13\" \"0-0\"  \"24-5\" \"32-8\" \"14-3\" \"2-3\"  \"2-12\" \"17-8\" \"20-3\" \"10-8\"\n",
       " [71] \"12-6\" \"15-3\" \"0-7\"  \"6-3\"  \"20-8\" \"13-8\" \"3-8\"  \"23-6\" \"1-0\"  \"23-4\"\n",
       " [81] \"11-7\" \"32-5\" \"32-3\" \"33-3\" \"27-8\" \"28-7\" \"30-7\" \"2-2\"  \"23-7\" \"5-8\" \n",
       " [91] \"13-6\" \"11-5\" \"7-3\"  \"1-12\" \"2-9\"  \"26-5\" \"11-8\" \"27-7\" \"21-3\" \"17-3\"\n",
       "[101] \"2-11\" \"30-3\" \"10-5\" \"33-7\" \"1-11\" \"21-6\" \"2-0\"  \"13-7\" \"1-13\" \"11-4\"\n",
       "[111] \"5-3\"  \"1-6\"  \"31-3\" \"14-7\" \"33-8\" \"0-12\" \"28-3\" \"29-8\" \"33-4\" \"22-7\"\n",
       "[121] \"4-7\"  \"1-5\"  \"7-8\"  \"24-8\" \"0-10\" \"13-4\" \"32-4\" \"6-7\"  \"16-7\" \"8-3\" \n",
       "[131] \"12-3\" \"21-7\" \"2-10\" \"26-6\" \"12-5\" \"26-8\" \"0-1\"  \"0-13\" \"1-8\"  \"11-6\"\n",
       "[141] \"13-3\" \"26-3\" \"30-8\" \"2-1\"  \"10-3\" \"32-6\" \"14-8\" \"10-4\" \"26-4\" \"15-7\"\n",
       "[151] \"3-3\"  \"13-5\" \"23-3\" \"29-3\" \"8-8\"  \"27-3\" \"9-7\"  \"21-8\" \"15-8\" \"12-4\"\n",
       "[161] \"29-7\" \"17-7\" \"12-8\" \"21-4\" \"4-8\"  \"25-3\""
      ]
     },
     "metadata": {},
     "output_type": "display_data"
    }
   ],
   "source": [
    "permuteLocs = sample(unique(offlineSummary$posXY))\n",
    "permuteLocs"
   ]
  },
  {
   "cell_type": "code",
   "execution_count": 117,
   "metadata": {
    "collapsed": false
   },
   "outputs": [],
   "source": [
    "?sample"
   ]
  },
  {
   "cell_type": "code",
   "execution_count": 107,
   "metadata": {
    "collapsed": false
   },
   "outputs": [
    {
     "ename": "ERROR",
     "evalue": "Error in reshapeSS(offline, keepVars = keepVars, sampleAngle = TRUE): unused argument (sampleAngle = TRUE)\n",
     "output_type": "error",
     "traceback": [
      "Error in reshapeSS(offline, keepVars = keepVars, sampleAngle = TRUE): unused argument (sampleAngle = TRUE)\nTraceback:\n",
      "1. reshapeSS(offline, keepVars = keepVars, sampleAngle = TRUE)"
     ]
    }
   ],
   "source": [
    "onlineCVSummary = reshapeSS(offline, keepVars = keepVars, sampleAngle = TRUE)\n",
    "onlineFold = subset(onlineCVSummary, posXY %in% permuteLocs[ , 1])\n",
    "offlineFold = subset(offlineSummary, posXY %in% permuteLocs[ , -1])\n",
    "estFold = predXY(newSignals = onlineFold[ , 6:11],\n",
    "                 newAngles = onlineFold[ , 4],\n",
    "                 offlineFold, numAngles = 3, k = 3)\n"
   ]
  },
  {
   "cell_type": "code",
   "execution_count": null,
   "metadata": {
    "collapsed": true
   },
   "outputs": [],
   "source": []
  }
 ],
 "metadata": {
  "celltoolbar": "Raw Cell Format",
  "kernelspec": {
   "display_name": "R",
   "language": "R",
   "name": "ir"
  },
  "language_info": {
   "codemirror_mode": "r",
   "file_extension": ".r",
   "mimetype": "text/x-r-source",
   "name": "R",
   "pygments_lexer": "r",
   "version": "3.3.2"
  }
 },
 "nbformat": 4,
 "nbformat_minor": 0
}
