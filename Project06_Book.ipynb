{
 "cells": [
  {
   "cell_type": "code",
   "execution_count": 7,
   "metadata": {
    "collapsed": false
   },
   "outputs": [],
   "source": [
    "txt = readLines(\"offline.final.trace.txt\")"
   ]
  },
  {
   "cell_type": "code",
   "execution_count": 8,
   "metadata": {
    "collapsed": false
   },
   "outputs": [
    {
     "data": {
      "text/html": [
       "5312"
      ],
      "text/latex": [
       "5312"
      ],
      "text/markdown": [
       "5312"
      ],
      "text/plain": [
       "[1] 5312"
      ]
     },
     "metadata": {},
     "output_type": "display_data"
    }
   ],
   "source": [
    "sum(substr(txt,1,1) == \"#\")"
   ]
  },
  {
   "cell_type": "code",
   "execution_count": 9,
   "metadata": {
    "collapsed": false
   },
   "outputs": [
    {
     "data": {
      "text/html": [
       "151392"
      ],
      "text/latex": [
       "151392"
      ],
      "text/markdown": [
       "151392"
      ],
      "text/plain": [
       "[1] 151392"
      ]
     },
     "metadata": {},
     "output_type": "display_data"
    }
   ],
   "source": [
    "length(txt)"
   ]
  },
  {
   "cell_type": "code",
   "execution_count": 12,
   "metadata": {
    "collapsed": false
   },
   "outputs": [
    {
     "data": {
      "text/html": [
       "<ol class=list-inline>\n",
       "\t<li>'t=1139643118358'</li>\n",
       "\t<li>'id=00:02:2D:21:0F:33'</li>\n",
       "\t<li>'pos=0.0,0.0,0.0'</li>\n",
       "\t<li>'degree=0.0'</li>\n",
       "\t<li>'00:14:bf:b1:97:8a=-38,2437000000,3'</li>\n",
       "\t<li>'00:14:bf:b1:97:90=-56,2427000000,3'</li>\n",
       "\t<li>'00:0f:a3:39:e1:c0=-53,2462000000,3'</li>\n",
       "\t<li>'00:14:bf:b1:97:8d=-65,2442000000,3'</li>\n",
       "\t<li>'00:14:bf:b1:97:81=-65,2422000000,3'</li>\n",
       "\t<li>'00:14:bf:3b:c7:c6=-66,2432000000,3'</li>\n",
       "\t<li>'00:0f:a3:39:dd:cd=-75,2412000000,3'</li>\n",
       "\t<li>'00:0f:a3:39:e0:4b=-78,2462000000,3'</li>\n",
       "\t<li>'00:0f:a3:39:e2:10=-87,2437000000,3'</li>\n",
       "\t<li>'02:64:fb:68:52:e6=-88,2447000000,1'</li>\n",
       "\t<li>'02:00:42:55:31:00=-84,2457000000,1'</li>\n",
       "</ol>\n"
      ],
      "text/latex": [
       "\\begin{enumerate*}\n",
       "\\item 't=1139643118358'\n",
       "\\item 'id=00:02:2D:21:0F:33'\n",
       "\\item 'pos=0.0,0.0,0.0'\n",
       "\\item 'degree=0.0'\n",
       "\\item '00:14:bf:b1:97:8a=-38,2437000000,3'\n",
       "\\item '00:14:bf:b1:97:90=-56,2427000000,3'\n",
       "\\item '00:0f:a3:39:e1:c0=-53,2462000000,3'\n",
       "\\item '00:14:bf:b1:97:8d=-65,2442000000,3'\n",
       "\\item '00:14:bf:b1:97:81=-65,2422000000,3'\n",
       "\\item '00:14:bf:3b:c7:c6=-66,2432000000,3'\n",
       "\\item '00:0f:a3:39:dd:cd=-75,2412000000,3'\n",
       "\\item '00:0f:a3:39:e0:4b=-78,2462000000,3'\n",
       "\\item '00:0f:a3:39:e2:10=-87,2437000000,3'\n",
       "\\item '02:64:fb:68:52:e6=-88,2447000000,1'\n",
       "\\item '02:00:42:55:31:00=-84,2457000000,1'\n",
       "\\end{enumerate*}\n"
      ],
      "text/markdown": [
       "1. 't=1139643118358'\n",
       "2. 'id=00:02:2D:21:0F:33'\n",
       "3. 'pos=0.0,0.0,0.0'\n",
       "4. 'degree=0.0'\n",
       "5. '00:14:bf:b1:97:8a=-38,2437000000,3'\n",
       "6. '00:14:bf:b1:97:90=-56,2427000000,3'\n",
       "7. '00:0f:a3:39:e1:c0=-53,2462000000,3'\n",
       "8. '00:14:bf:b1:97:8d=-65,2442000000,3'\n",
       "9. '00:14:bf:b1:97:81=-65,2422000000,3'\n",
       "10. '00:14:bf:3b:c7:c6=-66,2432000000,3'\n",
       "11. '00:0f:a3:39:dd:cd=-75,2412000000,3'\n",
       "12. '00:0f:a3:39:e0:4b=-78,2462000000,3'\n",
       "13. '00:0f:a3:39:e2:10=-87,2437000000,3'\n",
       "14. '02:64:fb:68:52:e6=-88,2447000000,1'\n",
       "15. '02:00:42:55:31:00=-84,2457000000,1'\n",
       "\n",
       "\n"
      ],
      "text/plain": [
       " [1] \"t=1139643118358\"                    \"id=00:02:2D:21:0F:33\"              \n",
       " [3] \"pos=0.0,0.0,0.0\"                    \"degree=0.0\"                        \n",
       " [5] \"00:14:bf:b1:97:8a=-38,2437000000,3\" \"00:14:bf:b1:97:90=-56,2427000000,3\"\n",
       " [7] \"00:0f:a3:39:e1:c0=-53,2462000000,3\" \"00:14:bf:b1:97:8d=-65,2442000000,3\"\n",
       " [9] \"00:14:bf:b1:97:81=-65,2422000000,3\" \"00:14:bf:3b:c7:c6=-66,2432000000,3\"\n",
       "[11] \"00:0f:a3:39:dd:cd=-75,2412000000,3\" \"00:0f:a3:39:e0:4b=-78,2462000000,3\"\n",
       "[13] \"00:0f:a3:39:e2:10=-87,2437000000,3\" \"02:64:fb:68:52:e6=-88,2447000000,1\"\n",
       "[15] \"02:00:42:55:31:00=-84,2457000000,1\""
      ]
     },
     "metadata": {},
     "output_type": "display_data"
    }
   ],
   "source": [
    "strsplit(txt[4],\";\")[[1]]"
   ]
  },
  {
   "cell_type": "code",
   "execution_count": 13,
   "metadata": {
    "collapsed": false
   },
   "outputs": [
    {
     "data": {
      "text/html": [
       "<dl class=dl-horizontal>\n",
       "\t<dt>t</dt>\n",
       "\t\t<dd>'t'</dd>\n",
       "\t<dt>1139643118358</dt>\n",
       "\t\t<dd>'1139643118358'</dd>\n",
       "\t<dt>id</dt>\n",
       "\t\t<dd>'id'</dd>\n",
       "\t<dt>00:02:2D:21:0F:33</dt>\n",
       "\t\t<dd>'00:02:2D:21:0F:33'</dd>\n",
       "\t<dt>pos</dt>\n",
       "\t\t<dd>'pos'</dd>\n",
       "\t<dt>0.0,0.0,0.01</dt>\n",
       "\t\t<dd>'0.0'</dd>\n",
       "\t<dt>0.0,0.0,0.02</dt>\n",
       "\t\t<dd>'0.0'</dd>\n",
       "\t<dt>0.0,0.0,0.03</dt>\n",
       "\t\t<dd>'0.0'</dd>\n",
       "\t<dt>degree</dt>\n",
       "\t\t<dd>'degree'</dd>\n",
       "\t<dt>0.0</dt>\n",
       "\t\t<dd>'0.0'</dd>\n",
       "\t<dt>00:14:bf:b1:97:8a</dt>\n",
       "\t\t<dd>'00:14:bf:b1:97:8a'</dd>\n",
       "\t<dt>-38,2437000000,31</dt>\n",
       "\t\t<dd>'-38'</dd>\n",
       "\t<dt>-38,2437000000,32</dt>\n",
       "\t\t<dd>'2437000000'</dd>\n",
       "\t<dt>-38,2437000000,33</dt>\n",
       "\t\t<dd>'3'</dd>\n",
       "\t<dt>00:14:bf:b1:97:90</dt>\n",
       "\t\t<dd>'00:14:bf:b1:97:90'</dd>\n",
       "\t<dt>-56,2427000000,31</dt>\n",
       "\t\t<dd>'-56'</dd>\n",
       "\t<dt>-56,2427000000,32</dt>\n",
       "\t\t<dd>'2427000000'</dd>\n",
       "\t<dt>-56,2427000000,33</dt>\n",
       "\t\t<dd>'3'</dd>\n",
       "\t<dt>00:0f:a3:39:e1:c0</dt>\n",
       "\t\t<dd>'00:0f:a3:39:e1:c0'</dd>\n",
       "\t<dt>-53,2462000000,31</dt>\n",
       "\t\t<dd>'-53'</dd>\n",
       "\t<dt>-53,2462000000,32</dt>\n",
       "\t\t<dd>'2462000000'</dd>\n",
       "\t<dt>-53,2462000000,33</dt>\n",
       "\t\t<dd>'3'</dd>\n",
       "\t<dt>00:14:bf:b1:97:8d</dt>\n",
       "\t\t<dd>'00:14:bf:b1:97:8d'</dd>\n",
       "\t<dt>-65,2442000000,31</dt>\n",
       "\t\t<dd>'-65'</dd>\n",
       "\t<dt>-65,2442000000,32</dt>\n",
       "\t\t<dd>'2442000000'</dd>\n",
       "\t<dt>-65,2442000000,33</dt>\n",
       "\t\t<dd>'3'</dd>\n",
       "\t<dt>00:14:bf:b1:97:81</dt>\n",
       "\t\t<dd>'00:14:bf:b1:97:81'</dd>\n",
       "\t<dt>-65,2422000000,31</dt>\n",
       "\t\t<dd>'-65'</dd>\n",
       "\t<dt>-65,2422000000,32</dt>\n",
       "\t\t<dd>'2422000000'</dd>\n",
       "\t<dt>-65,2422000000,33</dt>\n",
       "\t\t<dd>'3'</dd>\n",
       "\t<dt>00:14:bf:3b:c7:c6</dt>\n",
       "\t\t<dd>'00:14:bf:3b:c7:c6'</dd>\n",
       "\t<dt>-66,2432000000,31</dt>\n",
       "\t\t<dd>'-66'</dd>\n",
       "\t<dt>-66,2432000000,32</dt>\n",
       "\t\t<dd>'2432000000'</dd>\n",
       "\t<dt>-66,2432000000,33</dt>\n",
       "\t\t<dd>'3'</dd>\n",
       "\t<dt>00:0f:a3:39:dd:cd</dt>\n",
       "\t\t<dd>'00:0f:a3:39:dd:cd'</dd>\n",
       "\t<dt>-75,2412000000,31</dt>\n",
       "\t\t<dd>'-75'</dd>\n",
       "\t<dt>-75,2412000000,32</dt>\n",
       "\t\t<dd>'2412000000'</dd>\n",
       "\t<dt>-75,2412000000,33</dt>\n",
       "\t\t<dd>'3'</dd>\n",
       "\t<dt>00:0f:a3:39:e0:4b</dt>\n",
       "\t\t<dd>'00:0f:a3:39:e0:4b'</dd>\n",
       "\t<dt>-78,2462000000,31</dt>\n",
       "\t\t<dd>'-78'</dd>\n",
       "\t<dt>-78,2462000000,32</dt>\n",
       "\t\t<dd>'2462000000'</dd>\n",
       "\t<dt>-78,2462000000,33</dt>\n",
       "\t\t<dd>'3'</dd>\n",
       "\t<dt>00:0f:a3:39:e2:10</dt>\n",
       "\t\t<dd>'00:0f:a3:39:e2:10'</dd>\n",
       "\t<dt>-87,2437000000,31</dt>\n",
       "\t\t<dd>'-87'</dd>\n",
       "\t<dt>-87,2437000000,32</dt>\n",
       "\t\t<dd>'2437000000'</dd>\n",
       "\t<dt>-87,2437000000,33</dt>\n",
       "\t\t<dd>'3'</dd>\n",
       "\t<dt>02:64:fb:68:52:e6</dt>\n",
       "\t\t<dd>'02:64:fb:68:52:e6'</dd>\n",
       "\t<dt>-88,2447000000,11</dt>\n",
       "\t\t<dd>'-88'</dd>\n",
       "\t<dt>-88,2447000000,12</dt>\n",
       "\t\t<dd>'2447000000'</dd>\n",
       "\t<dt>-88,2447000000,13</dt>\n",
       "\t\t<dd>'1'</dd>\n",
       "\t<dt>02:00:42:55:31:00</dt>\n",
       "\t\t<dd>'02:00:42:55:31:00'</dd>\n",
       "\t<dt>-84,2457000000,11</dt>\n",
       "\t\t<dd>'-84'</dd>\n",
       "\t<dt>-84,2457000000,12</dt>\n",
       "\t\t<dd>'2457000000'</dd>\n",
       "\t<dt>-84,2457000000,13</dt>\n",
       "\t\t<dd>'1'</dd>\n",
       "</dl>\n"
      ],
      "text/latex": [
       "\\begin{description*}\n",
       "\\item[t] 't'\n",
       "\\item[1139643118358] '1139643118358'\n",
       "\\item[id] 'id'\n",
       "\\item[00:02:2D:21:0F:33] '00:02:2D:21:0F:33'\n",
       "\\item[pos] 'pos'\n",
       "\\item[0.0,0.0,0.01] '0.0'\n",
       "\\item[0.0,0.0,0.02] '0.0'\n",
       "\\item[0.0,0.0,0.03] '0.0'\n",
       "\\item[degree] 'degree'\n",
       "\\item[0.0] '0.0'\n",
       "\\item[00:14:bf:b1:97:8a] '00:14:bf:b1:97:8a'\n",
       "\\item[-38,2437000000,31] '-38'\n",
       "\\item[-38,2437000000,32] '2437000000'\n",
       "\\item[-38,2437000000,33] '3'\n",
       "\\item[00:14:bf:b1:97:90] '00:14:bf:b1:97:90'\n",
       "\\item[-56,2427000000,31] '-56'\n",
       "\\item[-56,2427000000,32] '2427000000'\n",
       "\\item[-56,2427000000,33] '3'\n",
       "\\item[00:0f:a3:39:e1:c0] '00:0f:a3:39:e1:c0'\n",
       "\\item[-53,2462000000,31] '-53'\n",
       "\\item[-53,2462000000,32] '2462000000'\n",
       "\\item[-53,2462000000,33] '3'\n",
       "\\item[00:14:bf:b1:97:8d] '00:14:bf:b1:97:8d'\n",
       "\\item[-65,2442000000,31] '-65'\n",
       "\\item[-65,2442000000,32] '2442000000'\n",
       "\\item[-65,2442000000,33] '3'\n",
       "\\item[00:14:bf:b1:97:81] '00:14:bf:b1:97:81'\n",
       "\\item[-65,2422000000,31] '-65'\n",
       "\\item[-65,2422000000,32] '2422000000'\n",
       "\\item[-65,2422000000,33] '3'\n",
       "\\item[00:14:bf:3b:c7:c6] '00:14:bf:3b:c7:c6'\n",
       "\\item[-66,2432000000,31] '-66'\n",
       "\\item[-66,2432000000,32] '2432000000'\n",
       "\\item[-66,2432000000,33] '3'\n",
       "\\item[00:0f:a3:39:dd:cd] '00:0f:a3:39:dd:cd'\n",
       "\\item[-75,2412000000,31] '-75'\n",
       "\\item[-75,2412000000,32] '2412000000'\n",
       "\\item[-75,2412000000,33] '3'\n",
       "\\item[00:0f:a3:39:e0:4b] '00:0f:a3:39:e0:4b'\n",
       "\\item[-78,2462000000,31] '-78'\n",
       "\\item[-78,2462000000,32] '2462000000'\n",
       "\\item[-78,2462000000,33] '3'\n",
       "\\item[00:0f:a3:39:e2:10] '00:0f:a3:39:e2:10'\n",
       "\\item[-87,2437000000,31] '-87'\n",
       "\\item[-87,2437000000,32] '2437000000'\n",
       "\\item[-87,2437000000,33] '3'\n",
       "\\item[02:64:fb:68:52:e6] '02:64:fb:68:52:e6'\n",
       "\\item[-88,2447000000,11] '-88'\n",
       "\\item[-88,2447000000,12] '2447000000'\n",
       "\\item[-88,2447000000,13] '1'\n",
       "\\item[02:00:42:55:31:00] '02:00:42:55:31:00'\n",
       "\\item[-84,2457000000,11] '-84'\n",
       "\\item[-84,2457000000,12] '2457000000'\n",
       "\\item[-84,2457000000,13] '1'\n",
       "\\end{description*}\n"
      ],
      "text/markdown": [
       "t\n",
       ":   't'1139643118358\n",
       ":   '1139643118358'id\n",
       ":   'id'00:02:2D:21:0F:33\n",
       ":   '00:02:2D:21:0F:33'pos\n",
       ":   'pos'0.0,0.0,0.01\n",
       ":   '0.0'0.0,0.0,0.02\n",
       ":   '0.0'0.0,0.0,0.03\n",
       ":   '0.0'degree\n",
       ":   'degree'0.0\n",
       ":   '0.0'00:14:bf:b1:97:8a\n",
       ":   '00:14:bf:b1:97:8a'-38,2437000000,31\n",
       ":   '-38'-38,2437000000,32\n",
       ":   '2437000000'-38,2437000000,33\n",
       ":   '3'00:14:bf:b1:97:90\n",
       ":   '00:14:bf:b1:97:90'-56,2427000000,31\n",
       ":   '-56'-56,2427000000,32\n",
       ":   '2427000000'-56,2427000000,33\n",
       ":   '3'00:0f:a3:39:e1:c0\n",
       ":   '00:0f:a3:39:e1:c0'-53,2462000000,31\n",
       ":   '-53'-53,2462000000,32\n",
       ":   '2462000000'-53,2462000000,33\n",
       ":   '3'00:14:bf:b1:97:8d\n",
       ":   '00:14:bf:b1:97:8d'-65,2442000000,31\n",
       ":   '-65'-65,2442000000,32\n",
       ":   '2442000000'-65,2442000000,33\n",
       ":   '3'00:14:bf:b1:97:81\n",
       ":   '00:14:bf:b1:97:81'-65,2422000000,31\n",
       ":   '-65'-65,2422000000,32\n",
       ":   '2422000000'-65,2422000000,33\n",
       ":   '3'00:14:bf:3b:c7:c6\n",
       ":   '00:14:bf:3b:c7:c6'-66,2432000000,31\n",
       ":   '-66'-66,2432000000,32\n",
       ":   '2432000000'-66,2432000000,33\n",
       ":   '3'00:0f:a3:39:dd:cd\n",
       ":   '00:0f:a3:39:dd:cd'-75,2412000000,31\n",
       ":   '-75'-75,2412000000,32\n",
       ":   '2412000000'-75,2412000000,33\n",
       ":   '3'00:0f:a3:39:e0:4b\n",
       ":   '00:0f:a3:39:e0:4b'-78,2462000000,31\n",
       ":   '-78'-78,2462000000,32\n",
       ":   '2462000000'-78,2462000000,33\n",
       ":   '3'00:0f:a3:39:e2:10\n",
       ":   '00:0f:a3:39:e2:10'-87,2437000000,31\n",
       ":   '-87'-87,2437000000,32\n",
       ":   '2437000000'-87,2437000000,33\n",
       ":   '3'02:64:fb:68:52:e6\n",
       ":   '02:64:fb:68:52:e6'-88,2447000000,11\n",
       ":   '-88'-88,2447000000,12\n",
       ":   '2447000000'-88,2447000000,13\n",
       ":   '1'02:00:42:55:31:00\n",
       ":   '02:00:42:55:31:00'-84,2457000000,11\n",
       ":   '-84'-84,2457000000,12\n",
       ":   '2457000000'-84,2457000000,13\n",
       ":   '1'\n",
       "\n"
      ],
      "text/plain": [
       "                  t       1139643118358                  id   00:02:2D:21:0F:33 \n",
       "                \"t\"     \"1139643118358\"                \"id\" \"00:02:2D:21:0F:33\" \n",
       "                pos        0.0,0.0,0.01        0.0,0.0,0.02        0.0,0.0,0.03 \n",
       "              \"pos\"               \"0.0\"               \"0.0\"               \"0.0\" \n",
       "             degree                 0.0   00:14:bf:b1:97:8a   -38,2437000000,31 \n",
       "           \"degree\"               \"0.0\" \"00:14:bf:b1:97:8a\"               \"-38\" \n",
       "  -38,2437000000,32   -38,2437000000,33   00:14:bf:b1:97:90   -56,2427000000,31 \n",
       "       \"2437000000\"                 \"3\" \"00:14:bf:b1:97:90\"               \"-56\" \n",
       "  -56,2427000000,32   -56,2427000000,33   00:0f:a3:39:e1:c0   -53,2462000000,31 \n",
       "       \"2427000000\"                 \"3\" \"00:0f:a3:39:e1:c0\"               \"-53\" \n",
       "  -53,2462000000,32   -53,2462000000,33   00:14:bf:b1:97:8d   -65,2442000000,31 \n",
       "       \"2462000000\"                 \"3\" \"00:14:bf:b1:97:8d\"               \"-65\" \n",
       "  -65,2442000000,32   -65,2442000000,33   00:14:bf:b1:97:81   -65,2422000000,31 \n",
       "       \"2442000000\"                 \"3\" \"00:14:bf:b1:97:81\"               \"-65\" \n",
       "  -65,2422000000,32   -65,2422000000,33   00:14:bf:3b:c7:c6   -66,2432000000,31 \n",
       "       \"2422000000\"                 \"3\" \"00:14:bf:3b:c7:c6\"               \"-66\" \n",
       "  -66,2432000000,32   -66,2432000000,33   00:0f:a3:39:dd:cd   -75,2412000000,31 \n",
       "       \"2432000000\"                 \"3\" \"00:0f:a3:39:dd:cd\"               \"-75\" \n",
       "  -75,2412000000,32   -75,2412000000,33   00:0f:a3:39:e0:4b   -78,2462000000,31 \n",
       "       \"2412000000\"                 \"3\" \"00:0f:a3:39:e0:4b\"               \"-78\" \n",
       "  -78,2462000000,32   -78,2462000000,33   00:0f:a3:39:e2:10   -87,2437000000,31 \n",
       "       \"2462000000\"                 \"3\" \"00:0f:a3:39:e2:10\"               \"-87\" \n",
       "  -87,2437000000,32   -87,2437000000,33   02:64:fb:68:52:e6   -88,2447000000,11 \n",
       "       \"2437000000\"                 \"3\" \"02:64:fb:68:52:e6\"               \"-88\" \n",
       "  -88,2447000000,12   -88,2447000000,13   02:00:42:55:31:00   -84,2457000000,11 \n",
       "       \"2447000000\"                 \"1\" \"02:00:42:55:31:00\"               \"-84\" \n",
       "  -84,2457000000,12   -84,2457000000,13 \n",
       "       \"2457000000\"                 \"1\" "
      ]
     },
     "metadata": {},
     "output_type": "display_data"
    }
   ],
   "source": [
    "unlist(lapply(strsplit(txt[4],\";\")[[1]],function(x) sapply(strsplit(x,\"=\")[[1]],strsplit,\",\")))"
   ]
  },
  {
   "cell_type": "code",
   "execution_count": 14,
   "metadata": {
    "collapsed": true
   },
   "outputs": [],
   "source": [
    "tokens = strsplit(txt[4],\"[;=,]\")[[1]]"
   ]
  },
  {
   "cell_type": "code",
   "execution_count": 15,
   "metadata": {
    "collapsed": false
   },
   "outputs": [
    {
     "data": {
      "text/html": [
       "<ol class=list-inline>\n",
       "\t<li>'t'</li>\n",
       "\t<li>'1139643118358'</li>\n",
       "\t<li>'id'</li>\n",
       "\t<li>'00:02:2D:21:0F:33'</li>\n",
       "\t<li>'pos'</li>\n",
       "\t<li>'0.0'</li>\n",
       "\t<li>'0.0'</li>\n",
       "\t<li>'0.0'</li>\n",
       "\t<li>'degree'</li>\n",
       "\t<li>'0.0'</li>\n",
       "</ol>\n"
      ],
      "text/latex": [
       "\\begin{enumerate*}\n",
       "\\item 't'\n",
       "\\item '1139643118358'\n",
       "\\item 'id'\n",
       "\\item '00:02:2D:21:0F:33'\n",
       "\\item 'pos'\n",
       "\\item '0.0'\n",
       "\\item '0.0'\n",
       "\\item '0.0'\n",
       "\\item 'degree'\n",
       "\\item '0.0'\n",
       "\\end{enumerate*}\n"
      ],
      "text/markdown": [
       "1. 't'\n",
       "2. '1139643118358'\n",
       "3. 'id'\n",
       "4. '00:02:2D:21:0F:33'\n",
       "5. 'pos'\n",
       "6. '0.0'\n",
       "7. '0.0'\n",
       "8. '0.0'\n",
       "9. 'degree'\n",
       "10. '0.0'\n",
       "\n",
       "\n"
      ],
      "text/plain": [
       " [1] \"t\"                 \"1139643118358\"     \"id\"               \n",
       " [4] \"00:02:2D:21:0F:33\" \"pos\"               \"0.0\"              \n",
       " [7] \"0.0\"               \"0.0\"               \"degree\"           \n",
       "[10] \"0.0\"              "
      ]
     },
     "metadata": {},
     "output_type": "display_data"
    }
   ],
   "source": [
    "tokens[1:10]"
   ]
  },
  {
   "cell_type": "code",
   "execution_count": 16,
   "metadata": {
    "collapsed": false
   },
   "outputs": [
    {
     "data": {
      "text/html": [
       "<ol class=list-inline>\n",
       "\t<li>'1139643118358'</li>\n",
       "\t<li>'00:02:2D:21:0F:33'</li>\n",
       "\t<li>'0.0'</li>\n",
       "\t<li>'0.0'</li>\n",
       "\t<li>'0.0'</li>\n",
       "\t<li>'0.0'</li>\n",
       "</ol>\n"
      ],
      "text/latex": [
       "\\begin{enumerate*}\n",
       "\\item '1139643118358'\n",
       "\\item '00:02:2D:21:0F:33'\n",
       "\\item '0.0'\n",
       "\\item '0.0'\n",
       "\\item '0.0'\n",
       "\\item '0.0'\n",
       "\\end{enumerate*}\n"
      ],
      "text/markdown": [
       "1. '1139643118358'\n",
       "2. '00:02:2D:21:0F:33'\n",
       "3. '0.0'\n",
       "4. '0.0'\n",
       "5. '0.0'\n",
       "6. '0.0'\n",
       "\n",
       "\n"
      ],
      "text/plain": [
       "[1] \"1139643118358\"     \"00:02:2D:21:0F:33\" \"0.0\"              \n",
       "[4] \"0.0\"               \"0.0\"               \"0.0\"              "
      ]
     },
     "metadata": {},
     "output_type": "display_data"
    }
   ],
   "source": [
    "tokens[c(2,4,6:8,10)]"
   ]
  },
  {
   "cell_type": "code",
   "execution_count": 17,
   "metadata": {
    "collapsed": false
   },
   "outputs": [
    {
     "data": {
      "text/html": [
       "<ol class=list-inline>\n",
       "\t<li>'00:14:bf:b1:97:8a'</li>\n",
       "\t<li>'-38'</li>\n",
       "\t<li>'2437000000'</li>\n",
       "\t<li>'3'</li>\n",
       "\t<li>'00:14:bf:b1:97:90'</li>\n",
       "\t<li>'-56'</li>\n",
       "\t<li>'2427000000'</li>\n",
       "\t<li>'3'</li>\n",
       "\t<li>'00:0f:a3:39:e1:c0'</li>\n",
       "\t<li>'-53'</li>\n",
       "\t<li>'2462000000'</li>\n",
       "\t<li>'3'</li>\n",
       "\t<li>'00:14:bf:b1:97:8d'</li>\n",
       "\t<li>'-65'</li>\n",
       "\t<li>'2442000000'</li>\n",
       "\t<li>'3'</li>\n",
       "\t<li>'00:14:bf:b1:97:81'</li>\n",
       "\t<li>'-65'</li>\n",
       "\t<li>'2422000000'</li>\n",
       "\t<li>'3'</li>\n",
       "\t<li>'00:14:bf:3b:c7:c6'</li>\n",
       "\t<li>'-66'</li>\n",
       "\t<li>'2432000000'</li>\n",
       "\t<li>'3'</li>\n",
       "\t<li>'00:0f:a3:39:dd:cd'</li>\n",
       "\t<li>'-75'</li>\n",
       "\t<li>'2412000000'</li>\n",
       "\t<li>'3'</li>\n",
       "\t<li>'00:0f:a3:39:e0:4b'</li>\n",
       "\t<li>'-78'</li>\n",
       "\t<li>'2462000000'</li>\n",
       "\t<li>'3'</li>\n",
       "\t<li>'00:0f:a3:39:e2:10'</li>\n",
       "\t<li>'-87'</li>\n",
       "\t<li>'2437000000'</li>\n",
       "\t<li>'3'</li>\n",
       "\t<li>'02:64:fb:68:52:e6'</li>\n",
       "\t<li>'-88'</li>\n",
       "\t<li>'2447000000'</li>\n",
       "\t<li>'1'</li>\n",
       "\t<li>'02:00:42:55:31:00'</li>\n",
       "\t<li>'-84'</li>\n",
       "\t<li>'2457000000'</li>\n",
       "\t<li>'1'</li>\n",
       "</ol>\n"
      ],
      "text/latex": [
       "\\begin{enumerate*}\n",
       "\\item '00:14:bf:b1:97:8a'\n",
       "\\item '-38'\n",
       "\\item '2437000000'\n",
       "\\item '3'\n",
       "\\item '00:14:bf:b1:97:90'\n",
       "\\item '-56'\n",
       "\\item '2427000000'\n",
       "\\item '3'\n",
       "\\item '00:0f:a3:39:e1:c0'\n",
       "\\item '-53'\n",
       "\\item '2462000000'\n",
       "\\item '3'\n",
       "\\item '00:14:bf:b1:97:8d'\n",
       "\\item '-65'\n",
       "\\item '2442000000'\n",
       "\\item '3'\n",
       "\\item '00:14:bf:b1:97:81'\n",
       "\\item '-65'\n",
       "\\item '2422000000'\n",
       "\\item '3'\n",
       "\\item '00:14:bf:3b:c7:c6'\n",
       "\\item '-66'\n",
       "\\item '2432000000'\n",
       "\\item '3'\n",
       "\\item '00:0f:a3:39:dd:cd'\n",
       "\\item '-75'\n",
       "\\item '2412000000'\n",
       "\\item '3'\n",
       "\\item '00:0f:a3:39:e0:4b'\n",
       "\\item '-78'\n",
       "\\item '2462000000'\n",
       "\\item '3'\n",
       "\\item '00:0f:a3:39:e2:10'\n",
       "\\item '-87'\n",
       "\\item '2437000000'\n",
       "\\item '3'\n",
       "\\item '02:64:fb:68:52:e6'\n",
       "\\item '-88'\n",
       "\\item '2447000000'\n",
       "\\item '1'\n",
       "\\item '02:00:42:55:31:00'\n",
       "\\item '-84'\n",
       "\\item '2457000000'\n",
       "\\item '1'\n",
       "\\end{enumerate*}\n"
      ],
      "text/markdown": [
       "1. '00:14:bf:b1:97:8a'\n",
       "2. '-38'\n",
       "3. '2437000000'\n",
       "4. '3'\n",
       "5. '00:14:bf:b1:97:90'\n",
       "6. '-56'\n",
       "7. '2427000000'\n",
       "8. '3'\n",
       "9. '00:0f:a3:39:e1:c0'\n",
       "10. '-53'\n",
       "11. '2462000000'\n",
       "12. '3'\n",
       "13. '00:14:bf:b1:97:8d'\n",
       "14. '-65'\n",
       "15. '2442000000'\n",
       "16. '3'\n",
       "17. '00:14:bf:b1:97:81'\n",
       "18. '-65'\n",
       "19. '2422000000'\n",
       "20. '3'\n",
       "21. '00:14:bf:3b:c7:c6'\n",
       "22. '-66'\n",
       "23. '2432000000'\n",
       "24. '3'\n",
       "25. '00:0f:a3:39:dd:cd'\n",
       "26. '-75'\n",
       "27. '2412000000'\n",
       "28. '3'\n",
       "29. '00:0f:a3:39:e0:4b'\n",
       "30. '-78'\n",
       "31. '2462000000'\n",
       "32. '3'\n",
       "33. '00:0f:a3:39:e2:10'\n",
       "34. '-87'\n",
       "35. '2437000000'\n",
       "36. '3'\n",
       "37. '02:64:fb:68:52:e6'\n",
       "38. '-88'\n",
       "39. '2447000000'\n",
       "40. '1'\n",
       "41. '02:00:42:55:31:00'\n",
       "42. '-84'\n",
       "43. '2457000000'\n",
       "44. '1'\n",
       "\n",
       "\n"
      ],
      "text/plain": [
       " [1] \"00:14:bf:b1:97:8a\" \"-38\"               \"2437000000\"       \n",
       " [4] \"3\"                 \"00:14:bf:b1:97:90\" \"-56\"              \n",
       " [7] \"2427000000\"        \"3\"                 \"00:0f:a3:39:e1:c0\"\n",
       "[10] \"-53\"               \"2462000000\"        \"3\"                \n",
       "[13] \"00:14:bf:b1:97:8d\" \"-65\"               \"2442000000\"       \n",
       "[16] \"3\"                 \"00:14:bf:b1:97:81\" \"-65\"              \n",
       "[19] \"2422000000\"        \"3\"                 \"00:14:bf:3b:c7:c6\"\n",
       "[22] \"-66\"               \"2432000000\"        \"3\"                \n",
       "[25] \"00:0f:a3:39:dd:cd\" \"-75\"               \"2412000000\"       \n",
       "[28] \"3\"                 \"00:0f:a3:39:e0:4b\" \"-78\"              \n",
       "[31] \"2462000000\"        \"3\"                 \"00:0f:a3:39:e2:10\"\n",
       "[34] \"-87\"               \"2437000000\"        \"3\"                \n",
       "[37] \"02:64:fb:68:52:e6\" \"-88\"               \"2447000000\"       \n",
       "[40] \"1\"                 \"02:00:42:55:31:00\" \"-84\"              \n",
       "[43] \"2457000000\"        \"1\"                "
      ]
     },
     "metadata": {},
     "output_type": "display_data"
    }
   ],
   "source": [
    "tokens[-(1:10)]"
   ]
  },
  {
   "cell_type": "code",
   "execution_count": 18,
   "metadata": {
    "collapsed": true
   },
   "outputs": [],
   "source": [
    "tmp = matrix(tokens[ - (1:10)], ncol=4, byrow=TRUE)\n",
    "mat = cbind(matrix(tokens[c(2,4,6:8,10)], nrow=nrow(tmp),ncol=6,byrow=TRUE),tmp)"
   ]
  },
  {
   "cell_type": "code",
   "execution_count": 19,
   "metadata": {
    "collapsed": false
   },
   "outputs": [
    {
     "data": {
      "text/html": [
       "<ol class=list-inline>\n",
       "\t<li>11</li>\n",
       "\t<li>10</li>\n",
       "</ol>\n"
      ],
      "text/latex": [
       "\\begin{enumerate*}\n",
       "\\item 11\n",
       "\\item 10\n",
       "\\end{enumerate*}\n"
      ],
      "text/markdown": [
       "1. 11\n",
       "2. 10\n",
       "\n",
       "\n"
      ],
      "text/plain": [
       "[1] 11 10"
      ]
     },
     "metadata": {},
     "output_type": "display_data"
    }
   ],
   "source": [
    "dim(mat)"
   ]
  },
  {
   "cell_type": "code",
   "execution_count": 20,
   "metadata": {
    "collapsed": true
   },
   "outputs": [],
   "source": [
    "processLine =\n",
    "function(x)\n",
    "    {\n",
    "    tokens=strsplit(x,\"[;=,]\")[[1]]\n",
    "    tmp = matrix(tokens[ - (1:10)], ncol=4, byrow=TRUE)\n",
    "    mat = cbind(matrix(tokens[c(2,4,6:8,10)], nrow=nrow(tmp),ncol=6,byrow=TRUE),tmp)\n",
    "}\n",
    "\n",
    "tmp=lapply(txt[4:20],processLine)"
   ]
  },
  {
   "cell_type": "code",
   "execution_count": 21,
   "metadata": {
    "collapsed": false
   },
   "outputs": [
    {
     "data": {
      "text/html": [
       "<ol class=list-inline>\n",
       "\t<li>11</li>\n",
       "\t<li>10</li>\n",
       "\t<li>10</li>\n",
       "\t<li>11</li>\n",
       "\t<li>9</li>\n",
       "\t<li>10</li>\n",
       "\t<li>9</li>\n",
       "\t<li>9</li>\n",
       "\t<li>10</li>\n",
       "\t<li>11</li>\n",
       "\t<li>11</li>\n",
       "\t<li>9</li>\n",
       "\t<li>9</li>\n",
       "\t<li>9</li>\n",
       "\t<li>8</li>\n",
       "\t<li>10</li>\n",
       "\t<li>14</li>\n",
       "</ol>\n"
      ],
      "text/latex": [
       "\\begin{enumerate*}\n",
       "\\item 11\n",
       "\\item 10\n",
       "\\item 10\n",
       "\\item 11\n",
       "\\item 9\n",
       "\\item 10\n",
       "\\item 9\n",
       "\\item 9\n",
       "\\item 10\n",
       "\\item 11\n",
       "\\item 11\n",
       "\\item 9\n",
       "\\item 9\n",
       "\\item 9\n",
       "\\item 8\n",
       "\\item 10\n",
       "\\item 14\n",
       "\\end{enumerate*}\n"
      ],
      "text/markdown": [
       "1. 11\n",
       "2. 10\n",
       "3. 10\n",
       "4. 11\n",
       "5. 9\n",
       "6. 10\n",
       "7. 9\n",
       "8. 9\n",
       "9. 10\n",
       "10. 11\n",
       "11. 11\n",
       "12. 9\n",
       "13. 9\n",
       "14. 9\n",
       "15. 8\n",
       "16. 10\n",
       "17. 14\n",
       "\n",
       "\n"
      ],
      "text/plain": [
       " [1] 11 10 10 11  9 10  9  9 10 11 11  9  9  9  8 10 14"
      ]
     },
     "metadata": {},
     "output_type": "display_data"
    }
   ],
   "source": [
    "sapply(tmp,nrow)"
   ]
  },
  {
   "cell_type": "code",
   "execution_count": 22,
   "metadata": {
    "collapsed": false
   },
   "outputs": [
    {
     "data": {
      "text/html": [
       "<ol class=list-inline>\n",
       "\t<li>170</li>\n",
       "\t<li>10</li>\n",
       "</ol>\n"
      ],
      "text/latex": [
       "\\begin{enumerate*}\n",
       "\\item 170\n",
       "\\item 10\n",
       "\\end{enumerate*}\n"
      ],
      "text/markdown": [
       "1. 170\n",
       "2. 10\n",
       "\n",
       "\n"
      ],
      "text/plain": [
       "[1] 170  10"
      ]
     },
     "metadata": {},
     "output_type": "display_data"
    }
   ],
   "source": [
    "offline = as.data.frame(do.call(\"rbind\",tmp))\n",
    "dim(offline)"
   ]
  },
  {
   "cell_type": "code",
   "execution_count": 23,
   "metadata": {
    "collapsed": false
   },
   "outputs": [
    {
     "name": "stderr",
     "output_type": "stream",
     "text": [
      "Warning message in matrix(tokens[c(2, 4, 6:8, 10)], nrow = nrow(tmp), ncol = 6, :\n",
      "\"data length exceeds size of matrix\"Warning message in matrix(tokens[c(2, 4, 6:8, 10)], nrow = nrow(tmp), ncol = 6, :\n",
      "\"data length exceeds size of matrix\"Warning message in matrix(tokens[c(2, 4, 6:8, 10)], nrow = nrow(tmp), ncol = 6, :\n",
      "\"data length exceeds size of matrix\"Warning message in matrix(tokens[c(2, 4, 6:8, 10)], nrow = nrow(tmp), ncol = 6, :\n",
      "\"data length exceeds size of matrix\"Warning message in matrix(tokens[c(2, 4, 6:8, 10)], nrow = nrow(tmp), ncol = 6, :\n",
      "\"data length exceeds size of matrix\"Warning message in matrix(tokens[c(2, 4, 6:8, 10)], nrow = nrow(tmp), ncol = 6, :\n",
      "\"data length exceeds size of matrix\""
     ]
    }
   ],
   "source": [
    "lines = txt[substr(txt,1,1) != \"#\"]\n",
    "tmp = lapply(lines,processLine)"
   ]
  },
  {
   "cell_type": "code",
   "execution_count": 24,
   "metadata": {
    "collapsed": false
   },
   "outputs": [
    {
     "name": "stderr",
     "output_type": "stream",
     "text": [
      "Warning message in matrix(tokens[c(2, 4, 6:8, 10)], nrow = nrow(tmp), ncol = 6, :\n",
      "\"data length exceeds size of matrix\"Warning message in matrix(tokens[c(2, 4, 6:8, 10)], nrow = nrow(tmp), ncol = 6, :\n",
      "\"data length exceeds size of matrix\"Warning message in matrix(tokens[c(2, 4, 6:8, 10)], nrow = nrow(tmp), ncol = 6, :\n",
      "\"data length exceeds size of matrix\"Warning message in matrix(tokens[c(2, 4, 6:8, 10)], nrow = nrow(tmp), ncol = 6, :\n",
      "\"data length exceeds size of matrix\"Warning message in matrix(tokens[c(2, 4, 6:8, 10)], nrow = nrow(tmp), ncol = 6, :\n",
      "\"data length exceeds size of matrix\"Warning message in matrix(tokens[c(2, 4, 6:8, 10)], nrow = nrow(tmp), ncol = 6, :\n",
      "\"data length exceeds size of matrix\""
     ]
    }
   ],
   "source": [
    "options(error=recover, warn=2)\n",
    "tmp = lapply(lines,processLine)"
   ]
  },
  {
   "cell_type": "code",
   "execution_count": 25,
   "metadata": {
    "collapsed": true
   },
   "outputs": [],
   "source": [
    "processLine =\n",
    "function(x)\n",
    "    {\n",
    "    tokens=strsplit(x,\"[;=,]\")[[1]]\n",
    "    if (length(tokens) == 10)\n",
    "        return(NULL)\n",
    "        \n",
    "    tmp = matrix(tokens[ - (1:10)], ncol=4, byrow=TRUE)\n",
    "    mat = cbind(matrix(tokens[c(2,4,6:8,10)], nrow=nrow(tmp),ncol=6,byrow=TRUE),tmp)\n",
    "}\n",
    "\n",
    "tmp=lapply(lines,processLine)\n",
    "offline = as.data.frame(do.call(\"rbind\",tmp),stringsAsFactors = FALSE)"
   ]
  },
  {
   "cell_type": "code",
   "execution_count": 26,
   "metadata": {
    "collapsed": false
   },
   "outputs": [
    {
     "data": {
      "text/html": [
       "<ol class=list-inline>\n",
       "\t<li>1181628</li>\n",
       "\t<li>10</li>\n",
       "</ol>\n"
      ],
      "text/latex": [
       "\\begin{enumerate*}\n",
       "\\item 1181628\n",
       "\\item 10\n",
       "\\end{enumerate*}\n"
      ],
      "text/markdown": [
       "1. 1181628\n",
       "2. 10\n",
       "\n",
       "\n"
      ],
      "text/plain": [
       "[1] 1181628      10"
      ]
     },
     "metadata": {},
     "output_type": "display_data"
    }
   ],
   "source": [
    "dim(offline)"
   ]
  },
  {
   "cell_type": "code",
   "execution_count": 27,
   "metadata": {
    "collapsed": true
   },
   "outputs": [],
   "source": [
    "names(offline) = c(\"time\", \"scanMac\", \"posX\", \"posY\", \"posZ\", \"orientation\", \"mac\", \"signal\", \"channel\", \"type\")"
   ]
  },
  {
   "cell_type": "code",
   "execution_count": 28,
   "metadata": {
    "collapsed": true
   },
   "outputs": [],
   "source": [
    "numVars = c(\"time\", \"posX\", \"posY\", \"posZ\", \"orientation\", \"signal\")\n",
    "offline[numVars] = lapply(offline[numVars], as.numeric)"
   ]
  },
  {
   "cell_type": "code",
   "execution_count": 29,
   "metadata": {
    "collapsed": false
   },
   "outputs": [
    {
     "data": {
      "text/html": [
       "<ol class=list-inline>\n",
       "\t<li>978443</li>\n",
       "\t<li>9</li>\n",
       "</ol>\n"
      ],
      "text/latex": [
       "\\begin{enumerate*}\n",
       "\\item 978443\n",
       "\\item 9\n",
       "\\end{enumerate*}\n"
      ],
      "text/markdown": [
       "1. 978443\n",
       "2. 9\n",
       "\n",
       "\n"
      ],
      "text/plain": [
       "[1] 978443      9"
      ]
     },
     "metadata": {},
     "output_type": "display_data"
    }
   ],
   "source": [
    "offline = offline[ offline$type == \"3\", ]\n",
    "offline = offline[, \"type\" != names(offline) ]\n",
    "dim(offline)"
   ]
  },
  {
   "cell_type": "code",
   "execution_count": 30,
   "metadata": {
    "collapsed": true
   },
   "outputs": [],
   "source": [
    "offline$rawTime = offline$time\n",
    "offline$time = offline$time / 1000\n",
    "class(offline$time) = c(\"POSIXt\", \"POSIXct\")"
   ]
  },
  {
   "cell_type": "code",
   "execution_count": 31,
   "metadata": {
    "collapsed": false
   },
   "outputs": [
    {
     "data": {
      "text/html": [
       "<dl class=dl-horizontal>\n",
       "\t<dt>time1</dt>\n",
       "\t\t<dd>'POSIXt'</dd>\n",
       "\t<dt>time2</dt>\n",
       "\t\t<dd>'POSIXct'</dd>\n",
       "\t<dt>scanMac</dt>\n",
       "\t\t<dd>'character'</dd>\n",
       "\t<dt>posX</dt>\n",
       "\t\t<dd>'numeric'</dd>\n",
       "\t<dt>posY</dt>\n",
       "\t\t<dd>'numeric'</dd>\n",
       "\t<dt>posZ</dt>\n",
       "\t\t<dd>'numeric'</dd>\n",
       "\t<dt>orientation</dt>\n",
       "\t\t<dd>'numeric'</dd>\n",
       "\t<dt>mac</dt>\n",
       "\t\t<dd>'character'</dd>\n",
       "\t<dt>signal</dt>\n",
       "\t\t<dd>'numeric'</dd>\n",
       "\t<dt>channel</dt>\n",
       "\t\t<dd>'character'</dd>\n",
       "\t<dt>rawTime</dt>\n",
       "\t\t<dd>'numeric'</dd>\n",
       "</dl>\n"
      ],
      "text/latex": [
       "\\begin{description*}\n",
       "\\item[time1] 'POSIXt'\n",
       "\\item[time2] 'POSIXct'\n",
       "\\item[scanMac] 'character'\n",
       "\\item[posX] 'numeric'\n",
       "\\item[posY] 'numeric'\n",
       "\\item[posZ] 'numeric'\n",
       "\\item[orientation] 'numeric'\n",
       "\\item[mac] 'character'\n",
       "\\item[signal] 'numeric'\n",
       "\\item[channel] 'character'\n",
       "\\item[rawTime] 'numeric'\n",
       "\\end{description*}\n"
      ],
      "text/markdown": [
       "time1\n",
       ":   'POSIXt'time2\n",
       ":   'POSIXct'scanMac\n",
       ":   'character'posX\n",
       ":   'numeric'posY\n",
       ":   'numeric'posZ\n",
       ":   'numeric'orientation\n",
       ":   'numeric'mac\n",
       ":   'character'signal\n",
       ":   'numeric'channel\n",
       ":   'character'rawTime\n",
       ":   'numeric'\n",
       "\n"
      ],
      "text/plain": [
       "      time1       time2     scanMac        posX        posY        posZ \n",
       "   \"POSIXt\"   \"POSIXct\" \"character\"   \"numeric\"   \"numeric\"   \"numeric\" \n",
       "orientation         mac      signal     channel     rawTime \n",
       "  \"numeric\" \"character\"   \"numeric\" \"character\"   \"numeric\" "
      ]
     },
     "metadata": {},
     "output_type": "display_data"
    }
   ],
   "source": [
    "unlist(lapply(offline,class))"
   ]
  },
  {
   "cell_type": "code",
   "execution_count": 32,
   "metadata": {
    "collapsed": false
   },
   "outputs": [
    {
     "data": {
      "text/plain": [
       "      time                          posX            posY             posZ  \n",
       " Min.   :2006-02-11 00:31:58   Min.   : 0.00   Min.   : 0.000   Min.   :0  \n",
       " 1st Qu.:2006-02-11 06:21:27   1st Qu.: 2.00   1st Qu.: 3.000   1st Qu.:0  \n",
       " Median :2006-02-11 12:57:58   Median :12.00   Median : 6.000   Median :0  \n",
       " Mean   :2006-02-16 07:57:37   Mean   :13.52   Mean   : 5.897   Mean   :0  \n",
       " 3rd Qu.:2006-02-19 07:52:40   3rd Qu.:23.00   3rd Qu.: 8.000   3rd Qu.:0  \n",
       " Max.   :2006-03-09 13:41:10   Max.   :33.00   Max.   :13.000   Max.   :0  \n",
       "  orientation        signal     \n",
       " Min.   :  0.0   Min.   :-99.0  \n",
       " 1st Qu.: 90.0   1st Qu.:-69.0  \n",
       " Median :180.0   Median :-60.0  \n",
       " Mean   :167.2   Mean   :-61.7  \n",
       " 3rd Qu.:270.0   3rd Qu.:-53.0  \n",
       " Max.   :359.9   Max.   :-25.0  "
      ]
     },
     "metadata": {},
     "output_type": "display_data"
    }
   ],
   "source": [
    "summary(offline[,numVars])"
   ]
  },
  {
   "cell_type": "code",
   "execution_count": 33,
   "metadata": {
    "collapsed": false
   },
   "outputs": [
    {
     "data": {
      "text/plain": [
       "                mac               channel                    scanMac      \n",
       " 00:0f:a3:39:e1:c0:145862   2462000000:189774   00:02:2D:21:0F:33:978443  \n",
       " 00:0f:a3:39:dd:cd:145619   2437000000:152124                             \n",
       " 00:14:bf:b1:97:8a:132962   2412000000:145619                             \n",
       " 00:14:bf:3b:c7:c6:126529   2432000000:126529                             \n",
       " 00:14:bf:b1:97:90:122315   2427000000:122315                             \n",
       " 00:14:bf:b1:97:8d:121325   2442000000:121325                             \n",
       " (Other)          :183831   (Other)   :120757                             "
      ]
     },
     "metadata": {},
     "output_type": "display_data"
    }
   ],
   "source": [
    "summary(sapply(offline[,c(\"mac\",\"channel\",\"scanMac\")],as.factor))"
   ]
  },
  {
   "cell_type": "code",
   "execution_count": 34,
   "metadata": {
    "collapsed": true
   },
   "outputs": [],
   "source": [
    "offline = offline[,!(names(offline) %in% c(\"scanMac\",\"posZ\"))]"
   ]
  },
  {
   "cell_type": "code",
   "execution_count": 35,
   "metadata": {
    "collapsed": false
   },
   "outputs": [
    {
     "data": {
      "text/html": [
       "203"
      ],
      "text/latex": [
       "203"
      ],
      "text/markdown": [
       "203"
      ],
      "text/plain": [
       "[1] 203"
      ]
     },
     "metadata": {},
     "output_type": "display_data"
    }
   ],
   "source": [
    "length(unique(offline$orientation))"
   ]
  },
  {
   "cell_type": "code",
   "execution_count": 36,
   "metadata": {
    "collapsed": false
   },
   "outputs": [
    {
     "data": {
      "image/png": "[encoded data removed]",
      "text/plain": [
       "Plot with title \"ecdf(offline$orientation)\""
      ]
     },
     "metadata": {},
     "output_type": "display_data"
    }
   ],
   "source": [
    "plot(ecdf(offline$orientation))"
   ]
  },
  {
   "cell_type": "code",
   "execution_count": 37,
   "metadata": {
    "collapsed": true
   },
   "outputs": [],
   "source": [
    "roundOrientation = function(angles) {\n",
    "    refs = seq(0, by = 45, length = 9)\n",
    "    q = sapply(angles, function(o) which.min(abs(o - refs)))\n",
    "        c(refs[1:8], 0)[q]\n",
    "}\n",
    "offline$angle = roundOrientation(offline$orientation)"
   ]
  },
  {
   "cell_type": "code",
   "execution_count": 38,
   "metadata": {
    "collapsed": false
   },
   "outputs": [
    {
     "data": {
      "image/png": "[encoded data removed]",
      "text/plain": [
       "plot without title"
      ]
     },
     "metadata": {},
     "output_type": "display_data"
    }
   ],
   "source": [
    "with(offline, boxplot(orientation ~ angle, xlab=\"nearest 45 degree angle\", ylab=\"orientation\"))"
   ]
  },
  {
   "cell_type": "code",
   "execution_count": 39,
   "metadata": {
    "collapsed": false
   },
   "outputs": [
    {
     "data": {
      "text/html": [
       "<ol class=list-inline>\n",
       "\t<li>12</li>\n",
       "\t<li>8</li>\n",
       "</ol>\n"
      ],
      "text/latex": [
       "\\begin{enumerate*}\n",
       "\\item 12\n",
       "\\item 8\n",
       "\\end{enumerate*}\n"
      ],
      "text/markdown": [
       "1. 12\n",
       "2. 8\n",
       "\n",
       "\n"
      ],
      "text/plain": [
       "[1] 12  8"
      ]
     },
     "metadata": {},
     "output_type": "display_data"
    }
   ],
   "source": [
    "c(length(unique(offline$mac)), length(unique(offline$channel)))"
   ]
  },
  {
   "cell_type": "code",
   "execution_count": 40,
   "metadata": {
    "collapsed": false
   },
   "outputs": [
    {
     "data": {
      "text/plain": [
       "\n",
       "00:04:0e:5c:23:fc 00:0f:a3:39:dd:cd 00:0f:a3:39:e0:4b 00:0f:a3:39:e1:c0 \n",
       "              418            145619             43508            145862 \n",
       "00:0f:a3:39:e2:10 00:14:bf:3b:c7:c6 00:14:bf:b1:97:81 00:14:bf:b1:97:8a \n",
       "            19162            126529            120339            132962 \n",
       "00:14:bf:b1:97:8d 00:14:bf:b1:97:90 00:30:bd:f8:7f:c5 00:e0:63:82:8b:a9 \n",
       "           121325            122315               301               103 "
      ]
     },
     "metadata": {},
     "output_type": "display_data"
    }
   ],
   "source": [
    "table(offline$mac)"
   ]
  },
  {
   "cell_type": "code",
   "execution_count": 41,
   "metadata": {
    "collapsed": true
   },
   "outputs": [],
   "source": [
    "subMacs = names(sort(table(offline$mac),decreasing=TRUE))[1:7]\n",
    "offline = offline[offline$mac %in% subMacs,]"
   ]
  },
  {
   "cell_type": "code",
   "execution_count": 42,
   "metadata": {
    "collapsed": false
   },
   "outputs": [
    {
     "data": {
      "text/html": [
       "<dl class=dl-horizontal>\n",
       "\t<dt>00:0f:a3:39:dd:cd</dt>\n",
       "\t\t<dd>1</dd>\n",
       "\t<dt>00:0f:a3:39:e1:c0</dt>\n",
       "\t\t<dd>1</dd>\n",
       "\t<dt>00:14:bf:3b:c7:c6</dt>\n",
       "\t\t<dd>1</dd>\n",
       "\t<dt>00:14:bf:b1:97:81</dt>\n",
       "\t\t<dd>1</dd>\n",
       "\t<dt>00:14:bf:b1:97:8a</dt>\n",
       "\t\t<dd>1</dd>\n",
       "\t<dt>00:14:bf:b1:97:8d</dt>\n",
       "\t\t<dd>1</dd>\n",
       "\t<dt>00:14:bf:b1:97:90</dt>\n",
       "\t\t<dd>1</dd>\n",
       "</dl>\n"
      ],
      "text/latex": [
       "\\begin{description*}\n",
       "\\item[00:0f:a3:39:dd:cd] 1\n",
       "\\item[00:0f:a3:39:e1:c0] 1\n",
       "\\item[00:14:bf:3b:c7:c6] 1\n",
       "\\item[00:14:bf:b1:97:81] 1\n",
       "\\item[00:14:bf:b1:97:8a] 1\n",
       "\\item[00:14:bf:b1:97:8d] 1\n",
       "\\item[00:14:bf:b1:97:90] 1\n",
       "\\end{description*}\n"
      ],
      "text/markdown": [
       "00:0f:a3:39:dd:cd\n",
       ":   100:0f:a3:39:e1:c0\n",
       ":   100:14:bf:3b:c7:c6\n",
       ":   100:14:bf:b1:97:81\n",
       ":   100:14:bf:b1:97:8a\n",
       ":   100:14:bf:b1:97:8d\n",
       ":   100:14:bf:b1:97:90\n",
       ":   1\n",
       "\n"
      ],
      "text/plain": [
       "00:0f:a3:39:dd:cd 00:0f:a3:39:e1:c0 00:14:bf:3b:c7:c6 00:14:bf:b1:97:81 \n",
       "                1                 1                 1                 1 \n",
       "00:14:bf:b1:97:8a 00:14:bf:b1:97:8d 00:14:bf:b1:97:90 \n",
       "                1                 1                 1 "
      ]
     },
     "metadata": {},
     "output_type": "display_data"
    }
   ],
   "source": [
    "macChannel = with(offline, table(mac, channel))\n",
    "apply(macChannel, 1, function(x) sum(x > 0))"
   ]
  },
  {
   "cell_type": "code",
   "execution_count": 43,
   "metadata": {
    "collapsed": true
   },
   "outputs": [],
   "source": [
    "offline = offline[, \"channel\" != names(offline)]"
   ]
  },
  {
   "cell_type": "code",
   "execution_count": 44,
   "metadata": {
    "collapsed": false
   },
   "outputs": [
    {
     "data": {
      "text/html": [
       "476"
      ],
      "text/latex": [
       "476"
      ],
      "text/markdown": [
       "476"
      ],
      "text/plain": [
       "[1] 476"
      ]
     },
     "metadata": {},
     "output_type": "display_data"
    }
   ],
   "source": [
    "locDF = with(offline, by(offline, list(posX, posY), function(x) x))\n",
    "length(locDF)"
   ]
  },
  {
   "cell_type": "code",
   "execution_count": 45,
   "metadata": {
    "collapsed": false
   },
   "outputs": [
    {
     "data": {
      "text/html": [
       "310"
      ],
      "text/latex": [
       "310"
      ],
      "text/markdown": [
       "310"
      ],
      "text/plain": [
       "[1] 310"
      ]
     },
     "metadata": {},
     "output_type": "display_data"
    }
   ],
   "source": [
    "sum(sapply(locDF, is.null))"
   ]
  },
  {
   "cell_type": "code",
   "execution_count": 47,
   "metadata": {
    "collapsed": false
   },
   "outputs": [
    {
     "data": {
      "text/html": [
       "166"
      ],
      "text/latex": [
       "166"
      ],
      "text/markdown": [
       "166"
      ],
      "text/plain": [
       "[1] 166"
      ]
     },
     "metadata": {},
     "output_type": "display_data"
    }
   ],
   "source": [
    "locDF = locDF[ !sapply(locDF, is.null)]\n",
    "length(locDF)"
   ]
  },
  {
   "cell_type": "code",
   "execution_count": 48,
   "metadata": {
    "collapsed": false
   },
   "outputs": [
    {
     "data": {
      "text/html": [
       "'matrix'"
      ],
      "text/latex": [
       "'matrix'"
      ],
      "text/markdown": [
       "'matrix'"
      ],
      "text/plain": [
       "[1] \"matrix\""
      ]
     },
     "metadata": {},
     "output_type": "display_data"
    }
   ],
   "source": [
    "locCounts = sapply(locDF, nrow)\n",
    "locCounts = sapply(locDF, function(df) c(df[1, c(\"posX\", \"posY\")], count=nrow(df)))\n",
    "class(locCounts)"
   ]
  },
  {
   "cell_type": "code",
   "execution_count": 49,
   "metadata": {
    "collapsed": false
   },
   "outputs": [
    {
     "data": {
      "text/html": [
       "<ol class=list-inline>\n",
       "\t<li>3</li>\n",
       "\t<li>166</li>\n",
       "</ol>\n"
      ],
      "text/latex": [
       "\\begin{enumerate*}\n",
       "\\item 3\n",
       "\\item 166\n",
       "\\end{enumerate*}\n"
      ],
      "text/markdown": [
       "1. 3\n",
       "2. 166\n",
       "\n",
       "\n"
      ],
      "text/plain": [
       "[1]   3 166"
      ]
     },
     "metadata": {},
     "output_type": "display_data"
    }
   ],
   "source": [
    "dim(locCounts)"
   ]
  },
  {
   "cell_type": "code",
   "execution_count": 50,
   "metadata": {
    "collapsed": false
   },
   "outputs": [
    {
     "data": {
      "text/html": [
       "<table>\n",
       "<tbody>\n",
       "\t<tr><th scope=row>posX</th><td>0</td><td>1</td><td>2</td><td>0</td><td>1</td><td>2</td><td>0</td><td>1</td></tr>\n",
       "\t<tr><th scope=row>posY</th><td>0</td><td>0</td><td>0</td><td>1</td><td>1</td><td>1</td><td>2</td><td>2</td></tr>\n",
       "\t<tr><th scope=row>count</th><td>5505</td><td>5505</td><td>5506</td><td>5524</td><td>5543</td><td>5558</td><td>5503</td><td>5564</td></tr>\n",
       "</tbody>\n",
       "</table>\n"
      ],
      "text/latex": [
       "\\begin{tabular}{r|llllllll}\n",
       "\tposX & 0 & 1 & 2 & 0 & 1 & 2 & 0 & 1\\\\\n",
       "\tposY & 0 & 0 & 0 & 1 & 1 & 1 & 2 & 2\\\\\n",
       "\tcount & 5505 & 5505 & 5506 & 5524 & 5543 & 5558 & 5503 & 5564\\\\\n",
       "\\end{tabular}\n"
      ],
      "text/markdown": [
       "\n",
       "| posX | 0 | 1 | 2 | 0 | 1 | 2 | 0 | 1 | \n",
       "| posY | 0 | 0 | 0 | 1 | 1 | 1 | 2 | 2 | \n",
       "| count | 5505 | 5505 | 5506 | 5524 | 5543 | 5558 | 5503 | 5564 | \n",
       "\n",
       "\n"
      ],
      "text/plain": [
       "      [,1] [,2] [,3] [,4] [,5] [,6] [,7] [,8]\n",
       "posX  0    1    2    0    1    2    0    1   \n",
       "posY  0    0    0    1    1    1    2    2   \n",
       "count 5505 5505 5506 5524 5543 5558 5503 5564"
      ]
     },
     "metadata": {},
     "output_type": "display_data"
    }
   ],
   "source": [
    "locCounts[,1:8]"
   ]
  },
  {
   "cell_type": "code",
   "execution_count": 51,
   "metadata": {
    "collapsed": false
   },
   "outputs": [
    {
     "data": {
      "image/png": "[encoded data removed]",
      "text/plain": [
       "plot without title"
      ]
     },
     "metadata": {},
     "output_type": "display_data"
    }
   ],
   "source": [
    "locCounts = t(locCounts)\n",
    "plot(locCounts, type=\"n\", xlab=\"\", ylab=\"\")\n",
    "text(locCounts, labels=locCounts[,3], cex=.8, srt=45)"
   ]
  },
  {
   "cell_type": "code",
   "execution_count": 54,
   "metadata": {
    "collapsed": false
   },
   "outputs": [],
   "source": [
    "readData = function(file){\n",
    "    lines = readLines(file)\n",
    "    records = lines[substr(lines,1,1) != \"#\"]\n",
    "    tmp=lapply(records,processLine)\n",
    "    dataFrame = as.data.frame(do.call(\"rbind\",tmp),stringsAsFactors = FALSE)\n",
    "    names(dataFrame) = c(\"time\", \"scanMac\", \"posX\", \"posY\", \"posZ\", \"orientation\", \"mac\", \"signal\", \"channel\", \"type\")\n",
    "    numVars = c(\"time\", \"posX\", \"posY\", \"posZ\", \"orientation\", \"signal\")\n",
    "    dataFrame[numVars] = lapply(dataFrame[numVars], as.numeric)\n",
    "    dataFrame = dataFrame[ dataFrame$type == \"3\", ]\n",
    "    dataFrame = dataFrame[, \"type\" != names(dataFrame) ]\n",
    "    dataFrame$rawTime = dataFrame$time\n",
    "    dataFrame$time = dataFrame$time / 1000\n",
    "    class(dataFrame$time) = c(\"POSIXt\", \"POSIXct\")\n",
    "    dataFrame = dataFrame[,!(names(dataFrame) %in% c(\"scanMac\",\"posZ\"))]\n",
    "    dataFrame$angle = roundOrientation(dataFrame$orientation)\n",
    "    subMacs = names(sort(table(dataFrame$mac),decreasing=TRUE))[1:7]\n",
    "    dataFrame = dataFrame[dataFrame$mac %in% subMacs,]\n",
    "    dataFrame = dataFrame[, \"channel\" != names(dataFrame)]\n",
    "}\n",
    "\n",
    "offlineRedo = readData(\"offline.final.trace.txt\")"
   ]
  },
  {
   "cell_type": "code",
   "execution_count": 56,
   "metadata": {
    "collapsed": false
   },
   "outputs": [
    {
     "data": {
      "text/html": [
       "TRUE"
      ],
      "text/latex": [
       "TRUE"
      ],
      "text/markdown": [
       "TRUE"
      ],
      "text/plain": [
       "[1] TRUE"
      ]
     },
     "metadata": {},
     "output_type": "display_data"
    }
   ],
   "source": [
    "identical(offline, offlineRedo)"
   ]
  },
  {
   "cell_type": "code",
   "execution_count": 57,
   "metadata": {
    "collapsed": false
   },
   "outputs": [
    {
     "data": {
      "text/html": [
       "<ol class=list-inline>\n",
       "\t<li>'as.numeric'</li>\n",
       "\t<li>'processLine'</li>\n",
       "</ol>\n"
      ],
      "text/latex": [
       "\\begin{enumerate*}\n",
       "\\item 'as.numeric'\n",
       "\\item 'processLine'\n",
       "\\end{enumerate*}\n"
      ],
      "text/markdown": [
       "1. 'as.numeric'\n",
       "2. 'processLine'\n",
       "\n",
       "\n"
      ],
      "text/plain": [
       "[1] \"as.numeric\"  \"processLine\""
      ]
     },
     "metadata": {},
     "output_type": "display_data"
    }
   ],
   "source": [
    "library(codetools)\n",
    "findGlobals(readData, merge = FALSE)$variables"
   ]
  },
  {
   "cell_type": "code",
   "execution_count": 63,
   "metadata": {
    "collapsed": false
   },
   "outputs": [
    {
     "data": {},
     "metadata": {},
     "output_type": "display_data"
    },
    {
     "data": {
      "image/png": "[encoded data removed]",
      "text/plain": [
       "plot without title"
      ]
     },
     "metadata": {},
     "output_type": "display_data"
    }
   ],
   "source": [
    "library(lattice)\n",
    "bwplot(signal ~ factor(angle) | mac, data=offline, subset = posX == 2 & posY == 12 & mac != \"00:0f:a3:39:dd:cd\", layout=c(2,3))"
   ]
  },
  {
   "cell_type": "code",
   "execution_count": 64,
   "metadata": {
    "collapsed": false
   },
   "outputs": [
    {
     "data": {
      "text/plain": [
       "   Min. 1st Qu.  Median    Mean 3rd Qu.    Max. \n",
       " -98.00  -67.00  -59.00  -59.92  -53.00  -25.00 "
      ]
     },
     "metadata": {},
     "output_type": "display_data"
    }
   ],
   "source": [
    "summary(offline$signal)"
   ]
  },
  {
   "cell_type": "code",
   "execution_count": 65,
   "metadata": {
    "collapsed": false
   },
   "outputs": [
    {
     "data": {},
     "metadata": {},
     "output_type": "display_data"
    },
    {
     "data": {
      "image/png": "[encoded data removed]",
      "text/plain": [
       "plot without title"
      ]
     },
     "metadata": {},
     "output_type": "display_data"
    }
   ],
   "source": [
    "densityplot( ~ signal | mac + factor(angle), data=offline, subset= posX == 24 & posY == 4 & mac != \"00:0f:a3:39:dd:cd\", bw = 0.5, plot.points = FALSE)"
   ]
  },
  {
   "cell_type": "code",
   "execution_count": 66,
   "metadata": {
    "collapsed": true
   },
   "outputs": [],
   "source": [
    "offline$posXY = paste(offline$posX, offline$posY, sep = \"-\")"
   ]
  },
  {
   "cell_type": "code",
   "execution_count": 67,
   "metadata": {
    "collapsed": true
   },
   "outputs": [],
   "source": [
    "byLocAngleAP = with(offline, by(offline, list(posXY, angle, mac), function(x) x))"
   ]
  },
  {
   "cell_type": "code",
   "execution_count": 68,
   "metadata": {
    "collapsed": true
   },
   "outputs": [],
   "source": [
    "signalSummary = lapply(byLocAngleAP, function(oneLoc) {\n",
    "    ans = oneLoc[1,]\n",
    "    ans$medSignal = median(oneLoc$signal)\n",
    "    ans$avgSignal = mean(oneLoc$signal)\n",
    "    ans$num = length(oneLoc$signal)\n",
    "    ans$sdSignal = sd(oneLoc$signal)\n",
    "    ans$iqrSignal = IQR(oneLoc$signal)\n",
    "    ans\n",
    "})\n",
    "offlineSummary = do.call(\"rbind\",signalSummary)"
   ]
  },
  {
   "cell_type": "code",
   "execution_count": 69,
   "metadata": {
    "collapsed": false
   },
   "outputs": [
    {
     "data": {},
     "metadata": {},
     "output_type": "display_data"
    },
    {
     "data": {
      "image/png": "[encoded data removed]",
      "text/plain": [
       "plot without title"
      ]
     },
     "metadata": {},
     "output_type": "display_data"
    }
   ],
   "source": [
    "breaks = seq(-90, -30, by = 5)\n",
    "bwplot(sdSignal ~ cut(avgSignal, breaks=breaks),\n",
    "       data=offlineSummary,\n",
    "       subset = mac != \"00:0f:a3:39:dd:cd\", \n",
    "       xlab=\"Mean Signal\", ylab=\"SD Signal\")"
   ]
  },
  {
   "cell_type": "code",
   "execution_count": 71,
   "metadata": {
    "collapsed": false
   },
   "outputs": [
    {
     "data": {
      "image/png": "[encoded data removed]",
      "text/plain": [
       "plot without title"
      ]
     },
     "metadata": {},
     "output_type": "display_data"
    }
   ],
   "source": [
    "with(offlineSummary,\n",
    "    smoothScatter((avgSignal - medSignal) ~ num, \n",
    "                 xlab = \"Number of Observations\",\n",
    "                 ylab = \"mean - median\"))\n",
    "abline(h = 0, col = \"#984ea3\", lwd=2)\n",
    "\n",
    "lo.obj =\n",
    "  with(offlineSummary,\n",
    "      loess(diff ~ num,\n",
    "           data = data.frame(diff = (avgSignal - medSignal),\n",
    "                            num = num)))\n",
    "\n",
    "lo.obj.pr = predict(lo.obj, newdata = data.frame(num = (70:120)))\n",
    "lines(x = 70:120, y = lo.obj.pr, col = \"#4daf4a\", lwd=2)"
   ]
  },
  {
   "cell_type": "code",
   "execution_count": 72,
   "metadata": {
    "collapsed": true
   },
   "outputs": [],
   "source": [
    "oneAPAngle = subset(offline, mac == subMacs[5] & angle == 0)"
   ]
  },
  {
   "cell_type": "code",
   "execution_count": 73,
   "metadata": {
    "collapsed": false
   },
   "outputs": [
    {
     "ename": "ERROR",
     "evalue": "Error in library(fields): there is no package called 'fields'\n",
     "output_type": "error",
     "traceback": [
      "Error in library(fields): there is no package called 'fields'\nTraceback:\n",
      "1. library(fields)",
      "2. stop(txt, domain = NA)"
     ]
    }
   ],
   "source": [
    "library(fields)\n",
    "smoothSS = Tps(oneAPAngle[, c(\"posX\", \"posY\")], oneAPAngle$avgSignal)"
   ]
  },
  {
   "cell_type": "code",
   "execution_count": null,
   "metadata": {
    "collapsed": true
   },
   "outputs": [],
   "source": []
  }
 ],
 "metadata": {
  "celltoolbar": "Raw Cell Format",
  "kernelspec": {
   "display_name": "R",
   "language": "R",
   "name": "ir"
  },
  "language_info": {
   "codemirror_mode": "r",
   "file_extension": ".r",
   "mimetype": "text/x-r-source",
   "name": "R",
   "pygments_lexer": "r",
   "version": "3.3.2"
  }
 },
 "nbformat": 4,
 "nbformat_minor": 0
}
