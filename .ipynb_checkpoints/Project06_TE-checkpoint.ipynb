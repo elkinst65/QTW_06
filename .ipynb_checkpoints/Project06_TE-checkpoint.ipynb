{
 "cells": [
  {
   "cell_type": "code",
   "execution_count": 2,
   "metadata": {
    "collapsed": false
   },
   "outputs": [
    {
     "name": "stdout",
     "output_type": "stream",
     "text": [
      "151392\n",
      "146080\n",
      "5312\n"
     ]
    }
   ],
   "source": [
    "nRec = 0\n",
    "\n",
    "with open(\"offline.final.trace.txt\",\"r\") as offline:\n",
    "    records = offline.readlines()\n",
    "\n",
    "# Book reports 151,392 records\n",
    "print(len(records))\n",
    "\n",
    "for record in records:\n",
    "    if (record.strip()[0] != \"#\") :\n",
    "        nRec += 1\n",
    "        \n",
    "# Book reports 146,080 data records\n",
    "print(nRec)\n",
    "\n",
    "# Book reports 5312 non-data records\n",
    "print(len(records) - nRec)"
   ]
  },
  {
   "cell_type": "code",
   "execution_count": 3,
   "metadata": {
    "collapsed": false
   },
   "outputs": [
    {
     "name": "stdout",
     "output_type": "stream",
     "text": [
      "['t=1139643118358', 'id=00:02:2D:21:0F:33', 'pos=0.0,0.0,0.0', 'degree=0.0', '00:14:bf:b1:97:8a=-38,2437000000,3', '00:14:bf:b1:97:90=-56,2427000000,3', '00:0f:a3:39:e1:c0=-53,2462000000,3', '00:14:bf:b1:97:8d=-65,2442000000,3', '00:14:bf:b1:97:81=-65,2422000000,3', '00:14:bf:3b:c7:c6=-66,2432000000,3', '00:0f:a3:39:dd:cd=-75,2412000000,3', '00:0f:a3:39:e0:4b=-78,2462000000,3', '00:0f:a3:39:e2:10=-87,2437000000,3', '02:64:fb:68:52:e6=-88,2447000000,1', '02:00:42:55:31:00=-84,2457000000,1']\n",
      "15\n"
     ]
    }
   ],
   "source": [
    "print(records[3].strip().split(\";\"))\n",
    "print(len(records[3].strip().split(\";\")))"
   ]
  },
  {
   "cell_type": "code",
   "execution_count": 7,
   "metadata": {
    "collapsed": false
   },
   "outputs": [
    {
     "name": "stdout",
     "output_type": "stream",
     "text": [
      "1181628\n",
      "{'rawOrient': 315.7, 'timestamp': 1141936870456.0, 'targetID': '00:02:2D:21:0F:33', 'posZ': 0.0, 'posX': 20.0, 'posY': 8.0, 'orient': 315.0}\n",
      "[1139643118358.0, '02:00:42:55:31:00', -84.0, 2457000000.0, 1]\n",
      "[1141936870456.0, '02:b7:00:bb:a9:35', -72.0, 2447000000.0, 1]\n"
     ]
    }
   ],
   "source": [
    "truth = {}\n",
    "perception = []\n",
    "p_index = 0\n",
    "\n",
    "# Loop through the records\n",
    "for record in records:\n",
    "    # Ignore the comment lines\n",
    "    if (record.strip()[0] != \"#\"):\n",
    "        # Split the data records on semi-colon\n",
    "        data_elements = record.split(\";\")\n",
    "        num_items = len(data_elements)\n",
    "        '''\n",
    "        [0] = t = timestamp\n",
    "        [1] = id = MAC address of target device\n",
    "        [2] = pos = comma-delimited X,Y,Z location of target device\n",
    "        [3] = degree = orientation of target device\n",
    "        [4]-[n] = Perception data from various access points and ad hoc devices\n",
    "        \n",
    "        Fields 0-3 are truth data, 4-n are perception data\n",
    "        '''\n",
    "        \n",
    "        # Parse truth values from fields\n",
    "        t_params = {}\n",
    "        \n",
    "        timestamp = float(data_elements[0].split(\"=\")[1])\n",
    "        t_params[\"timestamp\"] = timestamp\n",
    "        t_params[\"targetID\"] = data_elements[1].split(\"=\")[1]\n",
    "        pos_data = data_elements[2].split(\"=\")[1].split(\",\")\n",
    "        t_params[\"posX\"] = float(pos_data[0])\n",
    "        t_params[\"posY\"] = float(pos_data[1])\n",
    "        t_params[\"posZ\"] = float(pos_data[2])\n",
    "        raw_orient = float(data_elements[3].split(\"=\")[1])\n",
    "        t_params[\"rawOrient\"] = raw_orient\n",
    "        o_skew = raw_orient % 45.0\n",
    "        if (o_skew < 22.5):\n",
    "            t_params[\"orient\"] = raw_orient - o_skew\n",
    "        else:\n",
    "            t_params[\"orient\"] = raw_orient + (45 - o_skew)\n",
    "        if (t_params[\"orient\"] == 360.0):\n",
    "            t_params[\"orient\"] = 0.0\n",
    "        \n",
    "        # Add this data to the truth object, referenced by timestamp (so we can search by timestamp)\n",
    "        truth[timestamp] = t_params\n",
    "        \n",
    "        # The rest are perception data, so we loop through those and add individual records for each measurement\n",
    "        '''\n",
    "        Perception data is in the form: MAC=amplitude,freq,type\n",
    "        Split on '=' to get\n",
    "         [0] : ID\n",
    "         [1] : measurements\n",
    "        '''\n",
    "        if (num_items > 4):\n",
    "            for iMeas in range(4,num_items):\n",
    "                p_parts = data_elements[iMeas].split(\"=\")\n",
    "                sensor_id = p_parts[0]\n",
    "                measurements = p_parts[1].strip().split(\",\")\n",
    "                \n",
    "                '''\n",
    "                measurements:\n",
    "                 [0] = amplitude\n",
    "                 [1] = frequency\n",
    "                 [2] = type\n",
    "                '''\n",
    "                # Create a list of perception data\n",
    "                p_params = [float(timestamp), sensor_id, float(measurements[0]),float(measurements[1]),int(measurements[2])]\n",
    "                \n",
    "                # Add this data to the perception object referenced by simple index\n",
    "                perception.append(p_params)\n",
    "                p_index += 1\n",
    "                \n",
    "# Book reports 1,181,628 measurements\n",
    "print(p_index)\n",
    "\n",
    "# Last timestamp in the data is 1141936870456\n",
    "print(truth[1141936870456])\n",
    "\n",
    "# Last perception data in first record: 02:00:42:55:31:00=-84,2457000000,1\n",
    "print(perception[10])\n",
    "\n",
    "# Last perception data in the file: 02:b7:00:bb:a9:35=-72,2447000000,1\n",
    "print(perception[p_index-1])"
   ]
  },
  {
   "cell_type": "code",
   "execution_count": 18,
   "metadata": {
    "collapsed": false
   },
   "outputs": [
    {
     "name": "stdout",
     "output_type": "stream",
     "text": [
      "[1139643118744.0, '00:0f:a3:39:e1:c0', -54.0, 2462000000.0, 3]\n"
     ]
    }
   ],
   "source": [
    "print(perception[12])"
   ]
  },
  {
   "cell_type": "code",
   "execution_count": null,
   "metadata": {
    "collapsed": true
   },
   "outputs": [],
   "source": []
  }
 ],
 "metadata": {
  "kernelspec": {
   "display_name": "Python 3",
   "language": "python",
   "name": "python3"
  },
  "language_info": {
   "codemirror_mode": {
    "name": "ipython",
    "version": 3
   },
   "file_extension": ".py",
   "mimetype": "text/x-python",
   "name": "python",
   "nbconvert_exporter": "python",
   "pygments_lexer": "ipython3",
   "version": "3.6.0"
  }
 },
 "nbformat": 4,
 "nbformat_minor": 0
}
